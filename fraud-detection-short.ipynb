{
 "cells": [
  {
   "cell_type": "code",
   "execution_count": 4,
   "metadata": {
    "execution": {
     "iopub.execute_input": "2023-09-05T17:48:58.967050Z",
     "iopub.status.busy": "2023-09-05T17:48:58.966615Z",
     "iopub.status.idle": "2023-09-05T17:49:00.085813Z",
     "shell.execute_reply": "2023-09-05T17:49:00.084487Z",
     "shell.execute_reply.started": "2023-09-05T17:48:58.967014Z"
    },
    "trusted": true
   },
   "outputs": [],
   "source": [
    "import numpy as np\n",
    "import pandas as pd\n",
    "from load_clean_data import load_data, clean_data, oversample"
   ]
  },
  {
   "cell_type": "markdown",
   "metadata": {},
   "source": [
    "<div style=\"background-color: #3498db; border-radius: 10px; text-align: center; padding: 10px;\">\n",
    "    <h1>Data Loading</h1>\n",
    "</div>\n"
   ]
  },
  {
   "cell_type": "code",
   "execution_count": 6,
   "metadata": {},
   "outputs": [],
   "source": [
    "# Cargar y limpiar datos\n",
    "data = load_data()\n",
    "cleandata, X, Y = clean_data(data)\n",
    "x_resampled, y_resampled = oversample(X, Y)"
   ]
  },
  {
   "cell_type": "markdown",
   "metadata": {},
   "source": [
    "<div style=\"background-color:rgb(174, 186, 213); border-radius: 10px; text-align: center; padding: 20px;\">\n",
    "    <h1 style=\"color: black;\">MLFlow</h1>\n",
    "</div>\n"
   ]
  },
  {
   "cell_type": "markdown",
   "metadata": {},
   "source": [
    "### Configuracion MLFLow"
   ]
  },
  {
   "cell_type": "code",
   "execution_count": 4,
   "metadata": {},
   "outputs": [
    {
     "name": "stdout",
     "output_type": "stream",
     "text": [
      "Servidor MLflow iniciado con PID 2340\n"
     ]
    }
   ],
   "source": [
    "import subprocess\n",
    "\n",
    "# Ejecutar MLFlow en segundo plano\n",
    "# Simula ejecutar el comando \"mlflow server --host 127.0.0.1 --port 8080\"\n",
    "process = subprocess.Popen(\n",
    "    [\"mlflow\", \"server\", \"--host\", \"127.0.0.1\", \"--port\", \"8080\", \"--backend-store-uri\", \"sqlite:///C:/Users/camil/OneDrive/Escritorio/Tesis/proyectos/main/mlflowfiles/mlflow.db\", \"--default-artifact-root\", \"file:///C:/Users/camil/OneDrive/Escritorio/Tesis/proyectos/main/mlflowfiles/artifacts\"], \n",
    "    stdout=subprocess.PIPE,  # Captura la salida estándar\n",
    "    stderr=subprocess.PIPE   # Captura errores\n",
    ")\n",
    "\n",
    "print(f\"Servidor MLflow iniciado con PID {process.pid}\")\n"
   ]
  },
  {
   "cell_type": "code",
   "execution_count": 5,
   "metadata": {},
   "outputs": [
    {
     "data": {
      "text/plain": [
       "<Experiment: artifact_location='file:///c:/Users/camil/OneDrive/Escritorio/Tesis/proyectos/main/mlruns/631189094949625404', creation_time=1741097941384, experiment_id='631189094949625404', last_update_time=1741097941384, lifecycle_stage='active', name='logistic-regression-experiment', tags={}>"
      ]
     },
     "execution_count": 5,
     "metadata": {},
     "output_type": "execute_result"
    }
   ],
   "source": [
    "import mlflow\n",
    "from mlflow.models import infer_signature\n",
    "\n",
    "# Configurar SQLite como backend store\n",
    "#mlflow.set_tracking_uri(\"sqlite:///C:/Users/camil/OneDrive/Escritorio/Tesis/proyectos/main/mlflowfiles/mlflow.db\")\n",
    "\n",
    "# Definir la ubicación de los artefactos\n",
    "#mlflow.set_registry_uri(\"file:///C:/Users/camil/OneDrive/Escritorio/Tesis/proyectos/main/mlflowfiles/artifacts\")\n",
    "\n",
    "experiment_name = \"logistic-regression-experiment\"\n",
    "#mlflow.create_experiment(experiment_name, artifact_location=\"file:///C:/Users/camil/OneDrive/Escritorio/Tesis/proyectos/main/mlflowfiles/artifacts\")\n",
    "mlflow.set_experiment(experiment_name)\n"
   ]
  },
  {
   "cell_type": "markdown",
   "metadata": {},
   "source": [
    "<div style=\"background-color: #ccd5ae; border-radius: 10px; text-align: center; padding: 20px;\">\n",
    "    <h1 style=\"color: black;\">Data Modelling</h1>\n",
    "</div>"
   ]
  },
  {
   "cell_type": "markdown",
   "metadata": {},
   "source": [
    "### Train, test and splitting the data"
   ]
  },
  {
   "cell_type": "code",
   "execution_count": null,
   "metadata": {},
   "outputs": [],
   "source": [
    "#: Divide el dataset en dos subconjuntos:\n",
    "# - 80% de los datos será para entrenar el modelo\n",
    "# - 20% de los datos será para evaluar el modelo\n",
    "from sklearn.model_selection import train_test_split\n",
    "\n",
    "x_train, X_test, Y_train, Y_test = train_test_split(x_resampled,y_resampled,test_size=0.2)"
   ]
  },
  {
   "cell_type": "markdown",
   "metadata": {},
   "source": [
    "### Modelo de regresión logística"
   ]
  },
  {
   "cell_type": "code",
   "execution_count": null,
   "metadata": {
    "execution": {
     "iopub.execute_input": "2023-09-05T17:49:05.662011Z",
     "iopub.status.busy": "2023-09-05T17:49:05.661605Z",
     "iopub.status.idle": "2023-09-05T17:49:05.734522Z",
     "shell.execute_reply": "2023-09-05T17:49:05.732890Z",
     "shell.execute_reply.started": "2023-09-05T17:49:05.661980Z"
    },
    "trusted": true
   },
   "outputs": [
    {
     "name": "stdout",
     "output_type": "stream",
     "text": [
      "Accuracy: 0.935\n"
     ]
    }
   ],
   "source": [
    "from sklearn.linear_model import LogisticRegression\n",
    "from sklearn.metrics import accuracy_score, precision_score, recall_score, f1_score, confusion_matrix\n",
    "\n",
    "# Crear el modelo\n",
    "model = LogisticRegression()\n",
    "\n",
    "# Entrenar el modelo con los datos de entrenamiento\n",
    "model.fit(x_train, Y_train)\n",
    "\n",
    "# Realizar predicciones con los datos de prueba\n",
    "y_pred = model.predict(X_test)\n",
    "\n",
    "# Calcular precisión\n",
    "accuracy = accuracy_score(Y_test, y_pred)\n",
    "print(\"Accuracy:\", accuracy)"
   ]
  },
  {
   "cell_type": "markdown",
   "metadata": {},
   "source": [
    "#### Con MLFlow"
   ]
  },
  {
   "cell_type": "code",
   "execution_count": null,
   "metadata": {},
   "outputs": [
    {
     "name": "stderr",
     "output_type": "stream",
     "text": [
      "2025/03/04 11:19:01 INFO mlflow.tracking.fluent: Experiment with name 'logistic_regression_experiment' does not exist. Creating a new experiment.\n"
     ]
    },
    {
     "name": "stdout",
     "output_type": "stream",
     "text": [
      "registrado\n",
      "Run ID: 446817692fb0442f990b06954057a8c8\n",
      "info: <RunInfo: artifact_uri='file:///c:/Users/camil/OneDrive/Escritorio/Tesis/proyectos/main/mlruns/307746205249028002/446817692fb0442f990b06954057a8c8/artifacts', end_time=None, experiment_id='307746205249028002', lifecycle_stage='active', run_id='446817692fb0442f990b06954057a8c8', run_name='agreeable-chimp-336', run_uuid='446817692fb0442f990b06954057a8c8', start_time=1741097943139, status='RUNNING', user_id='Cami'>\n"
     ]
    },
    {
     "name": "stderr",
     "output_type": "stream",
     "text": [
      "Successfully registered model 'logistic-regression-experiment'.\n",
      "Created version '1' of model 'logistic-regression-experiment'.\n"
     ]
    }
   ],
   "source": [
    "from sklearn.linear_model import LogisticRegression\n",
    "from sklearn.metrics import accuracy_score, precision_score, recall_score, f1_score\n",
    "import mlflow\n",
    "from mlflow.models import infer_signature\n",
    "experiment_name = \"logistic_regression_experiment\"\n",
    "mlflow.set_experiment(experiment_name)\n",
    "\n",
    "# Definir parámetros del modelo\n",
    "params = {\n",
    "    \"solver\": \"lbfgs\",\n",
    "    \"max_iter\": 100,\n",
    "    \"random_state\": 42\n",
    "}\n",
    "\n",
    "with mlflow.start_run():\n",
    "    # Registrar parámetros\n",
    "    mlflow.log_params(params)\n",
    "\n",
    "    # Crear y entrenar el modelo\n",
    "    model = LogisticRegression(**params)\n",
    "    model.fit(x_train, Y_train)\n",
    "\n",
    "    # Hacer predicciones\n",
    "    y_pred = model.predict(X_test)\n",
    "\n",
    "    # Calcular métricas\n",
    "    accuracy = accuracy_score(Y_test, y_pred)\n",
    "    precision = precision_score(Y_test, y_pred, average=\"weighted\")\n",
    "    recall = recall_score(Y_test, y_pred, average=\"weighted\")\n",
    "    f1 = f1_score(Y_test, y_pred, average=\"weighted\")\n",
    "\n",
    "    # Registrar métricas\n",
    "    mlflow.log_metric(\"accuracy\", accuracy)\n",
    "    mlflow.log_metric(\"precision\", precision)\n",
    "    mlflow.log_metric(\"recall\", recall)\n",
    "    mlflow.log_metric(\"f1_score\", f1)\n",
    "\n",
    "    # Capturar firma del modelo\n",
    "    signature = infer_signature(x_train, model.predict(x_train))\n",
    "\n",
    "    # Registrar el modelo\n",
    "    mlflow.sklearn.log_model(\n",
    "    sk_model=model,\n",
    "    artifact_path=\"logistic_regression_model\",\n",
    "    signature=signature)\n",
    "\n",
    "    # Registrar el modelo en MLflow Model Registry\n",
    "    mlflow.register_model(\n",
    "        f\"runs:/{mlflow.active_run().info.run_id}/logistic_regression_model\",\n",
    "        \"logistic-regression-experiment\"\n",
    "    )\n",
    "    \n",
    "    print(\"registrado\")\n",
    "\n",
    "\n",
    "    print(f\"Run ID: {mlflow.active_run().info.run_id}\")  # Identificador único de este experimento\n",
    "\n",
    "    print(f\"info: {mlflow.active_run().info}\")"
   ]
  },
  {
   "cell_type": "markdown",
   "metadata": {},
   "source": [
    "High accuracy is not often a good thing in a machine learning model as it states the problem of imbalanced dataset"
   ]
  },
  {
   "cell_type": "code",
   "execution_count": 1,
   "metadata": {
    "execution": {
     "iopub.execute_input": "2023-09-05T17:49:05.736359Z",
     "iopub.status.busy": "2023-09-05T17:49:05.735998Z",
     "iopub.status.idle": "2023-09-05T17:49:06.012087Z",
     "shell.execute_reply": "2023-09-05T17:49:06.010590Z",
     "shell.execute_reply.started": "2023-09-05T17:49:05.736330Z"
    },
    "trusted": true
   },
   "outputs": [
    {
     "ename": "KeyboardInterrupt",
     "evalue": "",
     "output_type": "error",
     "traceback": [
      "\u001b[1;31m---------------------------------------------------------------------------\u001b[0m",
      "\u001b[1;31mKeyboardInterrupt\u001b[0m                         Traceback (most recent call last)",
      "Cell \u001b[1;32mIn[1], line 1\u001b[0m\n\u001b[1;32m----> 1\u001b[0m \u001b[38;5;28;01mimport\u001b[39;00m \u001b[38;5;21;01mseaborn\u001b[39;00m \u001b[38;5;28;01mas\u001b[39;00m \u001b[38;5;21;01msns\u001b[39;00m\n\u001b[0;32m      2\u001b[0m \u001b[38;5;28;01mimport\u001b[39;00m \u001b[38;5;21;01mmatplotlib\u001b[39;00m\u001b[38;5;21;01m.\u001b[39;00m\u001b[38;5;21;01mpyplot\u001b[39;00m \u001b[38;5;28;01mas\u001b[39;00m \u001b[38;5;21;01mplt\u001b[39;00m\n\u001b[0;32m      4\u001b[0m \u001b[38;5;66;03m# Assuming you have a DataFrame 'df' with a 'FraudIndicator' column\u001b[39;00m\n\u001b[0;32m      5\u001b[0m \u001b[38;5;66;03m# Load your data into the DataFrame if not already done\u001b[39;00m\n\u001b[0;32m      6\u001b[0m \n\u001b[0;32m      7\u001b[0m \u001b[38;5;66;03m# Create a count plot for the 'FraudIndicator' column\u001b[39;00m\n",
      "File \u001b[1;32mc:\\Users\\camil\\AppData\\Local\\Programs\\Python\\Python311\\Lib\\site-packages\\seaborn\\__init__.py:5\u001b[0m\n\u001b[0;32m      3\u001b[0m \u001b[38;5;28;01mfrom\u001b[39;00m \u001b[38;5;21;01m.\u001b[39;00m\u001b[38;5;21;01mutils\u001b[39;00m \u001b[38;5;28;01mimport\u001b[39;00m \u001b[38;5;241m*\u001b[39m  \u001b[38;5;66;03m# noqa: F401,F403\u001b[39;00m\n\u001b[0;32m      4\u001b[0m \u001b[38;5;28;01mfrom\u001b[39;00m \u001b[38;5;21;01m.\u001b[39;00m\u001b[38;5;21;01mpalettes\u001b[39;00m \u001b[38;5;28;01mimport\u001b[39;00m \u001b[38;5;241m*\u001b[39m  \u001b[38;5;66;03m# noqa: F401,F403\u001b[39;00m\n\u001b[1;32m----> 5\u001b[0m \u001b[38;5;28;01mfrom\u001b[39;00m \u001b[38;5;21;01m.\u001b[39;00m\u001b[38;5;21;01mrelational\u001b[39;00m \u001b[38;5;28;01mimport\u001b[39;00m \u001b[38;5;241m*\u001b[39m  \u001b[38;5;66;03m# noqa: F401,F403\u001b[39;00m\n\u001b[0;32m      6\u001b[0m \u001b[38;5;28;01mfrom\u001b[39;00m \u001b[38;5;21;01m.\u001b[39;00m\u001b[38;5;21;01mregression\u001b[39;00m \u001b[38;5;28;01mimport\u001b[39;00m \u001b[38;5;241m*\u001b[39m  \u001b[38;5;66;03m# noqa: F401,F403\u001b[39;00m\n\u001b[0;32m      7\u001b[0m \u001b[38;5;28;01mfrom\u001b[39;00m \u001b[38;5;21;01m.\u001b[39;00m\u001b[38;5;21;01mcategorical\u001b[39;00m \u001b[38;5;28;01mimport\u001b[39;00m \u001b[38;5;241m*\u001b[39m  \u001b[38;5;66;03m# noqa: F401,F403\u001b[39;00m\n",
      "File \u001b[1;32mc:\\Users\\camil\\AppData\\Local\\Programs\\Python\\Python311\\Lib\\site-packages\\seaborn\\relational.py:21\u001b[0m\n\u001b[0;32m     13\u001b[0m \u001b[38;5;28;01mfrom\u001b[39;00m \u001b[38;5;21;01m.\u001b[39;00m\u001b[38;5;21;01mutils\u001b[39;00m \u001b[38;5;28;01mimport\u001b[39;00m (\n\u001b[0;32m     14\u001b[0m     adjust_legend_subtitles,\n\u001b[0;32m     15\u001b[0m     _default_color,\n\u001b[1;32m   (...)\u001b[0m\n\u001b[0;32m     18\u001b[0m     _scatter_legend_artist,\n\u001b[0;32m     19\u001b[0m )\n\u001b[0;32m     20\u001b[0m \u001b[38;5;28;01mfrom\u001b[39;00m \u001b[38;5;21;01m.\u001b[39;00m\u001b[38;5;21;01m_compat\u001b[39;00m \u001b[38;5;28;01mimport\u001b[39;00m groupby_apply_include_groups\n\u001b[1;32m---> 21\u001b[0m \u001b[38;5;28;01mfrom\u001b[39;00m \u001b[38;5;21;01m.\u001b[39;00m\u001b[38;5;21;01m_statistics\u001b[39;00m \u001b[38;5;28;01mimport\u001b[39;00m EstimateAggregator, WeightedAggregator\n\u001b[0;32m     22\u001b[0m \u001b[38;5;28;01mfrom\u001b[39;00m \u001b[38;5;21;01m.\u001b[39;00m\u001b[38;5;21;01maxisgrid\u001b[39;00m \u001b[38;5;28;01mimport\u001b[39;00m FacetGrid, _facet_docs\n\u001b[0;32m     23\u001b[0m \u001b[38;5;28;01mfrom\u001b[39;00m \u001b[38;5;21;01m.\u001b[39;00m\u001b[38;5;21;01m_docstrings\u001b[39;00m \u001b[38;5;28;01mimport\u001b[39;00m DocstringComponents, _core_docs\n",
      "File \u001b[1;32mc:\\Users\\camil\\AppData\\Local\\Programs\\Python\\Python311\\Lib\\site-packages\\seaborn\\_statistics.py:32\u001b[0m\n\u001b[0;32m     30\u001b[0m \u001b[38;5;28;01mimport\u001b[39;00m \u001b[38;5;21;01mpandas\u001b[39;00m \u001b[38;5;28;01mas\u001b[39;00m \u001b[38;5;21;01mpd\u001b[39;00m\n\u001b[0;32m     31\u001b[0m \u001b[38;5;28;01mtry\u001b[39;00m:\n\u001b[1;32m---> 32\u001b[0m     \u001b[38;5;28;01mfrom\u001b[39;00m \u001b[38;5;21;01mscipy\u001b[39;00m\u001b[38;5;21;01m.\u001b[39;00m\u001b[38;5;21;01mstats\u001b[39;00m \u001b[38;5;28;01mimport\u001b[39;00m gaussian_kde\n\u001b[0;32m     33\u001b[0m     _no_scipy \u001b[38;5;241m=\u001b[39m \u001b[38;5;28;01mFalse\u001b[39;00m\n\u001b[0;32m     34\u001b[0m \u001b[38;5;28;01mexcept\u001b[39;00m \u001b[38;5;167;01mImportError\u001b[39;00m:\n",
      "File \u001b[1;32mc:\\Users\\camil\\AppData\\Local\\Programs\\Python\\Python311\\Lib\\site-packages\\scipy\\stats\\__init__.py:615\u001b[0m\n\u001b[0;32m    613\u001b[0m \u001b[38;5;28;01mfrom\u001b[39;00m \u001b[38;5;21;01m.\u001b[39;00m\u001b[38;5;21;01m_binomtest\u001b[39;00m \u001b[38;5;28;01mimport\u001b[39;00m binomtest\n\u001b[0;32m    614\u001b[0m \u001b[38;5;28;01mfrom\u001b[39;00m \u001b[38;5;21;01m.\u001b[39;00m\u001b[38;5;21;01m_binned_statistic\u001b[39;00m \u001b[38;5;28;01mimport\u001b[39;00m \u001b[38;5;241m*\u001b[39m\n\u001b[1;32m--> 615\u001b[0m \u001b[38;5;28;01mfrom\u001b[39;00m \u001b[38;5;21;01m.\u001b[39;00m\u001b[38;5;21;01m_kde\u001b[39;00m \u001b[38;5;28;01mimport\u001b[39;00m gaussian_kde\n\u001b[0;32m    616\u001b[0m \u001b[38;5;28;01mfrom\u001b[39;00m \u001b[38;5;21;01m.\u001b[39;00m \u001b[38;5;28;01mimport\u001b[39;00m mstats\n\u001b[0;32m    617\u001b[0m \u001b[38;5;28;01mfrom\u001b[39;00m \u001b[38;5;21;01m.\u001b[39;00m \u001b[38;5;28;01mimport\u001b[39;00m qmc\n",
      "File \u001b[1;32mc:\\Users\\camil\\AppData\\Local\\Programs\\Python\\Python311\\Lib\\site-packages\\scipy\\stats\\_kde.py:33\u001b[0m\n\u001b[0;32m     30\u001b[0m \u001b[38;5;28;01mimport\u001b[39;00m \u001b[38;5;21;01mnumpy\u001b[39;00m \u001b[38;5;28;01mas\u001b[39;00m \u001b[38;5;21;01mnp\u001b[39;00m\n\u001b[0;32m     32\u001b[0m \u001b[38;5;66;03m# Local imports.\u001b[39;00m\n\u001b[1;32m---> 33\u001b[0m \u001b[38;5;28;01mfrom\u001b[39;00m \u001b[38;5;21;01m.\u001b[39;00m \u001b[38;5;28;01mimport\u001b[39;00m _mvn\n\u001b[0;32m     34\u001b[0m \u001b[38;5;28;01mfrom\u001b[39;00m \u001b[38;5;21;01m.\u001b[39;00m\u001b[38;5;21;01m_stats\u001b[39;00m \u001b[38;5;28;01mimport\u001b[39;00m gaussian_kernel_estimate, gaussian_kernel_estimate_log\n\u001b[0;32m     37\u001b[0m __all__ \u001b[38;5;241m=\u001b[39m [\u001b[38;5;124m'\u001b[39m\u001b[38;5;124mgaussian_kde\u001b[39m\u001b[38;5;124m'\u001b[39m]\n",
      "\u001b[1;31mKeyboardInterrupt\u001b[0m: "
     ]
    }
   ],
   "source": [
    "import seaborn as sns\n",
    "import matplotlib.pyplot as plt\n",
    "\n",
    "# Assuming you have a DataFrame 'df' with a 'FraudIndicator' column\n",
    "# Load your data into the DataFrame if not already done\n",
    "\n",
    "# Create a count plot for the 'FraudIndicator' column\n",
    "plt.figure(figsize=(8, 6))  # Optional: Adjust the figure size\n",
    "sns.countplot(data=data1, x='FraudIndicator', palette='viridis')\n",
    "plt.title('Count Plot of Fraud Indicator')\n",
    "plt.xlabel('Fraud Indicator')\n",
    "plt.ylabel('Count')\n",
    "plt.show()\n"
   ]
  },
  {
   "cell_type": "markdown",
   "metadata": {},
   "source": [
    "#### Logistic regression using sampled Data"
   ]
  },
  {
   "cell_type": "code",
   "execution_count": null,
   "metadata": {
    "execution": {
     "iopub.execute_input": "2023-09-05T17:49:06.015143Z",
     "iopub.status.busy": "2023-09-05T17:49:06.014137Z",
     "iopub.status.idle": "2023-09-05T17:49:06.393580Z",
     "shell.execute_reply": "2023-09-05T17:49:06.391907Z",
     "shell.execute_reply.started": "2023-09-05T17:49:06.015098Z"
    },
    "trusted": true
   },
   "outputs": [
    {
     "name": "stdout",
     "output_type": "stream",
     "text": [
      "Class distribution after oversampling: Counter({0: 955, 1: 955})\n"
     ]
    },
    {
     "data": {
      "image/png": "[encoded data removed]",
      "text/plain": [
       "<Figure size 800x600 with 1 Axes>"
      ]
     },
     "metadata": {},
     "output_type": "display_data"
    }
   ],
   "source": [
    "import pandas as pd\n",
    "import seaborn as sns\n",
    "import matplotlib.pyplot as plt\n",
    "from imblearn.over_sampling import SMOTE\n",
    "from collections import Counter\n",
    "\n",
    "# Initialize SMOTE for oversampling\n",
    "smote = SMOTE(random_state=42)\n",
    "\n",
    "# Apply SMOTE to the data\n",
    "X_resampled, y_resampled = smote.fit_resample(X, Y)\n",
    "\n",
    "# Check the class distribution after oversampling\n",
    "print(\"Class distribution after oversampling:\", Counter(y_resampled))\n",
    "\n",
    "# Create a count plot for the 'FraudIndicator' column after oversampling\n",
    "plt.figure(figsize=(8, 6))\n",
    "sns.countplot(data=pd.DataFrame({'FraudIndicator': y_resampled}), x='FraudIndicator', palette='viridis')\n",
    "plt.title('Count Plot of Fraud Indicator (After Oversampling)')\n",
    "plt.xlabel('Fraud Indicator')\n",
    "plt.ylabel('Count')\n",
    "plt.show()\n"
   ]
  },
  {
   "cell_type": "code",
   "execution_count": null,
   "metadata": {
    "execution": {
     "iopub.execute_input": "2023-09-05T17:49:06.395978Z",
     "iopub.status.busy": "2023-09-05T17:49:06.395274Z",
     "iopub.status.idle": "2023-09-05T17:49:06.503824Z",
     "shell.execute_reply": "2023-09-05T17:49:06.502005Z",
     "shell.execute_reply.started": "2023-09-05T17:49:06.395938Z"
    },
    "trusted": true
   },
   "outputs": [
    {
     "name": "stdout",
     "output_type": "stream",
     "text": [
      "Model Evaluation Metrics:\n",
      "Accuracy: 0.56\n",
      "Precision: 0.047058823529411764\n",
      "Recall: 0.36363636363636365\n",
      "F1 Score: 0.08333333333333333\n",
      "Confusion Matrix:\n",
      "[[108  81]\n",
      " [  7   4]]\n"
     ]
    }
   ],
   "source": [
    "# Retraining Logistic regression using SAMPLED Data\n",
    "model = LogisticRegression()\n",
    "\n",
    "# Train the model on the training data\n",
    "model.fit(X_resampled, y_resampled)\n",
    "\n",
    "# Make predictions on the testing data\n",
    "y_pred = model.predict(X_test)\n",
    "\n",
    "# Calculate and print various metrics to evaluate the model's performance\n",
    "accuracy = accuracy_score(Y_test, y_pred)\n",
    "precision = precision_score(Y_test, y_pred)\n",
    "recall = recall_score(Y_test, y_pred)\n",
    "f1 = f1_score(Y_test, y_pred)\n",
    "confusion = confusion_matrix(Y_test, y_pred)\n",
    "\n",
    "print(\"Model Evaluation Metrics:\")\n",
    "print(\"Accuracy:\", accuracy)\n",
    "print(\"Precision:\", precision)\n",
    "print(\"Recall:\", recall)\n",
    "print(\"F1 Score:\", f1)\n",
    "print(\"Confusion Matrix:\")\n",
    "print(confusion)"
   ]
  },
  {
   "cell_type": "code",
   "execution_count": null,
   "metadata": {},
   "outputs": [
    {
     "name": "stdout",
     "output_type": "stream",
     "text": [
      "Run ID: d4f37a0a5cfd45a493c6a772420efb12\n"
     ]
    },
    {
     "name": "stderr",
     "output_type": "stream",
     "text": [
      "Registered model 'logistic-regression-withSampleData-experiment' already exists. Creating a new version of this model...\n",
      "Created version '3' of model 'logistic-regression-withSampleData-experiment'.\n"
     ]
    }
   ],
   "source": [
    "# Logistic Regression model with Sample Data with Mlflow\n",
    "\n",
    "from sklearn.linear_model import LogisticRegression\n",
    "from sklearn.metrics import accuracy_score, precision_score, recall_score, f1_score\n",
    "\n",
    "# Iniciar un nuevo run en MLflow\n",
    "with mlflow.start_run():\n",
    "    model = LogisticRegression()\n",
    "\n",
    "    # Train the model on the training data\n",
    "    model.fit(X_resampled, y_resampled)\n",
    "\n",
    "    # Make predictions on the testing data\n",
    "    y_pred = model.predict(X_test)\n",
    "\n",
    "    # Calculate and print various metrics to evaluate the model's performance\n",
    "    accuracy = accuracy_score(Y_test, y_pred)\n",
    "    precision = precision_score(Y_test, y_pred, average=\"weighted\")\n",
    "    recall = recall_score(Y_test, y_pred, average=\"weighted\")\n",
    "    f1 = f1_score(Y_test, y_pred, average=\"weighted\")\n",
    "    confusion = confusion_matrix(Y_test, y_pred)\n",
    "\n",
    "    # Registrar métricas\n",
    "    mlflow.log_metric(\"accuracy\", accuracy)\n",
    "    mlflow.log_metric(\"precision\", precision)\n",
    "    mlflow.log_metric(\"recall\", recall)\n",
    "    mlflow.log_metric(\"f1_score\", f1)\n",
    "\n",
    "    # Capturar firma del modelo\n",
    "    signature = infer_signature(X_train, model.predict(X_train))\n",
    "\n",
    "    # Registrar el modelo\n",
    "    mlflow.sklearn.log_model(\n",
    "        sk_model=model,\n",
    "        artifact_path=\"logistic_regression_model_withSampleData\",\n",
    "        signature=signature,\n",
    "        registered_model_name=\"logistic-regression-withSampleData-experiment\"\n",
    "    )\n",
    "\n",
    "    print(f\"Run ID: {mlflow.active_run().info.run_id}\")  # Identificador único de este experimento"
   ]
  },
  {
   "cell_type": "markdown",
   "metadata": {},
   "source": [
    "#### Logistic Regression Model with Hyperparameter Tuning"
   ]
  },
  {
   "cell_type": "markdown",
   "metadata": {},
   "source": [
    "Encontrar los valores óptimos de los hiperparámetros de un modelo de aprendizaje automático para mejorar su rendimiento."
   ]
  },
  {
   "cell_type": "code",
   "execution_count": null,
   "metadata": {
    "execution": {
     "iopub.execute_input": "2023-09-05T17:49:06.508125Z",
     "iopub.status.busy": "2023-09-05T17:49:06.506727Z",
     "iopub.status.idle": "2023-09-05T17:49:09.332905Z",
     "shell.execute_reply": "2023-09-05T17:49:09.331081Z",
     "shell.execute_reply.started": "2023-09-05T17:49:06.508049Z"
    },
    "trusted": true
   },
   "outputs": [
    {
     "name": "stdout",
     "output_type": "stream",
     "text": [
      "Best Hyperparameters: {'C': np.float64(100.0), 'penalty': 'l1', 'solver': 'liblinear'}\n",
      "Model Evaluation Metrics on Resampled Data:\n",
      "Accuracy: 0.6162303664921466\n",
      "Precision: 0.611\n",
      "Recall: 0.6397905759162303\n",
      "F1 Score: 0.6250639386189258\n",
      "Confusion Matrix:\n",
      "[[566 389]\n",
      " [344 611]]\n"
     ]
    }
   ],
   "source": [
    "import numpy as np\n",
    "from sklearn.model_selection import GridSearchCV\n",
    "from sklearn.linear_model import LogisticRegression\n",
    "\n",
    "# Define the logistic regression model\n",
    "model = LogisticRegression()\n",
    "\n",
    "# Define a range of hyperparameters to search\n",
    "param_grid = {\n",
    "    'penalty': ['l1', 'l2'],  # Regularization type\n",
    "    'C': np.logspace(-3, 3, 7),  # Inverse of regularization strength (smaller values for stronger regularization)\n",
    "    'solver': ['liblinear'],  # Solver for l1 regularization\n",
    "}\n",
    "\n",
    "# Create a grid search with cross-validation\n",
    "grid_search = GridSearchCV(model, param_grid, cv=5, scoring='f1', n_jobs=-1)\n",
    "\n",
    "# Fit the grid search to the data\n",
    "grid_search.fit(X_resampled, y_resampled)\n",
    "\n",
    "# Get the best hyperparameters and corresponding model\n",
    "best_params = grid_search.best_params_\n",
    "best_model = grid_search.best_estimator_\n",
    "\n",
    "# Print the best hyperparameters\n",
    "print(\"Best Hyperparameters:\", best_params)\n",
    "\n",
    "# Evaluate the best model on the resampled data\n",
    "y_pred = best_model.predict(X_resampled)\n",
    "\n",
    "# Calculate and print various metrics to evaluate the model's performance on the resampled data\n",
    "accuracy = accuracy_score(y_resampled, y_pred)\n",
    "precision = precision_score(y_resampled, y_pred)\n",
    "recall = recall_score(y_resampled, y_pred)\n",
    "f1 = f1_score(y_resampled, y_pred)\n",
    "confusion = confusion_matrix(y_resampled, y_pred)\n",
    "\n",
    "print(\"Model Evaluation Metrics on Resampled Data:\")\n",
    "print(\"Accuracy:\", accuracy)\n",
    "print(\"Precision:\", precision)\n",
    "print(\"Recall:\", recall)\n",
    "print(\"F1 Score:\", f1)\n",
    "print(\"Confusion Matrix:\")\n",
    "print(confusion)\n"
   ]
  },
  {
   "cell_type": "code",
   "execution_count": null,
   "metadata": {
    "execution": {
     "iopub.execute_input": "2023-09-05T17:49:09.337748Z",
     "iopub.status.busy": "2023-09-05T17:49:09.336515Z",
     "iopub.status.idle": "2023-09-05T17:49:10.578006Z",
     "shell.execute_reply": "2023-09-05T17:49:10.576834Z",
     "shell.execute_reply.started": "2023-09-05T17:49:09.337685Z"
    },
    "trusted": true
   },
   "outputs": [
    {
     "name": "stdout",
     "output_type": "stream",
     "text": [
      "Results for Decision Tree Classifier:\n",
      "Accuracy: 0.8272251308900523\n",
      "Precision: 0.8131313131313131\n",
      "Recall: 0.8473684210526315\n",
      "F1 Score: 0.8298969072164949\n",
      "Confusion Matrix: [[155  37]\n",
      " [ 29 161]]\n",
      "\n",
      "Results for Random Forest Classifier:\n",
      "Accuracy: 0.9345549738219895\n",
      "Precision: 0.9187817258883249\n",
      "Recall: 0.9526315789473684\n",
      "F1 Score: 0.9354005167958657\n",
      "Confusion Matrix: [[176  16]\n",
      " [  9 181]]\n",
      "\n",
      "Results for Support Vector Machine (SVM):\n",
      "Accuracy: 0.6073298429319371\n",
      "Precision: 0.6333333333333333\n",
      "Recall: 0.5\n",
      "F1 Score: 0.5588235294117647\n",
      "Confusion Matrix: [[137  55]\n",
      " [ 95  95]]\n",
      "\n",
      "Results for K-Nearest Neighbors (KNN):\n",
      "Accuracy: 0.819371727748691\n",
      "Precision: 0.759656652360515\n",
      "Recall: 0.9315789473684211\n",
      "F1 Score: 0.8368794326241135\n",
      "Confusion Matrix: [[136  56]\n",
      " [ 13 177]]\n",
      "\n",
      "Results for Gradient Boosting Classifier:\n",
      "Accuracy: 0.8403141361256544\n",
      "Precision: 0.7972350230414746\n",
      "Recall: 0.9105263157894737\n",
      "F1 Score: 0.8501228501228502\n",
      "Confusion Matrix: [[148  44]\n",
      " [ 17 173]]\n",
      "\n"
     ]
    }
   ],
   "source": [
    "from sklearn.metrics import accuracy_score, precision_score, recall_score, f1_score, confusion_matrix\n",
    "from sklearn.model_selection import train_test_split\n",
    "from sklearn.tree import DecisionTreeClassifier\n",
    "from sklearn.ensemble import RandomForestClassifier, GradientBoostingClassifier\n",
    "from sklearn.svm import SVC\n",
    "from sklearn.neighbors import KNeighborsClassifier\n",
    "\n",
    "def evaluate_classification_models(X_resampled, y_resampled):\n",
    "    # Split the resampled data into training and testing sets\n",
    "    X_train, X_test, y_train, y_test = train_test_split(X_resampled, y_resampled, test_size=0.2, random_state=42)\n",
    "    \n",
    "    # Define a dictionary of classification models\n",
    "    models = {\n",
    "        \"Decision Tree Classifier\": DecisionTreeClassifier(),\n",
    "        \"Random Forest Classifier\": RandomForestClassifier(),\n",
    "        \"Support Vector Machine (SVM)\": SVC(),\n",
    "        \"K-Nearest Neighbors (KNN)\": KNeighborsClassifier(),\n",
    "        \"Gradient Boosting Classifier\": GradientBoostingClassifier()\n",
    "    }\n",
    "    \n",
    "    results = {}\n",
    "    \n",
    "    for model_name, model in models.items():\n",
    "        # Train the model\n",
    "        model.fit(X_train, y_train)\n",
    "        \n",
    "        # Make predictions\n",
    "        y_pred = model.predict(X_test)\n",
    "        \n",
    "        # Calculate and store various metrics\n",
    "        accuracy = accuracy_score(y_test, y_pred)\n",
    "        precision = precision_score(y_test, y_pred)\n",
    "        recall = recall_score(y_test, y_pred)\n",
    "        f1 = f1_score(y_test, y_pred)\n",
    "        confusion = confusion_matrix(y_test, y_pred)\n",
    "        \n",
    "        results[model_name] = {\n",
    "            \"Accuracy\": accuracy,\n",
    "            \"Precision\": precision,\n",
    "            \"Recall\": recall,\n",
    "            \"F1 Score\": f1,\n",
    "            \"Confusion Matrix\": confusion\n",
    "        }\n",
    "    \n",
    "    return results\n",
    "\n",
    "results = evaluate_classification_models(X_resampled, y_resampled)\n",
    "for model_name, model_result in results.items():\n",
    "     print(f\"Results for {model_name}:\")\n",
    "     for metric, value in model_result.items():\n",
    "         print(f\"{metric}: {value}\")\n",
    "     print()\n"
   ]
  },
  {
   "cell_type": "markdown",
   "metadata": {},
   "source": [
    "### XGBoost"
   ]
  },
  {
   "cell_type": "code",
   "execution_count": 1,
   "metadata": {},
   "outputs": [],
   "source": [
    "from load_clean_data import load_data, clean_data, oversample\n",
    "data = load_data()\n",
    "cleandata, X, Y = clean_data(data)\n",
    "x_resampled, y_resampled = oversample(X, Y)"
   ]
  },
  {
   "cell_type": "markdown",
   "metadata": {},
   "source": [
    "#### Normalizar"
   ]
  },
  {
   "cell_type": "code",
   "execution_count": 2,
   "metadata": {},
   "outputs": [
    {
     "name": "stdout",
     "output_type": "stream",
     "text": [
      "(1528, 12) (382, 12)\n"
     ]
    }
   ],
   "source": [
    "import xgboost as xgb\n",
    "from sklearn.model_selection import train_test_split\n",
    "from sklearn.preprocessing import StandardScaler\n",
    "import pandas as pd\n",
    "\n",
    "# Copiamos el dataset para no modificar el original\n",
    "x_resampled_xgb = x_resampled.copy()\n",
    "\n",
    "# Columnas a escalar\n",
    "cols_to_scale = ['TransactionAmount', 'AnomalyScore', 'Amount', 'AccountBalance', 'Hour', 'gap']\n",
    "\n",
    "# Aplicamos StandardScaler a las columnas numéricas\n",
    "scaler = StandardScaler()\n",
    "x_resampled_xgb[cols_to_scale] = scaler.fit_transform(x_resampled_xgb[cols_to_scale])\n",
    "\n",
    "# Convertimos 'Category' en variables dummy\n",
    "x_resampled_xgb = pd.get_dummies(x_resampled_xgb, columns=['Category'], dtype=int)\n",
    "\n",
    "# Dividimos en conjunto de entrenamiento y prueba (80% train, 20% test)\n",
    "X_train, X_test, y_train, y_test = train_test_split(x_resampled_xgb, y_resampled, test_size=0.2, random_state=42)\n",
    "\n",
    "# Verificamos los tamaños\n",
    "print(X_train.shape, X_test.shape)\n"
   ]
  },
  {
   "cell_type": "code",
   "execution_count": null,
   "metadata": {},
   "outputs": [
    {
     "name": "stdout",
     "output_type": "stream",
     "text": [
      "Accuracy del modelo: 0.9058\n"
     ]
    },
    {
     "name": "stderr",
     "output_type": "stream",
     "text": [
      "c:\\Users\\camil\\AppData\\Local\\Programs\\Python\\Python311\\Lib\\site-packages\\xgboost\\core.py:158: UserWarning: [20:08:46] WARNING: C:\\buildkite-agent\\builds\\buildkite-windows-cpu-autoscaling-group-i-08cbc0333d8d4aae1-1\\xgboost\\xgboost-ci-windows\\src\\learner.cc:740: \n",
      "Parameters: { \"use_label_encoder\" } are not used.\n",
      "\n",
      "  warnings.warn(smsg, UserWarning)\n"
     ]
    }
   ],
   "source": [
    "# Creamos el modelo XGBoost\n",
    "xgb_model = xgb.XGBClassifier(\n",
    "    objective='binary:logistic',  # Problema de clasificación binaria\n",
    "    eval_metric='logloss',  # Logarithmic loss (buena métrica para clasificación)\n",
    "    n_estimators=100,  # Número de árboles\n",
    "    learning_rate=0.1,  # Tasa de aprendizaje\n",
    "    max_depth=6,  # Profundidad máxima de los árboles\n",
    "    subsample=0.8,  # Proporción de datos usados en cada árbol\n",
    "    colsample_bytree=0.8,  # Proporción de features usadas en cada árbol\n",
    "    random_state=42  # Reproducibilidad\n",
    ")\n",
    "\n",
    "# Entrenamos el modelo\n",
    "xgb_model.fit(X_train, y_train)\n",
    "\n",
    "# Evaluamos en test\n",
    "accuracy = xgb_model.score(X_test, y_test)\n",
    "print(f'Accuracy del modelo: {accuracy:.4f}')\n"
   ]
  },
  {
   "cell_type": "code",
   "execution_count": 4,
   "metadata": {},
   "outputs": [
    {
     "name": "stdout",
     "output_type": "stream",
     "text": [
      "Matriz de Confusión:\n",
      " [[165  32]\n",
      " [  4 181]]\n",
      "\n",
      "Reporte de Clasificación:\n",
      "               precision    recall  f1-score   support\n",
      "\n",
      "           0       0.98      0.84      0.90       197\n",
      "           1       0.85      0.98      0.91       185\n",
      "\n",
      "    accuracy                           0.91       382\n",
      "   macro avg       0.91      0.91      0.91       382\n",
      "weighted avg       0.92      0.91      0.91       382\n",
      "\n"
     ]
    }
   ],
   "source": [
    "from sklearn.metrics import classification_report, confusion_matrix\n",
    "\n",
    "# Predicciones en test\n",
    "y_pred = xgb_model.predict(X_test)\n",
    "\n",
    "# Matriz de confusión\n",
    "print(\"Matriz de Confusión:\\n\", confusion_matrix(y_test, y_pred))\n",
    "\n",
    "# Reporte de clasificación\n",
    "print(\"\\nReporte de Clasificación:\\n\", classification_report(y_test, y_pred))\n"
   ]
  },
  {
   "cell_type": "markdown",
   "metadata": {},
   "source": [
    "Ajuste de Hiperparámetros con GridSearchCV"
   ]
  },
  {
   "cell_type": "code",
   "execution_count": null,
   "metadata": {},
   "outputs": [
    {
     "name": "stdout",
     "output_type": "stream",
     "text": [
      "Fitting 3 folds for each of 27 candidates, totalling 81 fits\n"
     ]
    },
    {
     "name": "stderr",
     "output_type": "stream",
     "text": [
      "c:\\Users\\camil\\AppData\\Local\\Programs\\Python\\Python311\\Lib\\site-packages\\xgboost\\core.py:158: UserWarning: [20:11:36] WARNING: C:\\buildkite-agent\\builds\\buildkite-windows-cpu-autoscaling-group-i-08cbc0333d8d4aae1-1\\xgboost\\xgboost-ci-windows\\src\\learner.cc:740: \n",
      "Parameters: { \"use_label_encoder\" } are not used.\n",
      "\n",
      "  warnings.warn(smsg, UserWarning)\n"
     ]
    },
    {
     "name": "stdout",
     "output_type": "stream",
     "text": [
      "Mejores parámetros: {'learning_rate': 0.3, 'max_depth': 6, 'n_estimators': 200}\n",
      "\n",
      "Reporte de Clasificación con Mejores Parámetros:\n",
      "               precision    recall  f1-score   support\n",
      "\n",
      "           0       0.99      0.88      0.93       197\n",
      "           1       0.89      0.99      0.94       185\n",
      "\n",
      "    accuracy                           0.93       382\n",
      "   macro avg       0.94      0.94      0.93       382\n",
      "weighted avg       0.94      0.93      0.93       382\n",
      "\n"
     ]
    }
   ],
   "source": [
    "from sklearn.model_selection import GridSearchCV\n",
    "\n",
    "# Definimos los parámetros a probar\n",
    "param_grid = {\n",
    "    'max_depth': [3, 6, 9],\n",
    "    'learning_rate': [0.01, 0.1, 0.3],\n",
    "    'n_estimators': [50, 100, 200]\n",
    "}\n",
    "\n",
    "# Búsqueda de hiperparámetros\n",
    "grid_search = GridSearchCV(xgb.XGBClassifier(objective='binary:logistic', \n",
    "                                            eval_metric='logloss', \n",
    "                                            use_label_encoder=False),\n",
    "                           param_grid, \n",
    "                           cv=3, \n",
    "                           scoring='accuracy', \n",
    "                           verbose=1, \n",
    "                           n_jobs=-1)\n",
    "\n",
    "grid_search.fit(X_train, y_train)\n",
    "\n",
    "# Mejor combinación de hiperparámetros\n",
    "print(\"Mejores parámetros:\", grid_search.best_params_)\n",
    "\n",
    "# Evaluamos el mejor modelo en test\n",
    "best_xgb = grid_search.best_estimator_\n",
    "y_pred_best = best_xgb.predict(X_test)\n",
    "\n",
    "print(\"\\nReporte de Clasificación con Mejores Parámetros:\\n\", classification_report(y_test, y_pred_best))\n"
   ]
  },
  {
   "cell_type": "markdown",
   "metadata": {},
   "source": [
    "### Red Neuronal Profunda"
   ]
  },
  {
   "cell_type": "code",
   "execution_count": null,
   "metadata": {},
   "outputs": [
    {
     "name": "stdout",
     "output_type": "stream",
     "text": [
      "0       0\n",
      "1       0\n",
      "2       0\n",
      "3       0\n",
      "4       0\n",
      "       ..\n",
      "1905    1\n",
      "1906    1\n",
      "1907    1\n",
      "1908    1\n",
      "1909    1\n",
      "Name: FraudIndicator, Length: 1910, dtype: int64\n"
     ]
    }
   ],
   "source": [
    "from load_clean_data import load_data, clean_data, oversample\n",
    "data = load_data()\n",
    "cleandata, X, Y = clean_data(data)\n",
    "x_resampled, y_resampled = oversample(X, Y)\n",
    "print(y_resampled)"
   ]
  },
  {
   "cell_type": "code",
   "execution_count": 2,
   "metadata": {},
   "outputs": [],
   "source": [
    "import tensorflow as tf\n",
    "from tensorflow import keras\n",
    "from tensorflow.keras.models import Sequential\n",
    "from tensorflow.keras.layers import Dense, Dropout\n",
    "from sklearn.model_selection import train_test_split\n",
    "from sklearn.preprocessing import StandardScaler\n",
    "import numpy as np"
   ]
  },
  {
   "cell_type": "code",
   "execution_count": 7,
   "metadata": {},
   "outputs": [
    {
     "data": {
      "image/png": "[encoded data removed]",
      "text/plain": [
       "<Figure size 1500x500 with 3 Axes>"
      ]
     },
     "metadata": {},
     "output_type": "display_data"
    }
   ],
   "source": [
    "from sklearn.preprocessing import StandardScaler, MinMaxScaler, RobustScaler\n",
    "import seaborn as sns\n",
    "import matplotlib.pyplot as plt\n",
    "\n",
    "scalers = {\n",
    "    \"StandardScaler\": StandardScaler(),\n",
    "    \"MinMaxScaler\": MinMaxScaler(),\n",
    "    \"RobustScaler\": RobustScaler()\n",
    "}\n",
    "\n",
    "# Aplicar diferentes escaladores y comparar\n",
    "scaled_data = {}\n",
    "for name, scaler in scalers.items():\n",
    "    scaled_data[name] = scaler.fit_transform(X_resampled)\n",
    "\n",
    "# Ver cómo cambia la distribución después del escalado\n",
    "fig, axes = plt.subplots(1, 3, figsize=(15, 5))\n",
    "\n",
    "for i, (name, data) in enumerate(scaled_data.items()):\n",
    "    sns.histplot(data[:, 0], ax=axes[i], kde=True)  # Graficamos la primera columna escalada\n",
    "    axes[i].set_title(name)\n",
    "\n",
    "plt.show()\n"
   ]
  },
  {
   "cell_type": "code",
   "execution_count": 11,
   "metadata": {},
   "outputs": [
    {
     "name": "stdout",
     "output_type": "stream",
     "text": [
      "   TransactionAmount  AnomalyScore    Amount  AccountBalance  SuspiciousFlag  \\\n",
      "0           1.079004      0.839766 -0.024997       -1.173418               0   \n",
      "1           1.549685     -1.556235 -0.102979       -1.173418               0   \n",
      "2          -1.801095     -1.404392 -1.826234        1.569766               0   \n",
      "3          -0.892209     -1.619152 -0.251117        1.471055               0   \n",
      "4          -1.448685      0.061157 -0.132235        1.471055               0   \n",
      "\n",
      "       Hour       gap  Category_0  Category_1  Category_2  Category_3  \\\n",
      "0 -1.676618  1.677710           0           0           1           0   \n",
      "1 -0.779813  1.537958           1           0           0           0   \n",
      "2 -1.527151 -1.816077           0           1           0           0   \n",
      "3 -1.377683  1.689041           0           0           0           0   \n",
      "4  0.565394  1.605945           0           0           0           1   \n",
      "\n",
      "   Category_4  \n",
      "0           0  \n",
      "1           0  \n",
      "2           0  \n",
      "3           1  \n",
      "4           0  \n"
     ]
    }
   ],
   "source": [
    "from sklearn.preprocessing import StandardScaler\n",
    "from sklearn.preprocessing import StandardScaler\n",
    "import pandas as pd\n",
    "import numpy as np\n",
    "\n",
    "# 1. Normalizar variables\n",
    "\n",
    "# Columnas que necesitan normalización (todas excepto las categóricas y binarias)\n",
    "cols_to_scale = ['TransactionAmount', 'AnomalyScore', 'Amount', 'AccountBalance', 'Hour', 'gap']\n",
    "\n",
    "# Inicializamos StandardScaler\n",
    "scaler = StandardScaler()\n",
    "\n",
    "# Aplicamos la normalización\n",
    "X_resampled_scaled = X_resampled.copy()\n",
    "X_resampled_scaled[cols_to_scale] = scaler.fit_transform(X_resampled[cols_to_scale])\n",
    "\n",
    "# Convertimos 'Category' en one-hot encoding\n",
    "X_resampled_scaled = pd.get_dummies(X_resampled_scaled, columns=['Category'], dtype=int)\n",
    "\n",
    "# Verificamos el resultado\n",
    "print(X_resampled_scaled.head())\n"
   ]
  },
  {
   "cell_type": "code",
   "execution_count": 12,
   "metadata": {},
   "outputs": [
    {
     "name": "stdout",
     "output_type": "stream",
     "text": [
      "Model: \"sequential\"\n",
      "_________________________________________________________________\n",
      " Layer (type)                Output Shape              Param #   \n",
      "=================================================================\n",
      " dense (Dense)               (None, 64)                832       \n",
      "                                                                 \n",
      " dropout (Dropout)           (None, 64)                0         \n",
      "                                                                 \n",
      " dense_1 (Dense)             (None, 32)                2080      \n",
      "                                                                 \n",
      " dropout_1 (Dropout)         (None, 32)                0         \n",
      "                                                                 \n",
      " dense_2 (Dense)             (None, 1)                 33        \n",
      "                                                                 \n",
      "=================================================================\n",
      "Total params: 2945 (11.50 KB)\n",
      "Trainable params: 2945 (11.50 KB)\n",
      "Non-trainable params: 0 (0.00 Byte)\n",
      "_________________________________________________________________\n"
     ]
    }
   ],
   "source": [
    "import tensorflow as tf\n",
    "from tensorflow import keras\n",
    "from tensorflow.keras.models import Sequential\n",
    "from tensorflow.keras.layers import Dense, Dropout\n",
    "\n",
    "# Número de características después de normalización y one-hot encoding\n",
    "input_dim = X_resampled_scaled.shape[1]\n",
    "\n",
    "# Definimos la red neuronal\n",
    "def build_model():\n",
    "    model = Sequential([\n",
    "        Dense(64, activation='relu', input_shape=(input_dim,)),  # Capa oculta 1\n",
    "        Dropout(0.2),  # Regularización\n",
    "        Dense(32, activation='relu'),  # Capa oculta 2\n",
    "        Dropout(0.2),\n",
    "        Dense(1, activation='sigmoid')  # Capa de salida (detección de fraude)\n",
    "    ])\n",
    "    \n",
    "    model.compile(optimizer='adam',\n",
    "                  loss='binary_crossentropy',\n",
    "                  metrics=['accuracy'])\n",
    "    return model\n",
    "\n",
    "# Creamos el modelo\n",
    "model = build_model()\n",
    "\n",
    "# Mostramos la arquitectura\n",
    "model.summary()\n"
   ]
  },
  {
   "cell_type": "code",
   "execution_count": 13,
   "metadata": {},
   "outputs": [
    {
     "name": "stdout",
     "output_type": "stream",
     "text": [
      "Epoch 1/50\n",
      "48/48 [==============================] - 3s 12ms/step - loss: 0.6731 - accuracy: 0.5838 - val_loss: 0.6324 - val_accuracy: 0.6859\n",
      "Epoch 2/50\n",
      "48/48 [==============================] - 0s 6ms/step - loss: 0.6213 - accuracy: 0.6721 - val_loss: 0.5889 - val_accuracy: 0.7330\n",
      "Epoch 3/50\n",
      "48/48 [==============================] - 0s 5ms/step - loss: 0.5889 - accuracy: 0.6918 - val_loss: 0.5543 - val_accuracy: 0.7304\n",
      "Epoch 4/50\n",
      "48/48 [==============================] - 0s 5ms/step - loss: 0.5547 - accuracy: 0.7225 - val_loss: 0.5281 - val_accuracy: 0.7356\n",
      "Epoch 5/50\n",
      "48/48 [==============================] - 0s 6ms/step - loss: 0.5301 - accuracy: 0.7402 - val_loss: 0.5054 - val_accuracy: 0.7670\n",
      "Epoch 6/50\n",
      "48/48 [==============================] - 0s 4ms/step - loss: 0.5052 - accuracy: 0.7572 - val_loss: 0.4849 - val_accuracy: 0.7775\n",
      "Epoch 7/50\n",
      "48/48 [==============================] - 0s 3ms/step - loss: 0.4776 - accuracy: 0.7736 - val_loss: 0.4660 - val_accuracy: 0.7801\n",
      "Epoch 8/50\n",
      "48/48 [==============================] - 0s 3ms/step - loss: 0.4574 - accuracy: 0.7808 - val_loss: 0.4627 - val_accuracy: 0.7880\n",
      "Epoch 9/50\n",
      "48/48 [==============================] - 0s 2ms/step - loss: 0.4378 - accuracy: 0.7997 - val_loss: 0.4439 - val_accuracy: 0.7932\n",
      "Epoch 10/50\n",
      "48/48 [==============================] - 0s 3ms/step - loss: 0.4362 - accuracy: 0.8024 - val_loss: 0.4354 - val_accuracy: 0.8141\n",
      "Epoch 11/50\n",
      "48/48 [==============================] - 0s 4ms/step - loss: 0.4137 - accuracy: 0.8168 - val_loss: 0.4277 - val_accuracy: 0.8141\n",
      "Epoch 12/50\n",
      "48/48 [==============================] - 0s 4ms/step - loss: 0.3968 - accuracy: 0.8174 - val_loss: 0.4172 - val_accuracy: 0.8168\n",
      "Epoch 13/50\n",
      "48/48 [==============================] - 0s 3ms/step - loss: 0.4001 - accuracy: 0.8266 - val_loss: 0.4211 - val_accuracy: 0.8246\n",
      "Epoch 14/50\n",
      "48/48 [==============================] - 0s 4ms/step - loss: 0.3824 - accuracy: 0.8338 - val_loss: 0.4188 - val_accuracy: 0.8194\n",
      "Epoch 15/50\n",
      "48/48 [==============================] - 0s 2ms/step - loss: 0.3793 - accuracy: 0.8390 - val_loss: 0.4032 - val_accuracy: 0.8325\n",
      "Epoch 16/50\n",
      "48/48 [==============================] - 0s 3ms/step - loss: 0.3585 - accuracy: 0.8475 - val_loss: 0.3930 - val_accuracy: 0.8403\n",
      "Epoch 17/50\n",
      "48/48 [==============================] - 0s 3ms/step - loss: 0.3624 - accuracy: 0.8384 - val_loss: 0.3947 - val_accuracy: 0.8246\n",
      "Epoch 18/50\n",
      "48/48 [==============================] - 0s 2ms/step - loss: 0.3465 - accuracy: 0.8482 - val_loss: 0.3845 - val_accuracy: 0.8351\n",
      "Epoch 19/50\n",
      "48/48 [==============================] - 0s 3ms/step - loss: 0.3493 - accuracy: 0.8501 - val_loss: 0.3755 - val_accuracy: 0.8455\n",
      "Epoch 20/50\n",
      "48/48 [==============================] - 0s 4ms/step - loss: 0.3431 - accuracy: 0.8573 - val_loss: 0.3649 - val_accuracy: 0.8377\n",
      "Epoch 21/50\n",
      "48/48 [==============================] - 0s 8ms/step - loss: 0.3389 - accuracy: 0.8580 - val_loss: 0.3624 - val_accuracy: 0.8665\n",
      "Epoch 22/50\n",
      "48/48 [==============================] - 0s 7ms/step - loss: 0.3263 - accuracy: 0.8580 - val_loss: 0.3589 - val_accuracy: 0.8455\n",
      "Epoch 23/50\n",
      "48/48 [==============================] - 0s 5ms/step - loss: 0.3235 - accuracy: 0.8658 - val_loss: 0.3573 - val_accuracy: 0.8482\n",
      "Epoch 24/50\n",
      "48/48 [==============================] - 0s 6ms/step - loss: 0.3205 - accuracy: 0.8724 - val_loss: 0.3727 - val_accuracy: 0.8298\n",
      "Epoch 25/50\n",
      "48/48 [==============================] - 0s 7ms/step - loss: 0.3116 - accuracy: 0.8737 - val_loss: 0.3575 - val_accuracy: 0.8482\n",
      "Epoch 26/50\n",
      "48/48 [==============================] - 0s 6ms/step - loss: 0.2979 - accuracy: 0.8802 - val_loss: 0.3506 - val_accuracy: 0.8482\n",
      "Epoch 27/50\n",
      "48/48 [==============================] - 0s 7ms/step - loss: 0.3040 - accuracy: 0.8815 - val_loss: 0.3456 - val_accuracy: 0.8534\n",
      "Epoch 28/50\n",
      "48/48 [==============================] - 0s 8ms/step - loss: 0.2991 - accuracy: 0.8809 - val_loss: 0.3553 - val_accuracy: 0.8403\n",
      "Epoch 29/50\n",
      "48/48 [==============================] - 0s 10ms/step - loss: 0.2965 - accuracy: 0.8881 - val_loss: 0.3581 - val_accuracy: 0.8455\n",
      "Epoch 30/50\n",
      "48/48 [==============================] - 0s 8ms/step - loss: 0.2872 - accuracy: 0.8940 - val_loss: 0.3386 - val_accuracy: 0.8508\n",
      "Epoch 31/50\n",
      "48/48 [==============================] - 0s 5ms/step - loss: 0.2803 - accuracy: 0.8920 - val_loss: 0.3297 - val_accuracy: 0.8639\n",
      "Epoch 32/50\n",
      "48/48 [==============================] - 0s 7ms/step - loss: 0.2871 - accuracy: 0.8901 - val_loss: 0.3313 - val_accuracy: 0.8691\n",
      "Epoch 33/50\n",
      "48/48 [==============================] - 0s 6ms/step - loss: 0.2847 - accuracy: 0.8835 - val_loss: 0.3306 - val_accuracy: 0.8665\n",
      "Epoch 34/50\n",
      "48/48 [==============================] - 0s 7ms/step - loss: 0.2759 - accuracy: 0.8855 - val_loss: 0.3295 - val_accuracy: 0.8691\n",
      "Epoch 35/50\n",
      "48/48 [==============================] - 0s 5ms/step - loss: 0.2747 - accuracy: 0.8920 - val_loss: 0.3265 - val_accuracy: 0.8691\n",
      "Epoch 36/50\n",
      "48/48 [==============================] - 0s 7ms/step - loss: 0.2706 - accuracy: 0.8933 - val_loss: 0.3254 - val_accuracy: 0.8691\n",
      "Epoch 37/50\n",
      "48/48 [==============================] - 0s 4ms/step - loss: 0.2625 - accuracy: 0.9005 - val_loss: 0.3182 - val_accuracy: 0.8743\n",
      "Epoch 38/50\n",
      "48/48 [==============================] - 0s 4ms/step - loss: 0.2536 - accuracy: 0.9064 - val_loss: 0.3223 - val_accuracy: 0.8665\n",
      "Epoch 39/50\n",
      "48/48 [==============================] - 0s 2ms/step - loss: 0.2589 - accuracy: 0.9025 - val_loss: 0.3298 - val_accuracy: 0.8665\n",
      "Epoch 40/50\n",
      "48/48 [==============================] - 0s 3ms/step - loss: 0.2543 - accuracy: 0.8966 - val_loss: 0.3123 - val_accuracy: 0.8717\n",
      "Epoch 41/50\n",
      "48/48 [==============================] - 0s 3ms/step - loss: 0.2489 - accuracy: 0.9038 - val_loss: 0.3140 - val_accuracy: 0.8770\n",
      "Epoch 42/50\n",
      "48/48 [==============================] - 0s 3ms/step - loss: 0.2485 - accuracy: 0.9097 - val_loss: 0.3161 - val_accuracy: 0.8770\n",
      "Epoch 43/50\n",
      "48/48 [==============================] - 0s 3ms/step - loss: 0.2601 - accuracy: 0.9038 - val_loss: 0.3138 - val_accuracy: 0.8743\n",
      "Epoch 44/50\n",
      "48/48 [==============================] - 0s 3ms/step - loss: 0.2476 - accuracy: 0.9051 - val_loss: 0.3164 - val_accuracy: 0.8743\n",
      "Epoch 45/50\n",
      "48/48 [==============================] - 0s 3ms/step - loss: 0.2433 - accuracy: 0.9045 - val_loss: 0.3027 - val_accuracy: 0.8796\n",
      "Epoch 46/50\n",
      "48/48 [==============================] - 0s 3ms/step - loss: 0.2337 - accuracy: 0.9110 - val_loss: 0.3014 - val_accuracy: 0.8770\n",
      "Epoch 47/50\n",
      "48/48 [==============================] - 0s 3ms/step - loss: 0.2405 - accuracy: 0.9031 - val_loss: 0.3014 - val_accuracy: 0.8770\n",
      "Epoch 48/50\n",
      "48/48 [==============================] - 0s 3ms/step - loss: 0.2479 - accuracy: 0.8920 - val_loss: 0.2960 - val_accuracy: 0.8848\n",
      "Epoch 49/50\n",
      "48/48 [==============================] - 0s 2ms/step - loss: 0.2294 - accuracy: 0.9031 - val_loss: 0.2995 - val_accuracy: 0.8848\n",
      "Epoch 50/50\n",
      "48/48 [==============================] - 0s 3ms/step - loss: 0.2334 - accuracy: 0.9110 - val_loss: 0.2937 - val_accuracy: 0.8848\n"
     ]
    }
   ],
   "source": [
    "# Dividimos en entrenamiento y prueba\n",
    "from sklearn.model_selection import train_test_split\n",
    "\n",
    "X_train, X_test, y_train, y_test = train_test_split(X_resampled_scaled, y_resampled, test_size=0.2, random_state=42)\n",
    "\n",
    "# Entrenamos la red neuronal\n",
    "history = model.fit(X_train, y_train, epochs=50, batch_size=32, validation_data=(X_test, y_test))\n"
   ]
  },
  {
   "cell_type": "markdown",
   "metadata": {},
   "source": [
    "# ANTERIOR: Ranking Models perfromance\n",
    "1. Random Forest Classifier\n",
    "2. Gradient Boosting Algorithm\n",
    "3. Decision Tree Classifier\n",
    "4. K-Nearest Neighbours\n",
    "5. Support Vector Machine (SVC)\n",
    "6. Logistic Regression"
   ]
  },
  {
   "cell_type": "markdown",
   "metadata": {},
   "source": [
    "Now we can HyperParameterTune the"
   ]
  },
  {
   "cell_type": "markdown",
   "metadata": {},
   "source": [
    "## RandomForest CLassifier"
   ]
  },
  {
   "cell_type": "code",
   "execution_count": null,
   "metadata": {
    "execution": {
     "iopub.execute_input": "2023-09-05T17:49:10.580165Z",
     "iopub.status.busy": "2023-09-05T17:49:10.579814Z",
     "iopub.status.idle": "2023-09-05T17:50:34.414384Z",
     "shell.execute_reply": "2023-09-05T17:50:34.412168Z",
     "shell.execute_reply.started": "2023-09-05T17:49:10.580135Z"
    },
    "trusted": true
   },
   "outputs": [
    {
     "name": "stdout",
     "output_type": "stream",
     "text": [
      "Best Hyperparameters: {'max_depth': 30, 'min_samples_leaf': 1, 'min_samples_split': 2, 'n_estimators': 150}\n",
      "Best Model Evaluation Metrics:\n",
      "Accuracy: 0.9293193717277487\n",
      "Precision: 0.9014778325123153\n",
      "Recall: 0.9631578947368421\n",
      "F1 Score: 0.9312977099236641\n",
      "Confusion Matrix:\n",
      "[[172  20]\n",
      " [  7 183]]\n"
     ]
    }
   ],
   "source": [
    "from sklearn.model_selection import train_test_split, GridSearchCV\n",
    "from sklearn.ensemble import RandomForestClassifier\n",
    "from sklearn.metrics import accuracy_score, precision_score, recall_score, f1_score, confusion_matrix\n",
    "\n",
    "# Split the data into training and testing sets\n",
    "X_train, X_test, y_train, y_test = train_test_split(X_resampled, y_resampled, test_size=0.2, random_state=42)\n",
    "\n",
    "# Define the Random Forest Classifier model\n",
    "rf_model = RandomForestClassifier(random_state=42)\n",
    "\n",
    "# Define a range of hyperparameters to search\n",
    "param_grid = {\n",
    "    'n_estimators': [50, 100, 150],  # Number of trees in the forest\n",
    "    'max_depth': [None, 10, 20, 30],  # Maximum depth of the trees\n",
    "    'min_samples_split': [2, 5, 10],  # Minimum number of samples required to split an internal node\n",
    "    'min_samples_leaf': [1, 2, 4],  # Minimum number of samples required to be at a leaf node\n",
    "}\n",
    "\n",
    "# Create a grid search with cross-validation\n",
    "grid_search = GridSearchCV(rf_model, param_grid, cv=5, scoring='f1', n_jobs=-1)\n",
    "\n",
    "# Fit the grid search to the resampled data\n",
    "grid_search.fit(X_train, y_train)\n",
    "\n",
    "# Get the best hyperparameters and corresponding model\n",
    "best_params = grid_search.best_params_\n",
    "best_rf_model = grid_search.best_estimator_\n",
    "\n",
    "# Print the best hyperparameters\n",
    "print(\"Best Hyperparameters:\", best_params)\n",
    "\n",
    "# Train the best model on the training data\n",
    "best_rf_model.fit(X_train, y_train)\n",
    "\n",
    "# Make predictions on the testing data\n",
    "y_pred = best_rf_model.predict(X_test)\n",
    "\n",
    "# Calculate and print various metrics to evaluate the best model's performance\n",
    "accuracy = accuracy_score(y_test, y_pred)\n",
    "precision = precision_score(y_test, y_pred)\n",
    "recall = recall_score(y_test, y_pred)\n",
    "f1 = f1_score(y_test, y_pred)\n",
    "confusion = confusion_matrix(y_test, y_pred)\n",
    "\n",
    "print(\"Best Model Evaluation Metrics:\")\n",
    "print(\"Accuracy:\", accuracy)\n",
    "print(\"Precision:\", precision)\n",
    "print(\"Recall:\", recall)\n",
    "print(\"F1 Score:\", f1)\n",
    "print(\"Confusion Matrix:\")\n",
    "print(confusion)\n"
   ]
  },
  {
   "cell_type": "markdown",
   "metadata": {},
   "source": []
  },
  {
   "cell_type": "code",
   "execution_count": null,
   "metadata": {},
   "outputs": [
    {
     "name": "stdout",
     "output_type": "stream",
     "text": [
      "Epoch 1/20\n",
      "\u001b[1m39/39\u001b[0m \u001b[32m━━━━━━━━━━━━━━━━━━━━\u001b[0m\u001b[37m\u001b[0m \u001b[1m2s\u001b[0m 7ms/step - accuracy: 0.5900 - loss: 0.6655 - val_accuracy: 0.6601 - val_loss: 0.6148\n",
      "Epoch 2/20\n",
      "\u001b[1m39/39\u001b[0m \u001b[32m━━━━━━━━━━━━━━━━━━━━\u001b[0m\u001b[37m\u001b[0m \u001b[1m0s\u001b[0m 3ms/step - accuracy: 0.6226 - loss: 0.6161 - val_accuracy: 0.7124 - val_loss: 0.5842\n",
      "Epoch 3/20\n",
      "\u001b[1m39/39\u001b[0m \u001b[32m━━━━━━━━━━━━━━━━━━━━\u001b[0m\u001b[37m\u001b[0m \u001b[1m0s\u001b[0m 2ms/step - accuracy: 0.6863 - loss: 0.5781 - val_accuracy: 0.7386 - val_loss: 0.5666\n",
      "Epoch 4/20\n",
      "\u001b[1m39/39\u001b[0m \u001b[32m━━━━━━━━━━━━━━━━━━━━\u001b[0m\u001b[37m\u001b[0m \u001b[1m0s\u001b[0m 2ms/step - accuracy: 0.6886 - loss: 0.5628 - val_accuracy: 0.7614 - val_loss: 0.5467\n",
      "Epoch 5/20\n",
      "\u001b[1m39/39\u001b[0m \u001b[32m━━━━━━━━━━━━━━━━━━━━\u001b[0m\u001b[37m\u001b[0m \u001b[1m0s\u001b[0m 2ms/step - accuracy: 0.7159 - loss: 0.5298 - val_accuracy: 0.7712 - val_loss: 0.5322\n",
      "Epoch 6/20\n",
      "\u001b[1m39/39\u001b[0m \u001b[32m━━━━━━━━━━━━━━━━━━━━\u001b[0m\u001b[37m\u001b[0m \u001b[1m0s\u001b[0m 2ms/step - accuracy: 0.7557 - loss: 0.5065 - val_accuracy: 0.7908 - val_loss: 0.5131\n",
      "Epoch 7/20\n",
      "\u001b[1m39/39\u001b[0m \u001b[32m━━━━━━━━━━━━━━━━━━━━\u001b[0m\u001b[37m\u001b[0m \u001b[1m0s\u001b[0m 3ms/step - accuracy: 0.7650 - loss: 0.4871 - val_accuracy: 0.7974 - val_loss: 0.5090\n",
      "Epoch 8/20\n",
      "\u001b[1m39/39\u001b[0m \u001b[32m━━━━━━━━━━━━━━━━━━━━\u001b[0m\u001b[37m\u001b[0m \u001b[1m0s\u001b[0m 2ms/step - accuracy: 0.7704 - loss: 0.4782 - val_accuracy: 0.7908 - val_loss: 0.4991\n",
      "Epoch 9/20\n",
      "\u001b[1m39/39\u001b[0m \u001b[32m━━━━━━━━━━━━━━━━━━━━\u001b[0m\u001b[37m\u001b[0m \u001b[1m0s\u001b[0m 2ms/step - accuracy: 0.7958 - loss: 0.4586 - val_accuracy: 0.7745 - val_loss: 0.4983\n",
      "Epoch 10/20\n",
      "\u001b[1m39/39\u001b[0m \u001b[32m━━━━━━━━━━━━━━━━━━━━\u001b[0m\u001b[37m\u001b[0m \u001b[1m0s\u001b[0m 2ms/step - accuracy: 0.7912 - loss: 0.4547 - val_accuracy: 0.8039 - val_loss: 0.4933\n",
      "Epoch 11/20\n",
      "\u001b[1m39/39\u001b[0m \u001b[32m━━━━━━━━━━━━━━━━━━━━\u001b[0m\u001b[37m\u001b[0m \u001b[1m0s\u001b[0m 3ms/step - accuracy: 0.8298 - loss: 0.4137 - val_accuracy: 0.7941 - val_loss: 0.4924\n",
      "Epoch 12/20\n",
      "\u001b[1m39/39\u001b[0m \u001b[32m━━━━━━━━━━━━━━━━━━━━\u001b[0m\u001b[37m\u001b[0m \u001b[1m0s\u001b[0m 2ms/step - accuracy: 0.8168 - loss: 0.4084 - val_accuracy: 0.8007 - val_loss: 0.4838\n",
      "Epoch 13/20\n",
      "\u001b[1m39/39\u001b[0m \u001b[32m━━━━━━━━━━━━━━━━━━━━\u001b[0m\u001b[37m\u001b[0m \u001b[1m0s\u001b[0m 2ms/step - accuracy: 0.8291 - loss: 0.4152 - val_accuracy: 0.8137 - val_loss: 0.4854\n",
      "Epoch 14/20\n",
      "\u001b[1m39/39\u001b[0m \u001b[32m━━━━━━━━━━━━━━━━━━━━\u001b[0m\u001b[37m\u001b[0m \u001b[1m0s\u001b[0m 2ms/step - accuracy: 0.8320 - loss: 0.3818 - val_accuracy: 0.8333 - val_loss: 0.4824\n",
      "Epoch 15/20\n",
      "\u001b[1m39/39\u001b[0m \u001b[32m━━━━━━━━━━━━━━━━━━━━\u001b[0m\u001b[37m\u001b[0m \u001b[1m0s\u001b[0m 2ms/step - accuracy: 0.8499 - loss: 0.3630 - val_accuracy: 0.8431 - val_loss: 0.4752\n",
      "Epoch 16/20\n",
      "\u001b[1m39/39\u001b[0m \u001b[32m━━━━━━━━━━━━━━━━━━━━\u001b[0m\u001b[37m\u001b[0m \u001b[1m0s\u001b[0m 2ms/step - accuracy: 0.8521 - loss: 0.3751 - val_accuracy: 0.8497 - val_loss: 0.4770\n",
      "Epoch 17/20\n",
      "\u001b[1m39/39\u001b[0m \u001b[32m━━━━━━━━━━━━━━━━━━━━\u001b[0m\u001b[37m\u001b[0m \u001b[1m0s\u001b[0m 2ms/step - accuracy: 0.8344 - loss: 0.3716 - val_accuracy: 0.8431 - val_loss: 0.4878\n",
      "Epoch 18/20\n",
      "\u001b[1m39/39\u001b[0m \u001b[32m━━━━━━━━━━━━━━━━━━━━\u001b[0m\u001b[37m\u001b[0m \u001b[1m0s\u001b[0m 2ms/step - accuracy: 0.8428 - loss: 0.3730 - val_accuracy: 0.8562 - val_loss: 0.4830\n",
      "Epoch 19/20\n",
      "\u001b[1m39/39\u001b[0m \u001b[32m━━━━━━━━━━━━━━━━━━━━\u001b[0m\u001b[37m\u001b[0m \u001b[1m0s\u001b[0m 2ms/step - accuracy: 0.8588 - loss: 0.3549 - val_accuracy: 0.8529 - val_loss: 0.4820\n",
      "Epoch 20/20\n",
      "\u001b[1m39/39\u001b[0m \u001b[32m━━━━━━━━━━━━━━━━━━━━\u001b[0m\u001b[37m\u001b[0m \u001b[1m0s\u001b[0m 2ms/step - accuracy: 0.8419 - loss: 0.3709 - val_accuracy: 0.8497 - val_loss: 0.4746\n",
      "\u001b[1m12/12\u001b[0m \u001b[32m━━━━━━━━━━━━━━━━━━━━\u001b[0m\u001b[37m\u001b[0m \u001b[1m0s\u001b[0m 2ms/step - accuracy: 0.8540 - loss: 0.4752\n",
      "Accuracy (DNN): 0.8612565398216248\n"
     ]
    }
   ],
   "source": [
    "from tensorflow.keras.models import Sequential\n",
    "from tensorflow.keras.layers import Dense, Dropout\n",
    "from sklearn.preprocessing import StandardScaler\n",
    "\n",
    "# Split the data into training and testing sets\n",
    "X_train, X_test, y_train, y_test = train_test_split(X_resampled, y_resampled, test_size=0.2, random_state=42)\n",
    "\n",
    "# Escalar los datos (importante para redes neuronales)\n",
    "scaler = StandardScaler()\n",
    "X_train_scaled = scaler.fit_transform(X_train)\n",
    "X_test_scaled = scaler.transform(X_test)\n",
    "\n",
    "# Crear la red neuronal\n",
    "model = Sequential([\n",
    "    Dense(128, activation='relu', input_dim=X_train_scaled.shape[1]),\n",
    "    Dropout(0.3),\n",
    "    Dense(64, activation='relu'),\n",
    "    Dropout(0.3),\n",
    "    Dense(1, activation='sigmoid')  # Para clasificación binaria\n",
    "])\n",
    "\n",
    "# Compilar el modelo\n",
    "model.compile(optimizer='adam', loss='binary_crossentropy', metrics=['accuracy'])\n",
    "\n",
    "# Entrenar\n",
    "history = model.fit(X_train_scaled, y_train, validation_split=0.2, epochs=20, batch_size=32)\n",
    "\n",
    "# Evaluar\n",
    "accuracy = model.evaluate(X_test_scaled, y_test)\n",
    "print(\"Accuracy (DNN):\", accuracy[1])"
   ]
  },
  {
   "cell_type": "code",
   "execution_count": null,
   "metadata": {},
   "outputs": [
    {
     "name": "stdout",
     "output_type": "stream",
     "text": [
      "Random Forest Metrics:\n",
      "              precision    recall  f1-score   support\n",
      "\n",
      "           0       0.96      0.90      0.93       192\n",
      "           1       0.90      0.96      0.93       190\n",
      "\n",
      "    accuracy                           0.93       382\n",
      "   macro avg       0.93      0.93      0.93       382\n",
      "weighted avg       0.93      0.93      0.93       382\n",
      "\n",
      "ROC-AUC: 0.9294956140350877\n",
      "\u001b[1m12/12\u001b[0m \u001b[32m━━━━━━━━━━━━━━━━━━━━\u001b[0m\u001b[37m\u001b[0m \u001b[1m0s\u001b[0m 4ms/step \n",
      "Neural Network Metrics:\n",
      "              precision    recall  f1-score   support\n",
      "\n",
      "           0       0.95      0.77      0.85       192\n",
      "           1       0.80      0.96      0.87       190\n",
      "\n",
      "    accuracy                           0.86       382\n",
      "   macro avg       0.88      0.86      0.86       382\n",
      "weighted avg       0.88      0.86      0.86       382\n",
      "\n",
      "ROC-AUC: 0.8617598684210526\n"
     ]
    }
   ],
   "source": [
    "from sklearn.metrics import classification_report, roc_auc_score\n",
    "\n",
    "# Random Forest\n",
    "y_pred_rf = best_rf_model.predict(X_test)\n",
    "print(\"Random Forest Metrics:\")\n",
    "print(classification_report(y_test, y_pred_rf))\n",
    "print(\"ROC-AUC:\", roc_auc_score(y_test, y_pred_rf))\n",
    "\n",
    "# Red Neuronal\n",
    "y_pred_nn = (model.predict(X_test_scaled) > 0.5).astype(int)\n",
    "print(\"Neural Network Metrics:\")\n",
    "print(classification_report(y_test, y_pred_nn))\n",
    "print(\"ROC-AUC:\", roc_auc_score(y_test, y_pred_nn))\n"
   ]
  }
 ],
 "metadata": {
  "kernelspec": {
   "display_name": "Python 3",
   "language": "python",
   "name": "python3"
  },
  "language_info": {
   "codemirror_mode": {
    "name": "ipython",
    "version": 3
   },
   "file_extension": ".py",
   "mimetype": "text/x-python",
   "name": "python",
   "nbconvert_exporter": "python",
   "pygments_lexer": "ipython3",
   "version": "3.11.7"
  }
 },
 "nbformat": 4,
 "nbformat_minor": 4
}
