{
 "cells": [
  {
   "cell_type": "code",
   "execution_count": 4,
   "metadata": {
    "execution": {
     "iopub.execute_input": "2023-09-05T17:48:58.967050Z",
     "iopub.status.busy": "2023-09-05T17:48:58.966615Z",
     "iopub.status.idle": "2023-09-05T17:49:00.085813Z",
     "shell.execute_reply": "2023-09-05T17:49:00.084487Z",
     "shell.execute_reply.started": "2023-09-05T17:48:58.967014Z"
    },
    "trusted": true
   },
   "outputs": [],
   "source": [
    "import numpy as np\n",
    "import pandas as pd\n",
    "from load_clean_data import load_data, clean_data, oversample"
   ]
  },
  {
   "cell_type": "markdown",
   "metadata": {},
   "source": [
    "<div style=\"background-color: #3498db; border-radius: 10px; text-align: center; padding: 10px;\">\n",
    "    <h1>Data Loading</h1>\n",
    "</div>\n"
   ]
  },
  {
   "cell_type": "code",
   "execution_count": 5,
   "metadata": {},
   "outputs": [],
   "source": [
    "# Cargar y limpiar datos\n",
    "data = load_data()\n",
    "cleandata, X, Y = clean_data(data)\n",
    "X_resampled, y_resampled = oversample(X, Y)"
   ]
  },
  {
   "cell_type": "markdown",
   "metadata": {},
   "source": [
    "<div style=\"background-color: #ccd5ae; border-radius: 10px; text-align: center; padding: 20px;\">\n",
    "    <h1 style=\"color: black;\">Data Modelling</h1>\n",
    "</div>\n"
   ]
  },
  {
   "cell_type": "markdown",
   "metadata": {},
   "source": [
    "### Configuracion MLFLow"
   ]
  },
  {
   "cell_type": "code",
   "execution_count": 6,
   "metadata": {},
   "outputs": [
    {
     "name": "stdout",
     "output_type": "stream",
     "text": [
      "Servidor MLflow iniciado con PID 17680\n"
     ]
    }
   ],
   "source": [
    "import subprocess\n",
    "\n",
    "# Ejecutar MLFlow en segundo plano\n",
    "# Simula ejecutar el comando \"mlflow server --host 127.0.0.1 --port 8080\"\n",
    "process = subprocess.Popen(\n",
    "    [\"mlflow\", \"server\", \"--host\", \"127.0.0.1\", \"--port\", \"8080\", \"--backend-store-uri\", \"sqlite:///C:/Users/camil/OneDrive/Escritorio/Tesis/proyectos/main/mlflowfiles/mlflow.db\", \"--default-artifact-root\", \"file:///C:/Users/camil/OneDrive/Escritorio/Tesis/proyectos/main/mlflowfiles/artifacts\"], \n",
    "    stdout=subprocess.PIPE,  # Captura la salida estándar\n",
    "    stderr=subprocess.PIPE   # Captura errores\n",
    ")\n",
    "\n",
    "print(f\"Servidor MLflow iniciado con PID {process.pid}\")\n"
   ]
  },
  {
   "cell_type": "code",
   "execution_count": 7,
   "metadata": {},
   "outputs": [
    {
     "name": "stderr",
     "output_type": "stream",
     "text": [
      "2025/03/04 11:19:01 INFO mlflow.tracking.fluent: Experiment with name 'logistic-regression-experiment' does not exist. Creating a new experiment.\n"
     ]
    },
    {
     "data": {
      "text/plain": [
       "<Experiment: artifact_location='file:///c:/Users/camil/OneDrive/Escritorio/Tesis/proyectos/main/mlruns/631189094949625404', creation_time=1741097941384, experiment_id='631189094949625404', last_update_time=1741097941384, lifecycle_stage='active', name='logistic-regression-experiment', tags={}>"
      ]
     },
     "execution_count": 7,
     "metadata": {},
     "output_type": "execute_result"
    }
   ],
   "source": [
    "import mlflow\n",
    "from mlflow.models import infer_signature\n",
    "\n",
    "# Configurar SQLite como backend store\n",
    "#mlflow.set_tracking_uri(\"sqlite:///C:/Users/camil/OneDrive/Escritorio/Tesis/proyectos/main/mlflowfiles/mlflow.db\")\n",
    "\n",
    "# Definir la ubicación de los artefactos\n",
    "#mlflow.set_registry_uri(\"file:///C:/Users/camil/OneDrive/Escritorio/Tesis/proyectos/main/mlflowfiles/artifacts\")\n",
    "\n",
    "experiment_name = \"logistic-regression-experiment\"\n",
    "#mlflow.create_experiment(experiment_name, artifact_location=\"file:///C:/Users/camil/OneDrive/Escritorio/Tesis/proyectos/main/mlflowfiles/artifacts\")\n",
    "mlflow.set_experiment(experiment_name)\n"
   ]
  },
  {
   "cell_type": "markdown",
   "metadata": {},
   "source": [
    "### Train, test and splitting the data"
   ]
  },
  {
   "cell_type": "code",
   "execution_count": 8,
   "metadata": {
    "execution": {
     "iopub.execute_input": "2023-09-05T17:49:05.607927Z",
     "iopub.status.busy": "2023-09-05T17:49:05.607476Z",
     "iopub.status.idle": "2023-09-05T17:49:05.645579Z",
     "shell.execute_reply": "2023-09-05T17:49:05.644141Z",
     "shell.execute_reply.started": "2023-09-05T17:49:05.607889Z"
    },
    "trusted": true
   },
   "outputs": [],
   "source": [
    "#: Divide el dataset en dos subconjuntos:\n",
    "# - 80% de los datos será para entrenar el modelo\n",
    "# - 20% de los datos será para evaluar el modelo\n",
    "from sklearn.model_selection import train_test_split\n",
    "\n",
    "X_train, X_test, Y_train, Y_test = train_test_split(X,Y,test_size=0.2)"
   ]
  },
  {
   "cell_type": "markdown",
   "metadata": {},
   "source": [
    "### Modelo de regresión logística"
   ]
  },
  {
   "cell_type": "code",
   "execution_count": 13,
   "metadata": {
    "execution": {
     "iopub.execute_input": "2023-09-05T17:49:05.662011Z",
     "iopub.status.busy": "2023-09-05T17:49:05.661605Z",
     "iopub.status.idle": "2023-09-05T17:49:05.734522Z",
     "shell.execute_reply": "2023-09-05T17:49:05.732890Z",
     "shell.execute_reply.started": "2023-09-05T17:49:05.661980Z"
    },
    "trusted": true
   },
   "outputs": [
    {
     "name": "stdout",
     "output_type": "stream",
     "text": [
      "Accuracy: 0.935\n"
     ]
    }
   ],
   "source": [
    "from sklearn.linear_model import LogisticRegression\n",
    "from sklearn.metrics import accuracy_score, precision_score, recall_score, f1_score, confusion_matrix\n",
    "\n",
    "# Crear el modelo\n",
    "model = LogisticRegression()\n",
    "\n",
    "# Entrenar el modelo con los datos de entrenamiento\n",
    "model.fit(X_train, Y_train)\n",
    "\n",
    "# Realizar predicciones con los datos de prueba\n",
    "y_pred = model.predict(X_test)\n",
    "\n",
    "# Calcular precisión\n",
    "accuracy = accuracy_score(Y_test, y_pred)\n",
    "print(\"Accuracy:\", accuracy)"
   ]
  },
  {
   "cell_type": "markdown",
   "metadata": {},
   "source": [
    "#### Con MLFlow"
   ]
  },
  {
   "cell_type": "code",
   "execution_count": 14,
   "metadata": {},
   "outputs": [
    {
     "name": "stderr",
     "output_type": "stream",
     "text": [
      "2025/03/04 11:19:01 INFO mlflow.tracking.fluent: Experiment with name 'logistic_regression_experiment' does not exist. Creating a new experiment.\n"
     ]
    },
    {
     "name": "stdout",
     "output_type": "stream",
     "text": [
      "registrado\n",
      "Run ID: 446817692fb0442f990b06954057a8c8\n",
      "info: <RunInfo: artifact_uri='file:///c:/Users/camil/OneDrive/Escritorio/Tesis/proyectos/main/mlruns/307746205249028002/446817692fb0442f990b06954057a8c8/artifacts', end_time=None, experiment_id='307746205249028002', lifecycle_stage='active', run_id='446817692fb0442f990b06954057a8c8', run_name='agreeable-chimp-336', run_uuid='446817692fb0442f990b06954057a8c8', start_time=1741097943139, status='RUNNING', user_id='Cami'>\n"
     ]
    },
    {
     "name": "stderr",
     "output_type": "stream",
     "text": [
      "Successfully registered model 'logistic-regression-experiment'.\n",
      "Created version '1' of model 'logistic-regression-experiment'.\n"
     ]
    }
   ],
   "source": [
    "from sklearn.linear_model import LogisticRegression\n",
    "from sklearn.metrics import accuracy_score, precision_score, recall_score, f1_score\n",
    "import mlflow\n",
    "from mlflow.models import infer_signature\n",
    "experiment_name = \"logistic_regression_experiment\"\n",
    "mlflow.set_experiment(experiment_name)\n",
    "\n",
    "# Definir parámetros del modelo\n",
    "params = {\n",
    "    \"solver\": \"lbfgs\",\n",
    "    \"max_iter\": 100,\n",
    "    \"random_state\": 42\n",
    "}\n",
    "\n",
    "with mlflow.start_run():\n",
    "    # Registrar parámetros\n",
    "    mlflow.log_params(params)\n",
    "\n",
    "    # Crear y entrenar el modelo\n",
    "    model = LogisticRegression(**params)\n",
    "    model.fit(X_train, Y_train)\n",
    "\n",
    "    # Hacer predicciones\n",
    "    y_pred = model.predict(X_test)\n",
    "\n",
    "    # Calcular métricas\n",
    "    accuracy = accuracy_score(Y_test, y_pred)\n",
    "    precision = precision_score(Y_test, y_pred, average=\"weighted\")\n",
    "    recall = recall_score(Y_test, y_pred, average=\"weighted\")\n",
    "    f1 = f1_score(Y_test, y_pred, average=\"weighted\")\n",
    "\n",
    "    # Registrar métricas\n",
    "    mlflow.log_metric(\"accuracy\", accuracy)\n",
    "    mlflow.log_metric(\"precision\", precision)\n",
    "    mlflow.log_metric(\"recall\", recall)\n",
    "    mlflow.log_metric(\"f1_score\", f1)\n",
    "\n",
    "    # Capturar firma del modelo\n",
    "    signature = infer_signature(X_train, model.predict(X_train))\n",
    "\n",
    "    # Registrar el modelo\n",
    "    mlflow.sklearn.log_model(\n",
    "    sk_model=model,\n",
    "    artifact_path=\"logistic_regression_model\",\n",
    "    signature=signature)\n",
    "\n",
    "    # Registrar el modelo en MLflow Model Registry\n",
    "    mlflow.register_model(\n",
    "        f\"runs:/{mlflow.active_run().info.run_id}/logistic_regression_model\",\n",
    "        \"logistic-regression-experiment\"\n",
    "    )\n",
    "    \n",
    "    print(\"registrado\")\n",
    "\n",
    "\n",
    "    print(f\"Run ID: {mlflow.active_run().info.run_id}\")  # Identificador único de este experimento\n",
    "\n",
    "    print(f\"info: {mlflow.active_run().info}\")"
   ]
  },
  {
   "cell_type": "markdown",
   "metadata": {},
   "source": [
    "High accuracy is not often a good thing in a machine learning model as it states the problem of imbalanced dataset"
   ]
  },
  {
   "cell_type": "code",
   "execution_count": 15,
   "metadata": {
    "execution": {
     "iopub.execute_input": "2023-09-05T17:49:05.736359Z",
     "iopub.status.busy": "2023-09-05T17:49:05.735998Z",
     "iopub.status.idle": "2023-09-05T17:49:06.012087Z",
     "shell.execute_reply": "2023-09-05T17:49:06.010590Z",
     "shell.execute_reply.started": "2023-09-05T17:49:05.736330Z"
    },
    "trusted": true
   },
   "outputs": [
    {
     "ename": "ModuleNotFoundError",
     "evalue": "No module named 'seaborn'",
     "output_type": "error",
     "traceback": [
      "\u001b[1;31m---------------------------------------------------------------------------\u001b[0m",
      "\u001b[1;31mModuleNotFoundError\u001b[0m                       Traceback (most recent call last)",
      "Cell \u001b[1;32mIn[15], line 1\u001b[0m\n\u001b[1;32m----> 1\u001b[0m \u001b[38;5;28;01mimport\u001b[39;00m \u001b[38;5;21;01mseaborn\u001b[39;00m \u001b[38;5;28;01mas\u001b[39;00m \u001b[38;5;21;01msns\u001b[39;00m\n\u001b[0;32m      2\u001b[0m \u001b[38;5;28;01mimport\u001b[39;00m \u001b[38;5;21;01mmatplotlib\u001b[39;00m\u001b[38;5;21;01m.\u001b[39;00m\u001b[38;5;21;01mpyplot\u001b[39;00m \u001b[38;5;28;01mas\u001b[39;00m \u001b[38;5;21;01mplt\u001b[39;00m\n\u001b[0;32m      4\u001b[0m \u001b[38;5;66;03m# Assuming you have a DataFrame 'df' with a 'FraudIndicator' column\u001b[39;00m\n\u001b[0;32m      5\u001b[0m \u001b[38;5;66;03m# Load your data into the DataFrame if not already done\u001b[39;00m\n\u001b[0;32m      6\u001b[0m \n\u001b[0;32m      7\u001b[0m \u001b[38;5;66;03m# Create a count plot for the 'FraudIndicator' column\u001b[39;00m\n",
      "\u001b[1;31mModuleNotFoundError\u001b[0m: No module named 'seaborn'"
     ]
    }
   ],
   "source": [
    "import seaborn as sns\n",
    "import matplotlib.pyplot as plt\n",
    "\n",
    "# Assuming you have a DataFrame 'df' with a 'FraudIndicator' column\n",
    "# Load your data into the DataFrame if not already done\n",
    "\n",
    "# Create a count plot for the 'FraudIndicator' column\n",
    "plt.figure(figsize=(8, 6))  # Optional: Adjust the figure size\n",
    "sns.countplot(data=data1, x='FraudIndicator', palette='viridis')\n",
    "plt.title('Count Plot of Fraud Indicator')\n",
    "plt.xlabel('Fraud Indicator')\n",
    "plt.ylabel('Count')\n",
    "plt.show()\n"
   ]
  },
  {
   "cell_type": "markdown",
   "metadata": {},
   "source": [
    "#### Logistic regression using sampled Data"
   ]
  },
  {
   "cell_type": "code",
   "execution_count": null,
   "metadata": {
    "execution": {
     "iopub.execute_input": "2023-09-05T17:49:06.015143Z",
     "iopub.status.busy": "2023-09-05T17:49:06.014137Z",
     "iopub.status.idle": "2023-09-05T17:49:06.393580Z",
     "shell.execute_reply": "2023-09-05T17:49:06.391907Z",
     "shell.execute_reply.started": "2023-09-05T17:49:06.015098Z"
    },
    "trusted": true
   },
   "outputs": [
    {
     "name": "stdout",
     "output_type": "stream",
     "text": [
      "Class distribution after oversampling: Counter({0: 955, 1: 955})\n"
     ]
    },
    {
     "data": {
      "image/png": "[encoded data removed]",
      "text/plain": [
       "<Figure size 800x600 with 1 Axes>"
      ]
     },
     "metadata": {},
     "output_type": "display_data"
    }
   ],
   "source": [
    "import pandas as pd\n",
    "import seaborn as sns\n",
    "import matplotlib.pyplot as plt\n",
    "from imblearn.over_sampling import SMOTE\n",
    "from collections import Counter\n",
    "\n",
    "# Initialize SMOTE for oversampling\n",
    "smote = SMOTE(random_state=42)\n",
    "\n",
    "# Apply SMOTE to the data\n",
    "X_resampled, y_resampled = smote.fit_resample(X, Y)\n",
    "\n",
    "# Check the class distribution after oversampling\n",
    "print(\"Class distribution after oversampling:\", Counter(y_resampled))\n",
    "\n",
    "# Create a count plot for the 'FraudIndicator' column after oversampling\n",
    "plt.figure(figsize=(8, 6))\n",
    "sns.countplot(data=pd.DataFrame({'FraudIndicator': y_resampled}), x='FraudIndicator', palette='viridis')\n",
    "plt.title('Count Plot of Fraud Indicator (After Oversampling)')\n",
    "plt.xlabel('Fraud Indicator')\n",
    "plt.ylabel('Count')\n",
    "plt.show()\n"
   ]
  },
  {
   "cell_type": "code",
   "execution_count": null,
   "metadata": {
    "execution": {
     "iopub.execute_input": "2023-09-05T17:49:06.395978Z",
     "iopub.status.busy": "2023-09-05T17:49:06.395274Z",
     "iopub.status.idle": "2023-09-05T17:49:06.503824Z",
     "shell.execute_reply": "2023-09-05T17:49:06.502005Z",
     "shell.execute_reply.started": "2023-09-05T17:49:06.395938Z"
    },
    "trusted": true
   },
   "outputs": [
    {
     "name": "stdout",
     "output_type": "stream",
     "text": [
      "Model Evaluation Metrics:\n",
      "Accuracy: 0.56\n",
      "Precision: 0.047058823529411764\n",
      "Recall: 0.36363636363636365\n",
      "F1 Score: 0.08333333333333333\n",
      "Confusion Matrix:\n",
      "[[108  81]\n",
      " [  7   4]]\n"
     ]
    }
   ],
   "source": [
    "# Retraining Logistic regression using SAMPLED Data\n",
    "model = LogisticRegression()\n",
    "\n",
    "# Train the model on the training data\n",
    "model.fit(X_resampled, y_resampled)\n",
    "\n",
    "# Make predictions on the testing data\n",
    "y_pred = model.predict(X_test)\n",
    "\n",
    "# Calculate and print various metrics to evaluate the model's performance\n",
    "accuracy = accuracy_score(Y_test, y_pred)\n",
    "precision = precision_score(Y_test, y_pred)\n",
    "recall = recall_score(Y_test, y_pred)\n",
    "f1 = f1_score(Y_test, y_pred)\n",
    "confusion = confusion_matrix(Y_test, y_pred)\n",
    "\n",
    "print(\"Model Evaluation Metrics:\")\n",
    "print(\"Accuracy:\", accuracy)\n",
    "print(\"Precision:\", precision)\n",
    "print(\"Recall:\", recall)\n",
    "print(\"F1 Score:\", f1)\n",
    "print(\"Confusion Matrix:\")\n",
    "print(confusion)"
   ]
  },
  {
   "cell_type": "code",
   "execution_count": null,
   "metadata": {},
   "outputs": [
    {
     "name": "stdout",
     "output_type": "stream",
     "text": [
      "Run ID: d4f37a0a5cfd45a493c6a772420efb12\n"
     ]
    },
    {
     "name": "stderr",
     "output_type": "stream",
     "text": [
      "Registered model 'logistic-regression-withSampleData-experiment' already exists. Creating a new version of this model...\n",
      "Created version '3' of model 'logistic-regression-withSampleData-experiment'.\n"
     ]
    }
   ],
   "source": [
    "# Logistic Regression model with Sample Data with Mlflow\n",
    "\n",
    "from sklearn.linear_model import LogisticRegression\n",
    "from sklearn.metrics import accuracy_score, precision_score, recall_score, f1_score\n",
    "\n",
    "# Iniciar un nuevo run en MLflow\n",
    "with mlflow.start_run():\n",
    "    model = LogisticRegression()\n",
    "\n",
    "    # Train the model on the training data\n",
    "    model.fit(X_resampled, y_resampled)\n",
    "\n",
    "    # Make predictions on the testing data\n",
    "    y_pred = model.predict(X_test)\n",
    "\n",
    "    # Calculate and print various metrics to evaluate the model's performance\n",
    "    accuracy = accuracy_score(Y_test, y_pred)\n",
    "    precision = precision_score(Y_test, y_pred, average=\"weighted\")\n",
    "    recall = recall_score(Y_test, y_pred, average=\"weighted\")\n",
    "    f1 = f1_score(Y_test, y_pred, average=\"weighted\")\n",
    "    confusion = confusion_matrix(Y_test, y_pred)\n",
    "\n",
    "    # Registrar métricas\n",
    "    mlflow.log_metric(\"accuracy\", accuracy)\n",
    "    mlflow.log_metric(\"precision\", precision)\n",
    "    mlflow.log_metric(\"recall\", recall)\n",
    "    mlflow.log_metric(\"f1_score\", f1)\n",
    "\n",
    "    # Capturar firma del modelo\n",
    "    signature = infer_signature(X_train, model.predict(X_train))\n",
    "\n",
    "    # Registrar el modelo\n",
    "    mlflow.sklearn.log_model(\n",
    "        sk_model=model,\n",
    "        artifact_path=\"logistic_regression_model_withSampleData\",\n",
    "        signature=signature,\n",
    "        registered_model_name=\"logistic-regression-withSampleData-experiment\"\n",
    "    )\n",
    "\n",
    "    print(f\"Run ID: {mlflow.active_run().info.run_id}\")  # Identificador único de este experimento"
   ]
  },
  {
   "cell_type": "markdown",
   "metadata": {},
   "source": [
    "#### Logistic Regression Model with Hyperparameter Tuning"
   ]
  },
  {
   "cell_type": "markdown",
   "metadata": {},
   "source": [
    "Encontrar los valores óptimos de los hiperparámetros de un modelo de aprendizaje automático para mejorar su rendimiento."
   ]
  },
  {
   "cell_type": "code",
   "execution_count": null,
   "metadata": {
    "execution": {
     "iopub.execute_input": "2023-09-05T17:49:06.508125Z",
     "iopub.status.busy": "2023-09-05T17:49:06.506727Z",
     "iopub.status.idle": "2023-09-05T17:49:09.332905Z",
     "shell.execute_reply": "2023-09-05T17:49:09.331081Z",
     "shell.execute_reply.started": "2023-09-05T17:49:06.508049Z"
    },
    "trusted": true
   },
   "outputs": [
    {
     "name": "stdout",
     "output_type": "stream",
     "text": [
      "Best Hyperparameters: {'C': np.float64(100.0), 'penalty': 'l1', 'solver': 'liblinear'}\n",
      "Model Evaluation Metrics on Resampled Data:\n",
      "Accuracy: 0.6162303664921466\n",
      "Precision: 0.611\n",
      "Recall: 0.6397905759162303\n",
      "F1 Score: 0.6250639386189258\n",
      "Confusion Matrix:\n",
      "[[566 389]\n",
      " [344 611]]\n"
     ]
    }
   ],
   "source": [
    "import numpy as np\n",
    "from sklearn.model_selection import GridSearchCV\n",
    "from sklearn.linear_model import LogisticRegression\n",
    "\n",
    "# Define the logistic regression model\n",
    "model = LogisticRegression()\n",
    "\n",
    "# Define a range of hyperparameters to search\n",
    "param_grid = {\n",
    "    'penalty': ['l1', 'l2'],  # Regularization type\n",
    "    'C': np.logspace(-3, 3, 7),  # Inverse of regularization strength (smaller values for stronger regularization)\n",
    "    'solver': ['liblinear'],  # Solver for l1 regularization\n",
    "}\n",
    "\n",
    "# Create a grid search with cross-validation\n",
    "grid_search = GridSearchCV(model, param_grid, cv=5, scoring='f1', n_jobs=-1)\n",
    "\n",
    "# Fit the grid search to the data\n",
    "grid_search.fit(X_resampled, y_resampled)\n",
    "\n",
    "# Get the best hyperparameters and corresponding model\n",
    "best_params = grid_search.best_params_\n",
    "best_model = grid_search.best_estimator_\n",
    "\n",
    "# Print the best hyperparameters\n",
    "print(\"Best Hyperparameters:\", best_params)\n",
    "\n",
    "# Evaluate the best model on the resampled data\n",
    "y_pred = best_model.predict(X_resampled)\n",
    "\n",
    "# Calculate and print various metrics to evaluate the model's performance on the resampled data\n",
    "accuracy = accuracy_score(y_resampled, y_pred)\n",
    "precision = precision_score(y_resampled, y_pred)\n",
    "recall = recall_score(y_resampled, y_pred)\n",
    "f1 = f1_score(y_resampled, y_pred)\n",
    "confusion = confusion_matrix(y_resampled, y_pred)\n",
    "\n",
    "print(\"Model Evaluation Metrics on Resampled Data:\")\n",
    "print(\"Accuracy:\", accuracy)\n",
    "print(\"Precision:\", precision)\n",
    "print(\"Recall:\", recall)\n",
    "print(\"F1 Score:\", f1)\n",
    "print(\"Confusion Matrix:\")\n",
    "print(confusion)\n"
   ]
  },
  {
   "cell_type": "code",
   "execution_count": null,
   "metadata": {
    "execution": {
     "iopub.execute_input": "2023-09-05T17:49:09.337748Z",
     "iopub.status.busy": "2023-09-05T17:49:09.336515Z",
     "iopub.status.idle": "2023-09-05T17:49:10.578006Z",
     "shell.execute_reply": "2023-09-05T17:49:10.576834Z",
     "shell.execute_reply.started": "2023-09-05T17:49:09.337685Z"
    },
    "trusted": true
   },
   "outputs": [
    {
     "name": "stdout",
     "output_type": "stream",
     "text": [
      "Results for Decision Tree Classifier:\n",
      "Accuracy: 0.8272251308900523\n",
      "Precision: 0.8131313131313131\n",
      "Recall: 0.8473684210526315\n",
      "F1 Score: 0.8298969072164949\n",
      "Confusion Matrix: [[155  37]\n",
      " [ 29 161]]\n",
      "\n",
      "Results for Random Forest Classifier:\n",
      "Accuracy: 0.9345549738219895\n",
      "Precision: 0.9187817258883249\n",
      "Recall: 0.9526315789473684\n",
      "F1 Score: 0.9354005167958657\n",
      "Confusion Matrix: [[176  16]\n",
      " [  9 181]]\n",
      "\n",
      "Results for Support Vector Machine (SVM):\n",
      "Accuracy: 0.6073298429319371\n",
      "Precision: 0.6333333333333333\n",
      "Recall: 0.5\n",
      "F1 Score: 0.5588235294117647\n",
      "Confusion Matrix: [[137  55]\n",
      " [ 95  95]]\n",
      "\n",
      "Results for K-Nearest Neighbors (KNN):\n",
      "Accuracy: 0.819371727748691\n",
      "Precision: 0.759656652360515\n",
      "Recall: 0.9315789473684211\n",
      "F1 Score: 0.8368794326241135\n",
      "Confusion Matrix: [[136  56]\n",
      " [ 13 177]]\n",
      "\n",
      "Results for Gradient Boosting Classifier:\n",
      "Accuracy: 0.8403141361256544\n",
      "Precision: 0.7972350230414746\n",
      "Recall: 0.9105263157894737\n",
      "F1 Score: 0.8501228501228502\n",
      "Confusion Matrix: [[148  44]\n",
      " [ 17 173]]\n",
      "\n"
     ]
    }
   ],
   "source": [
    "from sklearn.metrics import accuracy_score, precision_score, recall_score, f1_score, confusion_matrix\n",
    "from sklearn.model_selection import train_test_split\n",
    "from sklearn.tree import DecisionTreeClassifier\n",
    "from sklearn.ensemble import RandomForestClassifier, GradientBoostingClassifier\n",
    "from sklearn.svm import SVC\n",
    "from sklearn.neighbors import KNeighborsClassifier\n",
    "\n",
    "def evaluate_classification_models(X_resampled, y_resampled):\n",
    "    # Split the resampled data into training and testing sets\n",
    "    X_train, X_test, y_train, y_test = train_test_split(X_resampled, y_resampled, test_size=0.2, random_state=42)\n",
    "    \n",
    "    # Define a dictionary of classification models\n",
    "    models = {\n",
    "        \"Decision Tree Classifier\": DecisionTreeClassifier(),\n",
    "        \"Random Forest Classifier\": RandomForestClassifier(),\n",
    "        \"Support Vector Machine (SVM)\": SVC(),\n",
    "        \"K-Nearest Neighbors (KNN)\": KNeighborsClassifier(),\n",
    "        \"Gradient Boosting Classifier\": GradientBoostingClassifier()\n",
    "    }\n",
    "    \n",
    "    results = {}\n",
    "    \n",
    "    for model_name, model in models.items():\n",
    "        # Train the model\n",
    "        model.fit(X_train, y_train)\n",
    "        \n",
    "        # Make predictions\n",
    "        y_pred = model.predict(X_test)\n",
    "        \n",
    "        # Calculate and store various metrics\n",
    "        accuracy = accuracy_score(y_test, y_pred)\n",
    "        precision = precision_score(y_test, y_pred)\n",
    "        recall = recall_score(y_test, y_pred)\n",
    "        f1 = f1_score(y_test, y_pred)\n",
    "        confusion = confusion_matrix(y_test, y_pred)\n",
    "        \n",
    "        results[model_name] = {\n",
    "            \"Accuracy\": accuracy,\n",
    "            \"Precision\": precision,\n",
    "            \"Recall\": recall,\n",
    "            \"F1 Score\": f1,\n",
    "            \"Confusion Matrix\": confusion\n",
    "        }\n",
    "    \n",
    "    return results\n",
    "\n",
    "results = evaluate_classification_models(X_resampled, y_resampled)\n",
    "for model_name, model_result in results.items():\n",
    "     print(f\"Results for {model_name}:\")\n",
    "     for metric, value in model_result.items():\n",
    "         print(f\"{metric}: {value}\")\n",
    "     print()\n"
   ]
  },
  {
   "cell_type": "markdown",
   "metadata": {},
   "source": [
    "### XGBoost"
   ]
  },
  {
   "cell_type": "code",
   "execution_count": null,
   "metadata": {},
   "outputs": [
    {
     "name": "stdout",
     "output_type": "stream",
     "text": [
      "Fitting 3 folds for each of 108 candidates, totalling 324 fits\n",
      "Mejores hiperparámetros: {'colsample_bytree': 0.8, 'learning_rate': 0.01, 'max_depth': 3, 'n_estimators': 100, 'subsample': 0.8}\n",
      "Accuracy con la mejor configuración: 0.945\n"
     ]
    }
   ],
   "source": [
    "import mlflow\n",
    "import mlflow.xgboost\n",
    "import xgboost as xgb\n",
    "from sklearn.model_selection import train_test_split, GridSearchCV\n",
    "from sklearn.metrics import accuracy_score, precision_score, recall_score, f1_score, confusion_matrix\n",
    "\n",
    "# Dividir los datos en entrenamiento y prueba (80%-20%)\n",
    "X_train, X_test, Y_train, Y_test = train_test_split(X, Y, test_size=0.2, random_state=42)\n",
    "\n",
    "# Definir los hiperparámetros a probar\n",
    "param_grid = {\n",
    "    'n_estimators': [100, 200, 300],  # Número de árboles\n",
    "    'learning_rate': [0.01, 0.1, 0.2],  # Tasa de aprendizaje\n",
    "    'max_depth': [3, 5, 7],  # Profundidad máxima de los árboles\n",
    "    'subsample': [0.8, 1],  # Fracción de datos usada en cada árbol\n",
    "    'colsample_bytree': [0.8, 1]  # Fracción de columnas usada en cada árbol\n",
    "}\n",
    "\n",
    "# Crear el modelo base\n",
    "xgb_model = xgb.XGBClassifier(use_label_encoder=False, eval_metric='logloss')\n",
    "\n",
    "# Iniciar un experimento en MLflow\n",
    "mlflow.set_experiment(\"XGBoost_GridSearch\")\n",
    "\n",
    "with mlflow.start_run():\n",
    "    # Grid Search con validación cruzada\n",
    "    grid_search = GridSearchCV(xgb_model, param_grid, scoring='accuracy', cv=3, verbose=1, n_jobs=-1)\n",
    "    \n",
    "    # Entrenar con distintas configuraciones\n",
    "    grid_search.fit(X_train, Y_train)\n",
    "    \n",
    "    # Obtener la mejor configuración\n",
    "    best_params = grid_search.best_params_\n",
    "    print(\"Mejores hiperparámetros:\", best_params)\n",
    "\n",
    "    # Evaluar el modelo con la mejor configuración\n",
    "    best_model = grid_search.best_estimator_\n",
    "    y_pred = best_model.predict(X_test)\n",
    "\n",
    "    # Calcular métricas\n",
    "    accuracy = accuracy_score(Y_test, y_pred)\n",
    "    precision = precision_score(Y_test, y_pred, average=\"weighted\")\n",
    "    recall = recall_score(Y_test, y_pred, average=\"weighted\")\n",
    "    f1 = f1_score(Y_test, y_pred, average=\"weighted\")\n",
    "\n",
    "    print(\"Accuracy:\", accuracy)\n",
    "\n",
    "    # Registrar parámetros y métricas en MLflow\n",
    "    mlflow.log_params(best_params)\n",
    "    mlflow.log_metric(\"accuracy\", accuracy)\n",
    "    mlflow.log_metric(\"precision\", precision)\n",
    "    mlflow.log_metric(\"recall\", recall)\n",
    "    mlflow.log_metric(\"f1_score\", f1)\n",
    "\n",
    "    # Guardar el modelo en MLflow\n",
    "    mlflow.xgboost.log_model(best_model, \"xgboost_model\")\n"
   ]
  },
  {
   "cell_type": "markdown",
   "metadata": {},
   "source": [
    "# Ranking Models perfromance\n",
    "1. Random Forest Classifier\n",
    "2. Gradient Boosting Algorithm\n",
    "3. Decision Tree Classifier\n",
    "4. K-Nearest Neighbours\n",
    "5. Support Vector Machine (SVC)\n",
    "6. Logistic Regression"
   ]
  },
  {
   "cell_type": "markdown",
   "metadata": {},
   "source": [
    "Now we can HyperParameterTune the"
   ]
  },
  {
   "cell_type": "markdown",
   "metadata": {},
   "source": [
    "## RandomForest CLassifier"
   ]
  },
  {
   "cell_type": "code",
   "execution_count": null,
   "metadata": {
    "execution": {
     "iopub.execute_input": "2023-09-05T17:49:10.580165Z",
     "iopub.status.busy": "2023-09-05T17:49:10.579814Z",
     "iopub.status.idle": "2023-09-05T17:50:34.414384Z",
     "shell.execute_reply": "2023-09-05T17:50:34.412168Z",
     "shell.execute_reply.started": "2023-09-05T17:49:10.580135Z"
    },
    "trusted": true
   },
   "outputs": [
    {
     "name": "stdout",
     "output_type": "stream",
     "text": [
      "Best Hyperparameters: {'max_depth': 30, 'min_samples_leaf': 1, 'min_samples_split': 2, 'n_estimators': 150}\n",
      "Best Model Evaluation Metrics:\n",
      "Accuracy: 0.9293193717277487\n",
      "Precision: 0.9014778325123153\n",
      "Recall: 0.9631578947368421\n",
      "F1 Score: 0.9312977099236641\n",
      "Confusion Matrix:\n",
      "[[172  20]\n",
      " [  7 183]]\n"
     ]
    }
   ],
   "source": [
    "from sklearn.model_selection import train_test_split, GridSearchCV\n",
    "from sklearn.ensemble import RandomForestClassifier\n",
    "from sklearn.metrics import accuracy_score, precision_score, recall_score, f1_score, confusion_matrix\n",
    "\n",
    "# Split the data into training and testing sets\n",
    "X_train, X_test, y_train, y_test = train_test_split(X_resampled, y_resampled, test_size=0.2, random_state=42)\n",
    "\n",
    "# Define the Random Forest Classifier model\n",
    "rf_model = RandomForestClassifier(random_state=42)\n",
    "\n",
    "# Define a range of hyperparameters to search\n",
    "param_grid = {\n",
    "    'n_estimators': [50, 100, 150],  # Number of trees in the forest\n",
    "    'max_depth': [None, 10, 20, 30],  # Maximum depth of the trees\n",
    "    'min_samples_split': [2, 5, 10],  # Minimum number of samples required to split an internal node\n",
    "    'min_samples_leaf': [1, 2, 4],  # Minimum number of samples required to be at a leaf node\n",
    "}\n",
    "\n",
    "# Create a grid search with cross-validation\n",
    "grid_search = GridSearchCV(rf_model, param_grid, cv=5, scoring='f1', n_jobs=-1)\n",
    "\n",
    "# Fit the grid search to the resampled data\n",
    "grid_search.fit(X_train, y_train)\n",
    "\n",
    "# Get the best hyperparameters and corresponding model\n",
    "best_params = grid_search.best_params_\n",
    "best_rf_model = grid_search.best_estimator_\n",
    "\n",
    "# Print the best hyperparameters\n",
    "print(\"Best Hyperparameters:\", best_params)\n",
    "\n",
    "# Train the best model on the training data\n",
    "best_rf_model.fit(X_train, y_train)\n",
    "\n",
    "# Make predictions on the testing data\n",
    "y_pred = best_rf_model.predict(X_test)\n",
    "\n",
    "# Calculate and print various metrics to evaluate the best model's performance\n",
    "accuracy = accuracy_score(y_test, y_pred)\n",
    "precision = precision_score(y_test, y_pred)\n",
    "recall = recall_score(y_test, y_pred)\n",
    "f1 = f1_score(y_test, y_pred)\n",
    "confusion = confusion_matrix(y_test, y_pred)\n",
    "\n",
    "print(\"Best Model Evaluation Metrics:\")\n",
    "print(\"Accuracy:\", accuracy)\n",
    "print(\"Precision:\", precision)\n",
    "print(\"Recall:\", recall)\n",
    "print(\"F1 Score:\", f1)\n",
    "print(\"Confusion Matrix:\")\n",
    "print(confusion)\n"
   ]
  },
  {
   "cell_type": "markdown",
   "metadata": {},
   "source": []
  },
  {
   "cell_type": "code",
   "execution_count": null,
   "metadata": {},
   "outputs": [
    {
     "name": "stdout",
     "output_type": "stream",
     "text": [
      "Epoch 1/20\n",
      "\u001b[1m39/39\u001b[0m \u001b[32m━━━━━━━━━━━━━━━━━━━━\u001b[0m\u001b[37m\u001b[0m \u001b[1m2s\u001b[0m 7ms/step - accuracy: 0.5900 - loss: 0.6655 - val_accuracy: 0.6601 - val_loss: 0.6148\n",
      "Epoch 2/20\n",
      "\u001b[1m39/39\u001b[0m \u001b[32m━━━━━━━━━━━━━━━━━━━━\u001b[0m\u001b[37m\u001b[0m \u001b[1m0s\u001b[0m 3ms/step - accuracy: 0.6226 - loss: 0.6161 - val_accuracy: 0.7124 - val_loss: 0.5842\n",
      "Epoch 3/20\n",
      "\u001b[1m39/39\u001b[0m \u001b[32m━━━━━━━━━━━━━━━━━━━━\u001b[0m\u001b[37m\u001b[0m \u001b[1m0s\u001b[0m 2ms/step - accuracy: 0.6863 - loss: 0.5781 - val_accuracy: 0.7386 - val_loss: 0.5666\n",
      "Epoch 4/20\n",
      "\u001b[1m39/39\u001b[0m \u001b[32m━━━━━━━━━━━━━━━━━━━━\u001b[0m\u001b[37m\u001b[0m \u001b[1m0s\u001b[0m 2ms/step - accuracy: 0.6886 - loss: 0.5628 - val_accuracy: 0.7614 - val_loss: 0.5467\n",
      "Epoch 5/20\n",
      "\u001b[1m39/39\u001b[0m \u001b[32m━━━━━━━━━━━━━━━━━━━━\u001b[0m\u001b[37m\u001b[0m \u001b[1m0s\u001b[0m 2ms/step - accuracy: 0.7159 - loss: 0.5298 - val_accuracy: 0.7712 - val_loss: 0.5322\n",
      "Epoch 6/20\n",
      "\u001b[1m39/39\u001b[0m \u001b[32m━━━━━━━━━━━━━━━━━━━━\u001b[0m\u001b[37m\u001b[0m \u001b[1m0s\u001b[0m 2ms/step - accuracy: 0.7557 - loss: 0.5065 - val_accuracy: 0.7908 - val_loss: 0.5131\n",
      "Epoch 7/20\n",
      "\u001b[1m39/39\u001b[0m \u001b[32m━━━━━━━━━━━━━━━━━━━━\u001b[0m\u001b[37m\u001b[0m \u001b[1m0s\u001b[0m 3ms/step - accuracy: 0.7650 - loss: 0.4871 - val_accuracy: 0.7974 - val_loss: 0.5090\n",
      "Epoch 8/20\n",
      "\u001b[1m39/39\u001b[0m \u001b[32m━━━━━━━━━━━━━━━━━━━━\u001b[0m\u001b[37m\u001b[0m \u001b[1m0s\u001b[0m 2ms/step - accuracy: 0.7704 - loss: 0.4782 - val_accuracy: 0.7908 - val_loss: 0.4991\n",
      "Epoch 9/20\n",
      "\u001b[1m39/39\u001b[0m \u001b[32m━━━━━━━━━━━━━━━━━━━━\u001b[0m\u001b[37m\u001b[0m \u001b[1m0s\u001b[0m 2ms/step - accuracy: 0.7958 - loss: 0.4586 - val_accuracy: 0.7745 - val_loss: 0.4983\n",
      "Epoch 10/20\n",
      "\u001b[1m39/39\u001b[0m \u001b[32m━━━━━━━━━━━━━━━━━━━━\u001b[0m\u001b[37m\u001b[0m \u001b[1m0s\u001b[0m 2ms/step - accuracy: 0.7912 - loss: 0.4547 - val_accuracy: 0.8039 - val_loss: 0.4933\n",
      "Epoch 11/20\n",
      "\u001b[1m39/39\u001b[0m \u001b[32m━━━━━━━━━━━━━━━━━━━━\u001b[0m\u001b[37m\u001b[0m \u001b[1m0s\u001b[0m 3ms/step - accuracy: 0.8298 - loss: 0.4137 - val_accuracy: 0.7941 - val_loss: 0.4924\n",
      "Epoch 12/20\n",
      "\u001b[1m39/39\u001b[0m \u001b[32m━━━━━━━━━━━━━━━━━━━━\u001b[0m\u001b[37m\u001b[0m \u001b[1m0s\u001b[0m 2ms/step - accuracy: 0.8168 - loss: 0.4084 - val_accuracy: 0.8007 - val_loss: 0.4838\n",
      "Epoch 13/20\n",
      "\u001b[1m39/39\u001b[0m \u001b[32m━━━━━━━━━━━━━━━━━━━━\u001b[0m\u001b[37m\u001b[0m \u001b[1m0s\u001b[0m 2ms/step - accuracy: 0.8291 - loss: 0.4152 - val_accuracy: 0.8137 - val_loss: 0.4854\n",
      "Epoch 14/20\n",
      "\u001b[1m39/39\u001b[0m \u001b[32m━━━━━━━━━━━━━━━━━━━━\u001b[0m\u001b[37m\u001b[0m \u001b[1m0s\u001b[0m 2ms/step - accuracy: 0.8320 - loss: 0.3818 - val_accuracy: 0.8333 - val_loss: 0.4824\n",
      "Epoch 15/20\n",
      "\u001b[1m39/39\u001b[0m \u001b[32m━━━━━━━━━━━━━━━━━━━━\u001b[0m\u001b[37m\u001b[0m \u001b[1m0s\u001b[0m 2ms/step - accuracy: 0.8499 - loss: 0.3630 - val_accuracy: 0.8431 - val_loss: 0.4752\n",
      "Epoch 16/20\n",
      "\u001b[1m39/39\u001b[0m \u001b[32m━━━━━━━━━━━━━━━━━━━━\u001b[0m\u001b[37m\u001b[0m \u001b[1m0s\u001b[0m 2ms/step - accuracy: 0.8521 - loss: 0.3751 - val_accuracy: 0.8497 - val_loss: 0.4770\n",
      "Epoch 17/20\n",
      "\u001b[1m39/39\u001b[0m \u001b[32m━━━━━━━━━━━━━━━━━━━━\u001b[0m\u001b[37m\u001b[0m \u001b[1m0s\u001b[0m 2ms/step - accuracy: 0.8344 - loss: 0.3716 - val_accuracy: 0.8431 - val_loss: 0.4878\n",
      "Epoch 18/20\n",
      "\u001b[1m39/39\u001b[0m \u001b[32m━━━━━━━━━━━━━━━━━━━━\u001b[0m\u001b[37m\u001b[0m \u001b[1m0s\u001b[0m 2ms/step - accuracy: 0.8428 - loss: 0.3730 - val_accuracy: 0.8562 - val_loss: 0.4830\n",
      "Epoch 19/20\n",
      "\u001b[1m39/39\u001b[0m \u001b[32m━━━━━━━━━━━━━━━━━━━━\u001b[0m\u001b[37m\u001b[0m \u001b[1m0s\u001b[0m 2ms/step - accuracy: 0.8588 - loss: 0.3549 - val_accuracy: 0.8529 - val_loss: 0.4820\n",
      "Epoch 20/20\n",
      "\u001b[1m39/39\u001b[0m \u001b[32m━━━━━━━━━━━━━━━━━━━━\u001b[0m\u001b[37m\u001b[0m \u001b[1m0s\u001b[0m 2ms/step - accuracy: 0.8419 - loss: 0.3709 - val_accuracy: 0.8497 - val_loss: 0.4746\n",
      "\u001b[1m12/12\u001b[0m \u001b[32m━━━━━━━━━━━━━━━━━━━━\u001b[0m\u001b[37m\u001b[0m \u001b[1m0s\u001b[0m 2ms/step - accuracy: 0.8540 - loss: 0.4752\n",
      "Accuracy (DNN): 0.8612565398216248\n"
     ]
    }
   ],
   "source": [
    "from tensorflow.keras.models import Sequential\n",
    "from tensorflow.keras.layers import Dense, Dropout\n",
    "from sklearn.preprocessing import StandardScaler\n",
    "\n",
    "# Split the data into training and testing sets\n",
    "X_train, X_test, y_train, y_test = train_test_split(X_resampled, y_resampled, test_size=0.2, random_state=42)\n",
    "\n",
    "# Escalar los datos (importante para redes neuronales)\n",
    "scaler = StandardScaler()\n",
    "X_train_scaled = scaler.fit_transform(X_train)\n",
    "X_test_scaled = scaler.transform(X_test)\n",
    "\n",
    "# Crear la red neuronal\n",
    "model = Sequential([\n",
    "    Dense(128, activation='relu', input_dim=X_train_scaled.shape[1]),\n",
    "    Dropout(0.3),\n",
    "    Dense(64, activation='relu'),\n",
    "    Dropout(0.3),\n",
    "    Dense(1, activation='sigmoid')  # Para clasificación binaria\n",
    "])\n",
    "\n",
    "# Compilar el modelo\n",
    "model.compile(optimizer='adam', loss='binary_crossentropy', metrics=['accuracy'])\n",
    "\n",
    "# Entrenar\n",
    "history = model.fit(X_train_scaled, y_train, validation_split=0.2, epochs=20, batch_size=32)\n",
    "\n",
    "# Evaluar\n",
    "accuracy = model.evaluate(X_test_scaled, y_test)\n",
    "print(\"Accuracy (DNN):\", accuracy[1])"
   ]
  },
  {
   "cell_type": "code",
   "execution_count": null,
   "metadata": {},
   "outputs": [
    {
     "name": "stdout",
     "output_type": "stream",
     "text": [
      "Random Forest Metrics:\n",
      "              precision    recall  f1-score   support\n",
      "\n",
      "           0       0.96      0.90      0.93       192\n",
      "           1       0.90      0.96      0.93       190\n",
      "\n",
      "    accuracy                           0.93       382\n",
      "   macro avg       0.93      0.93      0.93       382\n",
      "weighted avg       0.93      0.93      0.93       382\n",
      "\n",
      "ROC-AUC: 0.9294956140350877\n",
      "\u001b[1m12/12\u001b[0m \u001b[32m━━━━━━━━━━━━━━━━━━━━\u001b[0m\u001b[37m\u001b[0m \u001b[1m0s\u001b[0m 4ms/step \n",
      "Neural Network Metrics:\n",
      "              precision    recall  f1-score   support\n",
      "\n",
      "           0       0.95      0.77      0.85       192\n",
      "           1       0.80      0.96      0.87       190\n",
      "\n",
      "    accuracy                           0.86       382\n",
      "   macro avg       0.88      0.86      0.86       382\n",
      "weighted avg       0.88      0.86      0.86       382\n",
      "\n",
      "ROC-AUC: 0.8617598684210526\n"
     ]
    }
   ],
   "source": [
    "from sklearn.metrics import classification_report, roc_auc_score\n",
    "\n",
    "# Random Forest\n",
    "y_pred_rf = best_rf_model.predict(X_test)\n",
    "print(\"Random Forest Metrics:\")\n",
    "print(classification_report(y_test, y_pred_rf))\n",
    "print(\"ROC-AUC:\", roc_auc_score(y_test, y_pred_rf))\n",
    "\n",
    "# Red Neuronal\n",
    "y_pred_nn = (model.predict(X_test_scaled) > 0.5).astype(int)\n",
    "print(\"Neural Network Metrics:\")\n",
    "print(classification_report(y_test, y_pred_nn))\n",
    "print(\"ROC-AUC:\", roc_auc_score(y_test, y_pred_nn))\n"
   ]
  }
 ],
 "metadata": {
  "kernelspec": {
   "display_name": "Python 3",
   "language": "python",
   "name": "python3"
  },
  "language_info": {
   "codemirror_mode": {
    "name": "ipython",
    "version": 3
   },
   "file_extension": ".py",
   "mimetype": "text/x-python",
   "name": "python",
   "nbconvert_exporter": "python",
   "pygments_lexer": "ipython3",
   "version": "3.11.7"
  }
 },
 "nbformat": 4,
 "nbformat_minor": 4
}
