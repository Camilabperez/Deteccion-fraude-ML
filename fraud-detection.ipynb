{
 "cells": [
  {
   "cell_type": "code",
   "execution_count": 1,
   "metadata": {
    "execution": {
     "iopub.execute_input": "2023-09-05T17:48:58.967050Z",
     "iopub.status.busy": "2023-09-05T17:48:58.966615Z",
     "iopub.status.idle": "2023-09-05T17:49:00.085813Z",
     "shell.execute_reply": "2023-09-05T17:49:00.084487Z",
     "shell.execute_reply.started": "2023-09-05T17:48:58.967014Z"
    },
    "trusted": true
   },
   "outputs": [],
   "source": [
    "import numpy as np\n",
    "import pandas as pd\n",
    "import matplotlib.pyplot as plt\n",
    "%matplotlib inline\n",
    "import warnings as wr\n",
    "wr.filterwarnings(action=\"ignore\")\n",
    "import seaborn as sns"
   ]
  },
  {
   "cell_type": "markdown",
   "metadata": {},
   "source": []
  },
  {
   "cell_type": "markdown",
   "metadata": {},
   "source": [
    "<div style=\"background-color: #3498db; border-radius: 10px; text-align: center; padding: 10px;\">\n",
    "    <h1>Data Loading</h1>\n",
    "</div>\n"
   ]
  },
  {
   "cell_type": "markdown",
   "metadata": {},
   "source": [
    "We are merging multiple datasets "
   ]
  },
  {
   "cell_type": "code",
   "execution_count": 2,
   "metadata": {
    "execution": {
     "iopub.execute_input": "2023-09-05T17:49:00.088854Z",
     "iopub.status.busy": "2023-09-05T17:49:00.088277Z",
     "iopub.status.idle": "2023-09-05T17:49:00.165969Z",
     "shell.execute_reply": "2023-09-05T17:49:00.164381Z",
     "shell.execute_reply.started": "2023-09-05T17:49:00.088817Z"
    },
    "trusted": true
   },
   "outputs": [],
   "source": [
    "account = pd.read_csv(\"Data/Customer Profiles/account_activity.csv\")\n",
    "customer = pd.read_csv(\"Data/Customer Profiles/customer_data.csv\")\n",
    "fraud = pd.read_csv(\"Data/Fraudulent Patterns/fraud_indicators.csv\")\n",
    "suspision = pd.read_csv(\"Data/Fraudulent Patterns/suspicious_activity.csv\")\n",
    "merchant = pd.read_csv(\"Data/Merchant Information/merchant_data.csv\")\n",
    "tran_cat = pd.read_csv(\"Data/Merchant Information/transaction_category_labels.csv\")\n",
    "amount = pd.read_csv(\"Data/Transaction Amounts/amount_data.csv\")\n",
    "anamoly = pd.read_csv(\"Data/Transaction Amounts/anomaly_scores.csv\")\n",
    "tran_data = pd.read_csv(\"Data/Transaction Data/transaction_metadata.csv\")\n",
    "tran_rec = pd.read_csv(\"Data/Transaction Data/transaction_records.csv\")"
   ]
  },
  {
   "cell_type": "code",
   "execution_count": 3,
   "metadata": {
    "execution": {
     "iopub.execute_input": "2023-09-05T17:49:00.170597Z",
     "iopub.status.busy": "2023-09-05T17:49:00.168480Z",
     "iopub.status.idle": "2023-09-05T17:49:00.176160Z",
     "shell.execute_reply": "2023-09-05T17:49:00.175045Z",
     "shell.execute_reply.started": "2023-09-05T17:49:00.170556Z"
    },
    "trusted": true
   },
   "outputs": [],
   "source": [
    "data = [account,customer,fraud,suspision,merchant,tran_cat,amount,anamoly,tran_data,tran_rec]"
   ]
  },
  {
   "cell_type": "code",
   "execution_count": 4,
   "metadata": {
    "execution": {
     "iopub.execute_input": "2023-09-05T17:49:00.180167Z",
     "iopub.status.busy": "2023-09-05T17:49:00.178639Z",
     "iopub.status.idle": "2023-09-05T17:49:00.211382Z",
     "shell.execute_reply": "2023-09-05T17:49:00.209904Z",
     "shell.execute_reply.started": "2023-09-05T17:49:00.180119Z"
    },
    "trusted": true
   },
   "outputs": [
    {
     "name": "stdout",
     "output_type": "stream",
     "text": [
      "   CustomerID  AccountBalance   LastLogin\n",
      "0        1001     9507.272060  2022-01-01\n",
      "1        1002     7408.704536  2022-01-02\n",
      "2        1003     1715.321989  2022-01-03\n",
      "3        1004     3101.509134  2022-01-04\n",
      "4        1005     5405.766914  2022-01-05\n",
      "   CustomerID           Name  Age       Address\n",
      "0        1001  Customer 1001   54  Address 1001\n",
      "1        1002  Customer 1002   35  Address 1002\n",
      "2        1003  Customer 1003   40  Address 1003\n",
      "3        1004  Customer 1004   30  Address 1004\n",
      "4        1005  Customer 1005   46  Address 1005\n",
      "   TransactionID  FraudIndicator\n",
      "0              1               0\n",
      "1              2               0\n",
      "2              3               0\n",
      "3              4               0\n",
      "4              5               0\n",
      "   CustomerID  SuspiciousFlag\n",
      "0        1001               0\n",
      "1        1002               0\n",
      "2        1003               0\n",
      "3        1004               0\n",
      "4        1005               0\n",
      "   MerchantID   MerchantName       Location\n",
      "0        2001  Merchant 2001  Location 2001\n",
      "1        2002  Merchant 2002  Location 2002\n",
      "2        2003  Merchant 2003  Location 2003\n",
      "3        2004  Merchant 2004  Location 2004\n",
      "4        2005  Merchant 2005  Location 2005\n",
      "   TransactionID Category\n",
      "0              1    Other\n",
      "1              2   Online\n",
      "2              3   Travel\n",
      "3              4   Travel\n",
      "4              5    Other\n",
      "   TransactionID  TransactionAmount\n",
      "0              1          79.413607\n",
      "1              2          12.053087\n",
      "2              3          33.310357\n",
      "3              4          46.121117\n",
      "4              5          54.051618\n",
      "   TransactionID  AnomalyScore\n",
      "0              1      0.686699\n",
      "1              2      0.081749\n",
      "2              3      0.023857\n",
      "3              4      0.876994\n",
      "4              5      0.034059\n",
      "   TransactionID            Timestamp  MerchantID\n",
      "0              1  2022-01-01 00:00:00        2701\n",
      "1              2  2022-01-01 01:00:00        2070\n",
      "2              3  2022-01-01 02:00:00        2238\n",
      "3              4  2022-01-01 03:00:00        2879\n",
      "4              5  2022-01-01 04:00:00        2966\n",
      "   TransactionID     Amount  CustomerID\n",
      "0              1  55.530334        1952\n",
      "1              2  12.881180        1027\n",
      "2              3  50.176322        1955\n",
      "3              4  41.634001        1796\n",
      "4              5  78.122853        1946\n"
     ]
    }
   ],
   "source": [
    "for df in data:\n",
    "    print(df.head())"
   ]
  },
  {
   "cell_type": "code",
   "execution_count": 5,
   "metadata": {
    "execution": {
     "iopub.execute_input": "2023-09-05T17:49:00.214533Z",
     "iopub.status.busy": "2023-09-05T17:49:00.213215Z",
     "iopub.status.idle": "2023-09-05T17:49:00.247117Z",
     "shell.execute_reply": "2023-09-05T17:49:00.245762Z",
     "shell.execute_reply.started": "2023-09-05T17:49:00.214488Z"
    },
    "trusted": true
   },
   "outputs": [
    {
     "data": {
      "text/html": [
       "<div>\n",
       "<style scoped>\n",
       "    .dataframe tbody tr th:only-of-type {\n",
       "        vertical-align: middle;\n",
       "    }\n",
       "\n",
       "    .dataframe tbody tr th {\n",
       "        vertical-align: top;\n",
       "    }\n",
       "\n",
       "    .dataframe thead th {\n",
       "        text-align: right;\n",
       "    }\n",
       "</style>\n",
       "<table border=\"1\" class=\"dataframe\">\n",
       "  <thead>\n",
       "    <tr style=\"text-align: right;\">\n",
       "      <th></th>\n",
       "      <th>CustomerID</th>\n",
       "      <th>Name</th>\n",
       "      <th>Age</th>\n",
       "      <th>Address</th>\n",
       "      <th>AccountBalance</th>\n",
       "      <th>LastLogin</th>\n",
       "      <th>SuspiciousFlag</th>\n",
       "    </tr>\n",
       "  </thead>\n",
       "  <tbody>\n",
       "    <tr>\n",
       "      <th>0</th>\n",
       "      <td>1001</td>\n",
       "      <td>Customer 1001</td>\n",
       "      <td>54</td>\n",
       "      <td>Address 1001</td>\n",
       "      <td>9507.272060</td>\n",
       "      <td>2022-01-01</td>\n",
       "      <td>0</td>\n",
       "    </tr>\n",
       "    <tr>\n",
       "      <th>1</th>\n",
       "      <td>1002</td>\n",
       "      <td>Customer 1002</td>\n",
       "      <td>35</td>\n",
       "      <td>Address 1002</td>\n",
       "      <td>7408.704536</td>\n",
       "      <td>2022-01-02</td>\n",
       "      <td>0</td>\n",
       "    </tr>\n",
       "    <tr>\n",
       "      <th>2</th>\n",
       "      <td>1003</td>\n",
       "      <td>Customer 1003</td>\n",
       "      <td>40</td>\n",
       "      <td>Address 1003</td>\n",
       "      <td>1715.321989</td>\n",
       "      <td>2022-01-03</td>\n",
       "      <td>0</td>\n",
       "    </tr>\n",
       "    <tr>\n",
       "      <th>3</th>\n",
       "      <td>1004</td>\n",
       "      <td>Customer 1004</td>\n",
       "      <td>30</td>\n",
       "      <td>Address 1004</td>\n",
       "      <td>3101.509134</td>\n",
       "      <td>2022-01-04</td>\n",
       "      <td>0</td>\n",
       "    </tr>\n",
       "    <tr>\n",
       "      <th>4</th>\n",
       "      <td>1005</td>\n",
       "      <td>Customer 1005</td>\n",
       "      <td>46</td>\n",
       "      <td>Address 1005</td>\n",
       "      <td>5405.766914</td>\n",
       "      <td>2022-01-05</td>\n",
       "      <td>0</td>\n",
       "    </tr>\n",
       "    <tr>\n",
       "      <th>...</th>\n",
       "      <td>...</td>\n",
       "      <td>...</td>\n",
       "      <td>...</td>\n",
       "      <td>...</td>\n",
       "      <td>...</td>\n",
       "      <td>...</td>\n",
       "      <td>...</td>\n",
       "    </tr>\n",
       "    <tr>\n",
       "      <th>995</th>\n",
       "      <td>1996</td>\n",
       "      <td>Customer 1996</td>\n",
       "      <td>33</td>\n",
       "      <td>Address 1996</td>\n",
       "      <td>8523.485163</td>\n",
       "      <td>2024-09-22</td>\n",
       "      <td>0</td>\n",
       "    </tr>\n",
       "    <tr>\n",
       "      <th>996</th>\n",
       "      <td>1997</td>\n",
       "      <td>Customer 1997</td>\n",
       "      <td>58</td>\n",
       "      <td>Address 1997</td>\n",
       "      <td>9255.451757</td>\n",
       "      <td>2024-09-23</td>\n",
       "      <td>0</td>\n",
       "    </tr>\n",
       "    <tr>\n",
       "      <th>997</th>\n",
       "      <td>1998</td>\n",
       "      <td>Customer 1998</td>\n",
       "      <td>25</td>\n",
       "      <td>Address 1998</td>\n",
       "      <td>9148.652759</td>\n",
       "      <td>2024-09-24</td>\n",
       "      <td>0</td>\n",
       "    </tr>\n",
       "    <tr>\n",
       "      <th>998</th>\n",
       "      <td>1999</td>\n",
       "      <td>Customer 1999</td>\n",
       "      <td>57</td>\n",
       "      <td>Address 1999</td>\n",
       "      <td>7376.854107</td>\n",
       "      <td>2024-09-25</td>\n",
       "      <td>0</td>\n",
       "    </tr>\n",
       "    <tr>\n",
       "      <th>999</th>\n",
       "      <td>2000</td>\n",
       "      <td>Customer 2000</td>\n",
       "      <td>42</td>\n",
       "      <td>Address 2000</td>\n",
       "      <td>4853.024380</td>\n",
       "      <td>2024-09-26</td>\n",
       "      <td>0</td>\n",
       "    </tr>\n",
       "  </tbody>\n",
       "</table>\n",
       "<p>1000 rows × 7 columns</p>\n",
       "</div>"
      ],
      "text/plain": [
       "     CustomerID           Name  Age       Address  AccountBalance   LastLogin  \\\n",
       "0          1001  Customer 1001   54  Address 1001     9507.272060  2022-01-01   \n",
       "1          1002  Customer 1002   35  Address 1002     7408.704536  2022-01-02   \n",
       "2          1003  Customer 1003   40  Address 1003     1715.321989  2022-01-03   \n",
       "3          1004  Customer 1004   30  Address 1004     3101.509134  2022-01-04   \n",
       "4          1005  Customer 1005   46  Address 1005     5405.766914  2022-01-05   \n",
       "..          ...            ...  ...           ...             ...         ...   \n",
       "995        1996  Customer 1996   33  Address 1996     8523.485163  2024-09-22   \n",
       "996        1997  Customer 1997   58  Address 1997     9255.451757  2024-09-23   \n",
       "997        1998  Customer 1998   25  Address 1998     9148.652759  2024-09-24   \n",
       "998        1999  Customer 1999   57  Address 1999     7376.854107  2024-09-25   \n",
       "999        2000  Customer 2000   42  Address 2000     4853.024380  2024-09-26   \n",
       "\n",
       "     SuspiciousFlag  \n",
       "0                 0  \n",
       "1                 0  \n",
       "2                 0  \n",
       "3                 0  \n",
       "4                 0  \n",
       "..              ...  \n",
       "995               0  \n",
       "996               0  \n",
       "997               0  \n",
       "998               0  \n",
       "999               0  \n",
       "\n",
       "[1000 rows x 7 columns]"
      ]
     },
     "execution_count": 5,
     "metadata": {},
     "output_type": "execute_result"
    }
   ],
   "source": [
    "costumer_data = pd.merge(customer, account, on='CustomerID')\n",
    "costumer_data = pd.merge(costumer_data, suspision, on='CustomerID')\n",
    "costumer_data"
   ]
  },
  {
   "cell_type": "code",
   "execution_count": 6,
   "metadata": {
    "execution": {
     "iopub.execute_input": "2023-09-05T17:49:00.249954Z",
     "iopub.status.busy": "2023-09-05T17:49:00.248808Z",
     "iopub.status.idle": "2023-09-05T17:49:00.272876Z",
     "shell.execute_reply": "2023-09-05T17:49:00.271223Z",
     "shell.execute_reply.started": "2023-09-05T17:49:00.249904Z"
    },
    "trusted": true
   },
   "outputs": [],
   "source": [
    "transaction_data1 = pd.merge(fraud, tran_cat, on=\"TransactionID\")\n",
    "transaction_data2 = pd.merge(amount, anamoly, on=\"TransactionID\")\n",
    "transaction_data3 = pd.merge(tran_data, tran_rec, on=\"TransactionID\")\n",
    "transaction_data = pd.merge(transaction_data1, transaction_data2,on=\"TransactionID\")\n",
    "transaction_data = pd.merge(transaction_data, transaction_data3,on=\"TransactionID\")"
   ]
  },
  {
   "cell_type": "code",
   "execution_count": 7,
   "metadata": {
    "execution": {
     "iopub.execute_input": "2023-09-05T17:49:00.274904Z",
     "iopub.status.busy": "2023-09-05T17:49:00.274394Z",
     "iopub.status.idle": "2023-09-05T17:49:00.297268Z",
     "shell.execute_reply": "2023-09-05T17:49:00.295482Z",
     "shell.execute_reply.started": "2023-09-05T17:49:00.274873Z"
    },
    "trusted": true
   },
   "outputs": [
    {
     "data": {
      "text/html": [
       "<div>\n",
       "<style scoped>\n",
       "    .dataframe tbody tr th:only-of-type {\n",
       "        vertical-align: middle;\n",
       "    }\n",
       "\n",
       "    .dataframe tbody tr th {\n",
       "        vertical-align: top;\n",
       "    }\n",
       "\n",
       "    .dataframe thead th {\n",
       "        text-align: right;\n",
       "    }\n",
       "</style>\n",
       "<table border=\"1\" class=\"dataframe\">\n",
       "  <thead>\n",
       "    <tr style=\"text-align: right;\">\n",
       "      <th></th>\n",
       "      <th>TransactionID</th>\n",
       "      <th>FraudIndicator</th>\n",
       "      <th>Category</th>\n",
       "      <th>TransactionAmount</th>\n",
       "      <th>AnomalyScore</th>\n",
       "      <th>Timestamp</th>\n",
       "      <th>MerchantID</th>\n",
       "      <th>Amount</th>\n",
       "      <th>CustomerID</th>\n",
       "    </tr>\n",
       "  </thead>\n",
       "  <tbody>\n",
       "    <tr>\n",
       "      <th>0</th>\n",
       "      <td>1</td>\n",
       "      <td>0</td>\n",
       "      <td>Other</td>\n",
       "      <td>79.413607</td>\n",
       "      <td>0.686699</td>\n",
       "      <td>2022-01-01 00:00:00</td>\n",
       "      <td>2701</td>\n",
       "      <td>55.530334</td>\n",
       "      <td>1952</td>\n",
       "    </tr>\n",
       "    <tr>\n",
       "      <th>1</th>\n",
       "      <td>2</td>\n",
       "      <td>0</td>\n",
       "      <td>Online</td>\n",
       "      <td>12.053087</td>\n",
       "      <td>0.081749</td>\n",
       "      <td>2022-01-01 01:00:00</td>\n",
       "      <td>2070</td>\n",
       "      <td>12.881180</td>\n",
       "      <td>1027</td>\n",
       "    </tr>\n",
       "    <tr>\n",
       "      <th>2</th>\n",
       "      <td>3</td>\n",
       "      <td>0</td>\n",
       "      <td>Travel</td>\n",
       "      <td>33.310357</td>\n",
       "      <td>0.023857</td>\n",
       "      <td>2022-01-01 02:00:00</td>\n",
       "      <td>2238</td>\n",
       "      <td>50.176322</td>\n",
       "      <td>1955</td>\n",
       "    </tr>\n",
       "    <tr>\n",
       "      <th>3</th>\n",
       "      <td>4</td>\n",
       "      <td>0</td>\n",
       "      <td>Travel</td>\n",
       "      <td>46.121117</td>\n",
       "      <td>0.876994</td>\n",
       "      <td>2022-01-01 03:00:00</td>\n",
       "      <td>2879</td>\n",
       "      <td>41.634001</td>\n",
       "      <td>1796</td>\n",
       "    </tr>\n",
       "    <tr>\n",
       "      <th>4</th>\n",
       "      <td>5</td>\n",
       "      <td>0</td>\n",
       "      <td>Other</td>\n",
       "      <td>54.051618</td>\n",
       "      <td>0.034059</td>\n",
       "      <td>2022-01-01 04:00:00</td>\n",
       "      <td>2966</td>\n",
       "      <td>78.122853</td>\n",
       "      <td>1946</td>\n",
       "    </tr>\n",
       "    <tr>\n",
       "      <th>...</th>\n",
       "      <td>...</td>\n",
       "      <td>...</td>\n",
       "      <td>...</td>\n",
       "      <td>...</td>\n",
       "      <td>...</td>\n",
       "      <td>...</td>\n",
       "      <td>...</td>\n",
       "      <td>...</td>\n",
       "      <td>...</td>\n",
       "    </tr>\n",
       "    <tr>\n",
       "      <th>995</th>\n",
       "      <td>996</td>\n",
       "      <td>0</td>\n",
       "      <td>Food</td>\n",
       "      <td>89.457059</td>\n",
       "      <td>0.266778</td>\n",
       "      <td>2022-02-11 11:00:00</td>\n",
       "      <td>2150</td>\n",
       "      <td>19.876750</td>\n",
       "      <td>1411</td>\n",
       "    </tr>\n",
       "    <tr>\n",
       "      <th>996</th>\n",
       "      <td>997</td>\n",
       "      <td>0</td>\n",
       "      <td>Retail</td>\n",
       "      <td>47.958030</td>\n",
       "      <td>0.512483</td>\n",
       "      <td>2022-02-11 12:00:00</td>\n",
       "      <td>2888</td>\n",
       "      <td>96.299792</td>\n",
       "      <td>1566</td>\n",
       "    </tr>\n",
       "    <tr>\n",
       "      <th>997</th>\n",
       "      <td>998</td>\n",
       "      <td>0</td>\n",
       "      <td>Food</td>\n",
       "      <td>64.210046</td>\n",
       "      <td>0.367740</td>\n",
       "      <td>2022-02-11 13:00:00</td>\n",
       "      <td>2037</td>\n",
       "      <td>75.164459</td>\n",
       "      <td>1654</td>\n",
       "    </tr>\n",
       "    <tr>\n",
       "      <th>998</th>\n",
       "      <td>999</td>\n",
       "      <td>0</td>\n",
       "      <td>Travel</td>\n",
       "      <td>64.684167</td>\n",
       "      <td>0.960364</td>\n",
       "      <td>2022-02-11 14:00:00</td>\n",
       "      <td>2629</td>\n",
       "      <td>93.633040</td>\n",
       "      <td>1928</td>\n",
       "    </tr>\n",
       "    <tr>\n",
       "      <th>999</th>\n",
       "      <td>1000</td>\n",
       "      <td>0</td>\n",
       "      <td>Other</td>\n",
       "      <td>97.440127</td>\n",
       "      <td>0.311224</td>\n",
       "      <td>2022-02-11 15:00:00</td>\n",
       "      <td>2235</td>\n",
       "      <td>89.915625</td>\n",
       "      <td>1503</td>\n",
       "    </tr>\n",
       "  </tbody>\n",
       "</table>\n",
       "<p>1000 rows × 9 columns</p>\n",
       "</div>"
      ],
      "text/plain": [
       "     TransactionID  FraudIndicator Category  TransactionAmount  AnomalyScore  \\\n",
       "0                1               0    Other          79.413607      0.686699   \n",
       "1                2               0   Online          12.053087      0.081749   \n",
       "2                3               0   Travel          33.310357      0.023857   \n",
       "3                4               0   Travel          46.121117      0.876994   \n",
       "4                5               0    Other          54.051618      0.034059   \n",
       "..             ...             ...      ...                ...           ...   \n",
       "995            996               0     Food          89.457059      0.266778   \n",
       "996            997               0   Retail          47.958030      0.512483   \n",
       "997            998               0     Food          64.210046      0.367740   \n",
       "998            999               0   Travel          64.684167      0.960364   \n",
       "999           1000               0    Other          97.440127      0.311224   \n",
       "\n",
       "               Timestamp  MerchantID     Amount  CustomerID  \n",
       "0    2022-01-01 00:00:00        2701  55.530334        1952  \n",
       "1    2022-01-01 01:00:00        2070  12.881180        1027  \n",
       "2    2022-01-01 02:00:00        2238  50.176322        1955  \n",
       "3    2022-01-01 03:00:00        2879  41.634001        1796  \n",
       "4    2022-01-01 04:00:00        2966  78.122853        1946  \n",
       "..                   ...         ...        ...         ...  \n",
       "995  2022-02-11 11:00:00        2150  19.876750        1411  \n",
       "996  2022-02-11 12:00:00        2888  96.299792        1566  \n",
       "997  2022-02-11 13:00:00        2037  75.164459        1654  \n",
       "998  2022-02-11 14:00:00        2629  93.633040        1928  \n",
       "999  2022-02-11 15:00:00        2235  89.915625        1503  \n",
       "\n",
       "[1000 rows x 9 columns]"
      ]
     },
     "execution_count": 7,
     "metadata": {},
     "output_type": "execute_result"
    }
   ],
   "source": [
    "transaction_data\n"
   ]
  },
  {
   "cell_type": "code",
   "execution_count": 8,
   "metadata": {
    "execution": {
     "iopub.execute_input": "2023-09-05T17:49:00.299132Z",
     "iopub.status.busy": "2023-09-05T17:49:00.298786Z",
     "iopub.status.idle": "2023-09-05T17:49:00.338031Z",
     "shell.execute_reply": "2023-09-05T17:49:00.336717Z",
     "shell.execute_reply.started": "2023-09-05T17:49:00.299103Z"
    },
    "trusted": true
   },
   "outputs": [
    {
     "data": {
      "text/html": [
       "<div>\n",
       "<style scoped>\n",
       "    .dataframe tbody tr th:only-of-type {\n",
       "        vertical-align: middle;\n",
       "    }\n",
       "\n",
       "    .dataframe tbody tr th {\n",
       "        vertical-align: top;\n",
       "    }\n",
       "\n",
       "    .dataframe thead th {\n",
       "        text-align: right;\n",
       "    }\n",
       "</style>\n",
       "<table border=\"1\" class=\"dataframe\">\n",
       "  <thead>\n",
       "    <tr style=\"text-align: right;\">\n",
       "      <th></th>\n",
       "      <th>TransactionID</th>\n",
       "      <th>FraudIndicator</th>\n",
       "      <th>Category</th>\n",
       "      <th>TransactionAmount</th>\n",
       "      <th>AnomalyScore</th>\n",
       "      <th>Timestamp</th>\n",
       "      <th>MerchantID</th>\n",
       "      <th>Amount</th>\n",
       "      <th>CustomerID</th>\n",
       "      <th>Name</th>\n",
       "      <th>Age</th>\n",
       "      <th>Address</th>\n",
       "      <th>AccountBalance</th>\n",
       "      <th>LastLogin</th>\n",
       "      <th>SuspiciousFlag</th>\n",
       "    </tr>\n",
       "  </thead>\n",
       "  <tbody>\n",
       "    <tr>\n",
       "      <th>0</th>\n",
       "      <td>1</td>\n",
       "      <td>0</td>\n",
       "      <td>Other</td>\n",
       "      <td>79.413607</td>\n",
       "      <td>0.686699</td>\n",
       "      <td>2022-01-01 00:00:00</td>\n",
       "      <td>2701</td>\n",
       "      <td>55.530334</td>\n",
       "      <td>1952</td>\n",
       "      <td>Customer 1952</td>\n",
       "      <td>50</td>\n",
       "      <td>Address 1952</td>\n",
       "      <td>2869.689912</td>\n",
       "      <td>2024-08-09</td>\n",
       "      <td>0</td>\n",
       "    </tr>\n",
       "    <tr>\n",
       "      <th>1</th>\n",
       "      <td>2</td>\n",
       "      <td>0</td>\n",
       "      <td>Online</td>\n",
       "      <td>12.053087</td>\n",
       "      <td>0.081749</td>\n",
       "      <td>2022-01-01 01:00:00</td>\n",
       "      <td>2070</td>\n",
       "      <td>12.881180</td>\n",
       "      <td>1027</td>\n",
       "      <td>Customer 1027</td>\n",
       "      <td>46</td>\n",
       "      <td>Address 1027</td>\n",
       "      <td>9527.947107</td>\n",
       "      <td>2022-01-27</td>\n",
       "      <td>0</td>\n",
       "    </tr>\n",
       "    <tr>\n",
       "      <th>2</th>\n",
       "      <td>3</td>\n",
       "      <td>0</td>\n",
       "      <td>Travel</td>\n",
       "      <td>33.310357</td>\n",
       "      <td>0.023857</td>\n",
       "      <td>2022-01-01 02:00:00</td>\n",
       "      <td>2238</td>\n",
       "      <td>50.176322</td>\n",
       "      <td>1955</td>\n",
       "      <td>Customer 1955</td>\n",
       "      <td>34</td>\n",
       "      <td>Address 1955</td>\n",
       "      <td>9288.355525</td>\n",
       "      <td>2024-08-12</td>\n",
       "      <td>0</td>\n",
       "    </tr>\n",
       "    <tr>\n",
       "      <th>3</th>\n",
       "      <td>4</td>\n",
       "      <td>0</td>\n",
       "      <td>Travel</td>\n",
       "      <td>46.121117</td>\n",
       "      <td>0.876994</td>\n",
       "      <td>2022-01-01 03:00:00</td>\n",
       "      <td>2879</td>\n",
       "      <td>41.634001</td>\n",
       "      <td>1796</td>\n",
       "      <td>Customer 1796</td>\n",
       "      <td>33</td>\n",
       "      <td>Address 1796</td>\n",
       "      <td>5588.049942</td>\n",
       "      <td>2024-03-06</td>\n",
       "      <td>0</td>\n",
       "    </tr>\n",
       "    <tr>\n",
       "      <th>4</th>\n",
       "      <td>5</td>\n",
       "      <td>0</td>\n",
       "      <td>Other</td>\n",
       "      <td>54.051618</td>\n",
       "      <td>0.034059</td>\n",
       "      <td>2022-01-01 04:00:00</td>\n",
       "      <td>2966</td>\n",
       "      <td>78.122853</td>\n",
       "      <td>1946</td>\n",
       "      <td>Customer 1946</td>\n",
       "      <td>18</td>\n",
       "      <td>Address 1946</td>\n",
       "      <td>7324.785332</td>\n",
       "      <td>2024-08-03</td>\n",
       "      <td>0</td>\n",
       "    </tr>\n",
       "    <tr>\n",
       "      <th>...</th>\n",
       "      <td>...</td>\n",
       "      <td>...</td>\n",
       "      <td>...</td>\n",
       "      <td>...</td>\n",
       "      <td>...</td>\n",
       "      <td>...</td>\n",
       "      <td>...</td>\n",
       "      <td>...</td>\n",
       "      <td>...</td>\n",
       "      <td>...</td>\n",
       "      <td>...</td>\n",
       "      <td>...</td>\n",
       "      <td>...</td>\n",
       "      <td>...</td>\n",
       "      <td>...</td>\n",
       "    </tr>\n",
       "    <tr>\n",
       "      <th>995</th>\n",
       "      <td>996</td>\n",
       "      <td>0</td>\n",
       "      <td>Food</td>\n",
       "      <td>89.457059</td>\n",
       "      <td>0.266778</td>\n",
       "      <td>2022-02-11 11:00:00</td>\n",
       "      <td>2150</td>\n",
       "      <td>19.876750</td>\n",
       "      <td>1411</td>\n",
       "      <td>Customer 1411</td>\n",
       "      <td>19</td>\n",
       "      <td>Address 1411</td>\n",
       "      <td>1290.323059</td>\n",
       "      <td>2023-02-15</td>\n",
       "      <td>0</td>\n",
       "    </tr>\n",
       "    <tr>\n",
       "      <th>996</th>\n",
       "      <td>997</td>\n",
       "      <td>0</td>\n",
       "      <td>Retail</td>\n",
       "      <td>47.958030</td>\n",
       "      <td>0.512483</td>\n",
       "      <td>2022-02-11 12:00:00</td>\n",
       "      <td>2888</td>\n",
       "      <td>96.299792</td>\n",
       "      <td>1566</td>\n",
       "      <td>Customer 1566</td>\n",
       "      <td>39</td>\n",
       "      <td>Address 1566</td>\n",
       "      <td>7067.831609</td>\n",
       "      <td>2023-07-20</td>\n",
       "      <td>0</td>\n",
       "    </tr>\n",
       "    <tr>\n",
       "      <th>997</th>\n",
       "      <td>998</td>\n",
       "      <td>0</td>\n",
       "      <td>Food</td>\n",
       "      <td>64.210046</td>\n",
       "      <td>0.367740</td>\n",
       "      <td>2022-02-11 13:00:00</td>\n",
       "      <td>2037</td>\n",
       "      <td>75.164459</td>\n",
       "      <td>1654</td>\n",
       "      <td>Customer 1654</td>\n",
       "      <td>51</td>\n",
       "      <td>Address 1654</td>\n",
       "      <td>9088.738359</td>\n",
       "      <td>2023-10-16</td>\n",
       "      <td>0</td>\n",
       "    </tr>\n",
       "    <tr>\n",
       "      <th>998</th>\n",
       "      <td>999</td>\n",
       "      <td>0</td>\n",
       "      <td>Travel</td>\n",
       "      <td>64.684167</td>\n",
       "      <td>0.960364</td>\n",
       "      <td>2022-02-11 14:00:00</td>\n",
       "      <td>2629</td>\n",
       "      <td>93.633040</td>\n",
       "      <td>1928</td>\n",
       "      <td>Customer 1928</td>\n",
       "      <td>60</td>\n",
       "      <td>Address 1928</td>\n",
       "      <td>9352.655675</td>\n",
       "      <td>2024-07-16</td>\n",
       "      <td>0</td>\n",
       "    </tr>\n",
       "    <tr>\n",
       "      <th>999</th>\n",
       "      <td>1000</td>\n",
       "      <td>0</td>\n",
       "      <td>Other</td>\n",
       "      <td>97.440127</td>\n",
       "      <td>0.311224</td>\n",
       "      <td>2022-02-11 15:00:00</td>\n",
       "      <td>2235</td>\n",
       "      <td>89.915625</td>\n",
       "      <td>1503</td>\n",
       "      <td>Customer 1503</td>\n",
       "      <td>37</td>\n",
       "      <td>Address 1503</td>\n",
       "      <td>4370.431522</td>\n",
       "      <td>2023-05-18</td>\n",
       "      <td>0</td>\n",
       "    </tr>\n",
       "  </tbody>\n",
       "</table>\n",
       "<p>1000 rows × 15 columns</p>\n",
       "</div>"
      ],
      "text/plain": [
       "     TransactionID  FraudIndicator Category  TransactionAmount  AnomalyScore  \\\n",
       "0                1               0    Other          79.413607      0.686699   \n",
       "1                2               0   Online          12.053087      0.081749   \n",
       "2                3               0   Travel          33.310357      0.023857   \n",
       "3                4               0   Travel          46.121117      0.876994   \n",
       "4                5               0    Other          54.051618      0.034059   \n",
       "..             ...             ...      ...                ...           ...   \n",
       "995            996               0     Food          89.457059      0.266778   \n",
       "996            997               0   Retail          47.958030      0.512483   \n",
       "997            998               0     Food          64.210046      0.367740   \n",
       "998            999               0   Travel          64.684167      0.960364   \n",
       "999           1000               0    Other          97.440127      0.311224   \n",
       "\n",
       "               Timestamp  MerchantID     Amount  CustomerID           Name  \\\n",
       "0    2022-01-01 00:00:00        2701  55.530334        1952  Customer 1952   \n",
       "1    2022-01-01 01:00:00        2070  12.881180        1027  Customer 1027   \n",
       "2    2022-01-01 02:00:00        2238  50.176322        1955  Customer 1955   \n",
       "3    2022-01-01 03:00:00        2879  41.634001        1796  Customer 1796   \n",
       "4    2022-01-01 04:00:00        2966  78.122853        1946  Customer 1946   \n",
       "..                   ...         ...        ...         ...            ...   \n",
       "995  2022-02-11 11:00:00        2150  19.876750        1411  Customer 1411   \n",
       "996  2022-02-11 12:00:00        2888  96.299792        1566  Customer 1566   \n",
       "997  2022-02-11 13:00:00        2037  75.164459        1654  Customer 1654   \n",
       "998  2022-02-11 14:00:00        2629  93.633040        1928  Customer 1928   \n",
       "999  2022-02-11 15:00:00        2235  89.915625        1503  Customer 1503   \n",
       "\n",
       "     Age       Address  AccountBalance   LastLogin  SuspiciousFlag  \n",
       "0     50  Address 1952     2869.689912  2024-08-09               0  \n",
       "1     46  Address 1027     9527.947107  2022-01-27               0  \n",
       "2     34  Address 1955     9288.355525  2024-08-12               0  \n",
       "3     33  Address 1796     5588.049942  2024-03-06               0  \n",
       "4     18  Address 1946     7324.785332  2024-08-03               0  \n",
       "..   ...           ...             ...         ...             ...  \n",
       "995   19  Address 1411     1290.323059  2023-02-15               0  \n",
       "996   39  Address 1566     7067.831609  2023-07-20               0  \n",
       "997   51  Address 1654     9088.738359  2023-10-16               0  \n",
       "998   60  Address 1928     9352.655675  2024-07-16               0  \n",
       "999   37  Address 1503     4370.431522  2023-05-18               0  \n",
       "\n",
       "[1000 rows x 15 columns]"
      ]
     },
     "execution_count": 8,
     "metadata": {},
     "output_type": "execute_result"
    }
   ],
   "source": [
    "data = pd.merge(transaction_data, costumer_data,on=\"CustomerID\")\n",
    "data"
   ]
  },
  {
   "cell_type": "markdown",
   "metadata": {},
   "source": [
    "<div style=\"background-color: #bde0fe; border-radius: 10px; text-align: center; padding: 20px;\">\n",
    "    <h1 style=\"color: black;\">Data Exploration</h1>\n",
    "</div>\n"
   ]
  },
  {
   "cell_type": "code",
   "execution_count": 9,
   "metadata": {
    "execution": {
     "iopub.execute_input": "2023-09-05T17:49:00.340431Z",
     "iopub.status.busy": "2023-09-05T17:49:00.340028Z",
     "iopub.status.idle": "2023-09-05T17:49:00.362202Z",
     "shell.execute_reply": "2023-09-05T17:49:00.360417Z",
     "shell.execute_reply.started": "2023-09-05T17:49:00.340390Z"
    },
    "trusted": true
   },
   "outputs": [
    {
     "name": "stdout",
     "output_type": "stream",
     "text": [
      "<class 'pandas.core.frame.DataFrame'>\n",
      "RangeIndex: 1000 entries, 0 to 999\n",
      "Data columns (total 15 columns):\n",
      " #   Column             Non-Null Count  Dtype  \n",
      "---  ------             --------------  -----  \n",
      " 0   TransactionID      1000 non-null   int64  \n",
      " 1   FraudIndicator     1000 non-null   int64  \n",
      " 2   Category           1000 non-null   object \n",
      " 3   TransactionAmount  1000 non-null   float64\n",
      " 4   AnomalyScore       1000 non-null   float64\n",
      " 5   Timestamp          1000 non-null   object \n",
      " 6   MerchantID         1000 non-null   int64  \n",
      " 7   Amount             1000 non-null   float64\n",
      " 8   CustomerID         1000 non-null   int64  \n",
      " 9   Name               1000 non-null   object \n",
      " 10  Age                1000 non-null   int64  \n",
      " 11  Address            1000 non-null   object \n",
      " 12  AccountBalance     1000 non-null   float64\n",
      " 13  LastLogin          1000 non-null   object \n",
      " 14  SuspiciousFlag     1000 non-null   int64  \n",
      "dtypes: float64(4), int64(6), object(5)\n",
      "memory usage: 117.3+ KB\n"
     ]
    }
   ],
   "source": [
    "data.info()"
   ]
  },
  {
   "cell_type": "code",
   "execution_count": 10,
   "metadata": {
    "execution": {
     "iopub.execute_input": "2023-09-05T17:49:00.368044Z",
     "iopub.status.busy": "2023-09-05T17:49:00.367570Z",
     "iopub.status.idle": "2023-09-05T17:49:00.377272Z",
     "shell.execute_reply": "2023-09-05T17:49:00.375973Z",
     "shell.execute_reply.started": "2023-09-05T17:49:00.368006Z"
    },
    "trusted": true
   },
   "outputs": [
    {
     "data": {
      "text/plain": [
       "(1000, 15)"
      ]
     },
     "execution_count": 10,
     "metadata": {},
     "output_type": "execute_result"
    }
   ],
   "source": [
    "data.shape"
   ]
  },
  {
   "cell_type": "code",
   "execution_count": 11,
   "metadata": {
    "execution": {
     "iopub.execute_input": "2023-09-05T17:49:00.379886Z",
     "iopub.status.busy": "2023-09-05T17:49:00.379432Z",
     "iopub.status.idle": "2023-09-05T17:49:00.538703Z",
     "shell.execute_reply": "2023-09-05T17:49:00.537438Z",
     "shell.execute_reply.started": "2023-09-05T17:49:00.379849Z"
    },
    "trusted": true
   },
   "outputs": [
    {
     "data": {
      "text/html": [
       "<div>\n",
       "<style scoped>\n",
       "    .dataframe tbody tr th:only-of-type {\n",
       "        vertical-align: middle;\n",
       "    }\n",
       "\n",
       "    .dataframe tbody tr th {\n",
       "        vertical-align: top;\n",
       "    }\n",
       "\n",
       "    .dataframe thead th {\n",
       "        text-align: right;\n",
       "    }\n",
       "</style>\n",
       "<table border=\"1\" class=\"dataframe\">\n",
       "  <thead>\n",
       "    <tr style=\"text-align: right;\">\n",
       "      <th></th>\n",
       "      <th>TransactionID</th>\n",
       "      <th>FraudIndicator</th>\n",
       "      <th>TransactionAmount</th>\n",
       "      <th>AnomalyScore</th>\n",
       "      <th>MerchantID</th>\n",
       "      <th>Amount</th>\n",
       "      <th>CustomerID</th>\n",
       "      <th>Age</th>\n",
       "      <th>AccountBalance</th>\n",
       "      <th>SuspiciousFlag</th>\n",
       "    </tr>\n",
       "  </thead>\n",
       "  <tbody>\n",
       "    <tr>\n",
       "      <th>count</th>\n",
       "      <td>1000.000000</td>\n",
       "      <td>1000.000000</td>\n",
       "      <td>1000.000000</td>\n",
       "      <td>1000.000000</td>\n",
       "      <td>1000.000000</td>\n",
       "      <td>1000.000000</td>\n",
       "      <td>1000.000000</td>\n",
       "      <td>1000.000000</td>\n",
       "      <td>1000.000000</td>\n",
       "      <td>1000.000000</td>\n",
       "    </tr>\n",
       "    <tr>\n",
       "      <th>mean</th>\n",
       "      <td>500.500000</td>\n",
       "      <td>0.045000</td>\n",
       "      <td>55.853826</td>\n",
       "      <td>0.492282</td>\n",
       "      <td>2504.701000</td>\n",
       "      <td>55.394871</td>\n",
       "      <td>1496.626000</td>\n",
       "      <td>39.848000</td>\n",
       "      <td>5715.455931</td>\n",
       "      <td>0.025000</td>\n",
       "    </tr>\n",
       "    <tr>\n",
       "      <th>std</th>\n",
       "      <td>288.819436</td>\n",
       "      <td>0.207408</td>\n",
       "      <td>26.093606</td>\n",
       "      <td>0.288423</td>\n",
       "      <td>288.414883</td>\n",
       "      <td>25.070809</td>\n",
       "      <td>289.229047</td>\n",
       "      <td>13.074932</td>\n",
       "      <td>2540.517262</td>\n",
       "      <td>0.156203</td>\n",
       "    </tr>\n",
       "    <tr>\n",
       "      <th>min</th>\n",
       "      <td>1.000000</td>\n",
       "      <td>0.000000</td>\n",
       "      <td>10.057864</td>\n",
       "      <td>0.000234</td>\n",
       "      <td>2001.000000</td>\n",
       "      <td>10.006933</td>\n",
       "      <td>1001.000000</td>\n",
       "      <td>18.000000</td>\n",
       "      <td>1056.301181</td>\n",
       "      <td>0.000000</td>\n",
       "    </tr>\n",
       "    <tr>\n",
       "      <th>25%</th>\n",
       "      <td>250.750000</td>\n",
       "      <td>0.000000</td>\n",
       "      <td>33.875129</td>\n",
       "      <td>0.251802</td>\n",
       "      <td>2254.500000</td>\n",
       "      <td>34.502315</td>\n",
       "      <td>1239.000000</td>\n",
       "      <td>29.000000</td>\n",
       "      <td>3489.554711</td>\n",
       "      <td>0.000000</td>\n",
       "    </tr>\n",
       "    <tr>\n",
       "      <th>50%</th>\n",
       "      <td>500.500000</td>\n",
       "      <td>0.000000</td>\n",
       "      <td>55.958313</td>\n",
       "      <td>0.490242</td>\n",
       "      <td>2500.500000</td>\n",
       "      <td>57.844325</td>\n",
       "      <td>1501.000000</td>\n",
       "      <td>39.000000</td>\n",
       "      <td>5753.007775</td>\n",
       "      <td>0.000000</td>\n",
       "    </tr>\n",
       "    <tr>\n",
       "      <th>75%</th>\n",
       "      <td>750.250000</td>\n",
       "      <td>0.000000</td>\n",
       "      <td>77.589391</td>\n",
       "      <td>0.741888</td>\n",
       "      <td>2761.250000</td>\n",
       "      <td>75.858576</td>\n",
       "      <td>1739.250000</td>\n",
       "      <td>51.000000</td>\n",
       "      <td>7925.710167</td>\n",
       "      <td>0.000000</td>\n",
       "    </tr>\n",
       "    <tr>\n",
       "      <th>max</th>\n",
       "      <td>1000.000000</td>\n",
       "      <td>1.000000</td>\n",
       "      <td>99.784323</td>\n",
       "      <td>0.999047</td>\n",
       "      <td>3000.000000</td>\n",
       "      <td>99.887410</td>\n",
       "      <td>2000.000000</td>\n",
       "      <td>64.000000</td>\n",
       "      <td>9999.776239</td>\n",
       "      <td>1.000000</td>\n",
       "    </tr>\n",
       "  </tbody>\n",
       "</table>\n",
       "</div>"
      ],
      "text/plain": [
       "       TransactionID  FraudIndicator  TransactionAmount  AnomalyScore  \\\n",
       "count    1000.000000     1000.000000        1000.000000   1000.000000   \n",
       "mean      500.500000        0.045000          55.853826      0.492282   \n",
       "std       288.819436        0.207408          26.093606      0.288423   \n",
       "min         1.000000        0.000000          10.057864      0.000234   \n",
       "25%       250.750000        0.000000          33.875129      0.251802   \n",
       "50%       500.500000        0.000000          55.958313      0.490242   \n",
       "75%       750.250000        0.000000          77.589391      0.741888   \n",
       "max      1000.000000        1.000000          99.784323      0.999047   \n",
       "\n",
       "        MerchantID       Amount   CustomerID          Age  AccountBalance  \\\n",
       "count  1000.000000  1000.000000  1000.000000  1000.000000     1000.000000   \n",
       "mean   2504.701000    55.394871  1496.626000    39.848000     5715.455931   \n",
       "std     288.414883    25.070809   289.229047    13.074932     2540.517262   \n",
       "min    2001.000000    10.006933  1001.000000    18.000000     1056.301181   \n",
       "25%    2254.500000    34.502315  1239.000000    29.000000     3489.554711   \n",
       "50%    2500.500000    57.844325  1501.000000    39.000000     5753.007775   \n",
       "75%    2761.250000    75.858576  1739.250000    51.000000     7925.710167   \n",
       "max    3000.000000    99.887410  2000.000000    64.000000     9999.776239   \n",
       "\n",
       "       SuspiciousFlag  \n",
       "count     1000.000000  \n",
       "mean         0.025000  \n",
       "std          0.156203  \n",
       "min          0.000000  \n",
       "25%          0.000000  \n",
       "50%          0.000000  \n",
       "75%          0.000000  \n",
       "max          1.000000  "
      ]
     },
     "execution_count": 11,
     "metadata": {},
     "output_type": "execute_result"
    }
   ],
   "source": [
    "data.describe()"
   ]
  },
  {
   "cell_type": "code",
   "execution_count": 13,
   "metadata": {
    "execution": {
     "iopub.execute_input": "2023-09-05T17:49:00.553940Z",
     "iopub.status.busy": "2023-09-05T17:49:00.552764Z",
     "iopub.status.idle": "2023-09-05T17:49:00.568427Z",
     "shell.execute_reply": "2023-09-05T17:49:00.566693Z",
     "shell.execute_reply.started": "2023-09-05T17:49:00.553870Z"
    },
    "trusted": true
   },
   "outputs": [
    {
     "name": "stdout",
     "output_type": "stream",
     "text": [
      "['TransactionID', 'FraudIndicator', 'TransactionAmount', 'AnomalyScore', 'MerchantID', 'Amount', 'CustomerID', 'Age', 'AccountBalance', 'SuspiciousFlag']\n",
      "['Category', 'Timestamp', 'Name', 'Address', 'LastLogin']\n"
     ]
    }
   ],
   "source": [
    "numerical_features = data.select_dtypes(include=['number']).columns.tolist()\n",
    "categorical_features = data.select_dtypes(include=['object']).columns.tolist()\n",
    "print(numerical_features)\n",
    "print(categorical_features)"
   ]
  },
  {
   "cell_type": "markdown",
   "metadata": {},
   "source": [
    "<div style=\"background-color: #cdb4db; border-radius: 10px; text-align: center; padding: 20px;\">\n",
    "    <h1 style=\"color: black;\">Data Visualization</h1>\n",
    "</div>\n"
   ]
  },
  {
   "cell_type": "code",
   "execution_count": 14,
   "metadata": {
    "execution": {
     "iopub.execute_input": "2023-09-05T17:49:00.571214Z",
     "iopub.status.busy": "2023-09-05T17:49:00.570432Z",
     "iopub.status.idle": "2023-09-05T17:49:02.438014Z",
     "shell.execute_reply": "2023-09-05T17:49:02.436742Z",
     "shell.execute_reply.started": "2023-09-05T17:49:00.571178Z"
    },
    "trusted": true
   },
   "outputs": [
    {
     "data": {
      "image/png": "[encoded data removed]",
      "text/plain": [
       "<Figure size 1000x500 with 1 Axes>"
      ]
     },
     "metadata": {},
     "output_type": "display_data"
    },
    {
     "data": {
      "image/png": "[encoded data removed]",
      "text/plain": [
       "<Figure size 1000x500 with 1 Axes>"
      ]
     },
     "metadata": {},
     "output_type": "display_data"
    },
    {
     "data": {
      "image/png": "[encoded data removed]",
      "text/plain": [
       "<Figure size 1000x500 with 1 Axes>"
      ]
     },
     "metadata": {},
     "output_type": "display_data"
    },
    {
     "data": {
      "image/png": "[encoded data removed]",
      "text/plain": [
       "<Figure size 1000x500 with 1 Axes>"
      ]
     },
     "metadata": {},
     "output_type": "display_data"
    },
    {
     "data": {
      "image/png": "[encoded data removed]",
      "text/plain": [
       "<Figure size 1000x500 with 1 Axes>"
      ]
     },
     "metadata": {},
     "output_type": "display_data"
    }
   ],
   "source": [
    "for column in data.columns:\n",
    "    if data[column].dtype == 'object':  # Check if the column has a categorical data type\n",
    "        top_10_values = data[column].value_counts().head(10)  # Get the first 10 unique values and their counts\n",
    "        plt.figure(figsize=(10, 5))  # Adjust the figure size if needed\n",
    "        sns.countplot(x=column, data=data, order=top_10_values.index)\n",
    "        plt.title(f'Count Plot for {column}')\n",
    "        plt.xticks(rotation=90)  # Rotate x-axis labels if they are long\n",
    "        plt.show()\n"
   ]
  },
  {
   "cell_type": "code",
   "execution_count": 15,
   "metadata": {
    "execution": {
     "iopub.execute_input": "2023-09-05T17:49:02.439895Z",
     "iopub.status.busy": "2023-09-05T17:49:02.439511Z",
     "iopub.status.idle": "2023-09-05T17:49:04.256623Z",
     "shell.execute_reply": "2023-09-05T17:49:04.255627Z",
     "shell.execute_reply.started": "2023-09-05T17:49:02.439862Z"
    },
    "trusted": true
   },
   "outputs": [
    {
     "data": {
      "image/png": "[encoded data removed]",
      "text/plain": [
       "<Figure size 1200x3000 with 10 Axes>"
      ]
     },
     "metadata": {},
     "output_type": "display_data"
    }
   ],
   "source": [
    "import pandas as pd\n",
    "import seaborn as sns\n",
    "import matplotlib.pyplot as plt\n",
    "\n",
    "# Assuming 'data' is your DataFrame containing numerical columns\n",
    "\n",
    "# Get the number of numerical columns\n",
    "num_cols = len(data.select_dtypes(include=['number']).columns)\n",
    "\n",
    "# Calculate the number of rows and columns for subplots\n",
    "num_rows = (num_cols // 2) + (num_cols % 2)\n",
    "\n",
    "# Create subplots\n",
    "fig, axes = plt.subplots(num_rows, 2, figsize=(12, 6*num_rows))\n",
    "fig.suptitle(\"Box Plots for Numerical Columns\")\n",
    "\n",
    "# Loop through the numerical columns and create box plots\n",
    "for i, column in enumerate(data.select_dtypes(include=['number']).columns):\n",
    "    row = i // 2\n",
    "    col = i % 2\n",
    "    sns.boxplot(x=data[column], ax=axes[row, col])\n",
    "    axes[row, col].set_title(column)\n",
    "\n",
    "# Remove any empty subplots\n",
    "if num_cols % 2 != 0:\n",
    "    fig.delaxes(axes[num_rows-1, 1])\n",
    "\n",
    "plt.tight_layout()\n",
    "plt.subplots_adjust(top=0.95)  # Adjust the position of the overall title\n",
    "plt.show()\n"
   ]
  },
  {
   "cell_type": "code",
   "execution_count": 16,
   "metadata": {
    "execution": {
     "iopub.execute_input": "2023-09-05T17:49:04.259195Z",
     "iopub.status.busy": "2023-09-05T17:49:04.257953Z",
     "iopub.status.idle": "2023-09-05T17:49:04.522529Z",
     "shell.execute_reply": "2023-09-05T17:49:04.521438Z",
     "shell.execute_reply.started": "2023-09-05T17:49:04.259153Z"
    },
    "trusted": true
   },
   "outputs": [
    {
     "data": {
      "image/png": "[encoded data removed]",
      "text/plain": [
       "<Figure size 800x600 with 1 Axes>"
      ]
     },
     "metadata": {},
     "output_type": "display_data"
    }
   ],
   "source": [
    "# We should use countplot for SuspiciousFlag feature\n",
    "\n",
    "plt.figure(figsize=(8, 6))  # Adjust the figure size if needed\n",
    "sns.countplot(x='SuspiciousFlag', data=data, palette='Set2')  # You can change the palette as desired\n",
    "plt.title('Count Plot for Suspicious Flag')\n",
    "plt.xlabel('Suspicious Flag')\n",
    "plt.ylabel('Count')\n",
    "plt.xticks(rotation=45)  # Rotate x-axis labels if they are long\n",
    "\n",
    "plt.show()"
   ]
  },
  {
   "cell_type": "markdown",
   "metadata": {},
   "source": [
    "Okay we can see the dataset's target feature is heavily imbalanced sowe can use further techiniqes to equalize the feature's values "
   ]
  },
  {
   "cell_type": "code",
   "execution_count": 17,
   "metadata": {
    "execution": {
     "iopub.execute_input": "2023-09-05T17:49:04.524560Z",
     "iopub.status.busy": "2023-09-05T17:49:04.523956Z",
     "iopub.status.idle": "2023-09-05T17:49:05.230490Z",
     "shell.execute_reply": "2023-09-05T17:49:05.229585Z",
     "shell.execute_reply.started": "2023-09-05T17:49:04.524524Z"
    },
    "trusted": true
   },
   "outputs": [
    {
     "data": {
      "image/png": "[encoded data removed]",
      "text/plain": [
       "<Figure size 1200x800 with 2 Axes>"
      ]
     },
     "metadata": {},
     "output_type": "display_data"
    }
   ],
   "source": [
    "\n",
    "# Select only the numeric columns\n",
    "numeric_data = data.select_dtypes(include=['number'])\n",
    "\n",
    "# Calculate the correlation matrix for numeric columns\n",
    "correlation_matrix = numeric_data.corr()\n",
    "\n",
    "# Create a heatmap\n",
    "plt.figure(figsize=(12, 8))\n",
    "sns.heatmap(correlation_matrix, annot=True, cmap='coolwarm', fmt=\".2f\")\n",
    "plt.title('Correlation Heatmap for Numeric Columns')\n",
    "\n",
    "plt.show()\n"
   ]
  },
  {
   "cell_type": "code",
   "execution_count": null,
   "metadata": {
    "execution": {
     "iopub.execute_input": "2023-09-05T17:49:05.232357Z",
     "iopub.status.busy": "2023-09-05T17:49:05.231988Z",
     "iopub.status.idle": "2023-09-05T17:49:05.237858Z",
     "shell.execute_reply": "2023-09-05T17:49:05.236665Z",
     "shell.execute_reply.started": "2023-09-05T17:49:05.232325Z"
    },
    "trusted": true
   },
   "outputs": [],
   "source": [
    "# Dropping the columns as of now they are not mush corelated & also wouldn't damper the performance of model\n",
    "columns_to_be_dropped = ['TransactionID','MerchantID','CustomerID','Name', 'Age', 'Address']\n",
    "data1 = data.drop(columns_to_be_dropped, axis=1)\n",
    "data1.head()"
   ]
  },
  {
   "cell_type": "code",
   "execution_count": 20,
   "metadata": {
    "execution": {
     "iopub.execute_input": "2023-09-05T17:49:05.267453Z",
     "iopub.status.busy": "2023-09-05T17:49:05.267125Z",
     "iopub.status.idle": "2023-09-05T17:49:05.279046Z",
     "shell.execute_reply": "2023-09-05T17:49:05.277752Z",
     "shell.execute_reply.started": "2023-09-05T17:49:05.267424Z"
    },
    "trusted": true
   },
   "outputs": [
    {
     "data": {
      "text/plain": [
       "(FraudIndicator\n",
       " 0    955\n",
       " 1     45\n",
       " Name: count, dtype: int64,\n",
       " SuspiciousFlag\n",
       " 0    975\n",
       " 1     25\n",
       " Name: count, dtype: int64,\n",
       " Category\n",
       " Other     210\n",
       " Food      204\n",
       " Travel    198\n",
       " Online    196\n",
       " Retail    192\n",
       " Name: count, dtype: int64)"
      ]
     },
     "execution_count": 20,
     "metadata": {},
     "output_type": "execute_result"
    }
   ],
   "source": [
    "data1['FraudIndicator'].value_counts(), data1['SuspiciousFlag'].value_counts(), data1['Category'].value_counts()"
   ]
  },
  {
   "cell_type": "markdown",
   "metadata": {},
   "source": [
    "<div style=\"background-color: #ffc8dd; border-radius: 10px; text-align: center; padding: 20px;\">\n",
    "    <h1 style=\"color: black;\">Feature Engineering</h1>\n",
    "</div>\n"
   ]
  },
  {
   "cell_type": "markdown",
   "metadata": {},
   "source": [
    "Consiste en: Seleccionar y transformar las variables que se utilizarán en el modelo, Normalizar variables, Manipular datos categóricos, Crear nuevas variables a partir de las existentes"
   ]
  },
  {
   "cell_type": "code",
   "execution_count": 21,
   "metadata": {
    "execution": {
     "iopub.execute_input": "2023-09-05T17:49:05.281103Z",
     "iopub.status.busy": "2023-09-05T17:49:05.280630Z",
     "iopub.status.idle": "2023-09-05T17:49:05.289896Z",
     "shell.execute_reply": "2023-09-05T17:49:05.288357Z",
     "shell.execute_reply.started": "2023-09-05T17:49:05.281060Z"
    },
    "trusted": true
   },
   "outputs": [
    {
     "name": "stdout",
     "output_type": "stream",
     "text": [
      "The 'Timestamp' column is not in datetime format.\n"
     ]
    }
   ],
   "source": [
    "# Using Feature Engineering Creating two Columns\n",
    "# Hour of Transaction = hour\n",
    "# Gap between the day of transaction and last login in days = gap\n",
    "if pd.api.types.is_datetime64_any_dtype(data['Timestamp']):\n",
    "    print(\"The 'Timestamp' column is already in datetime format.\")\n",
    "else:\n",
    "    print(\"The 'Timestamp' column is not in datetime format.\")"
   ]
  },
  {
   "cell_type": "markdown",
   "metadata": {},
   "source": [
    "Converting TimeStamp to datetime format"
   ]
  },
  {
   "cell_type": "code",
   "execution_count": 22,
   "metadata": {
    "execution": {
     "iopub.execute_input": "2023-09-05T17:49:05.292070Z",
     "iopub.status.busy": "2023-09-05T17:49:05.291608Z",
     "iopub.status.idle": "2023-09-05T17:49:05.309233Z",
     "shell.execute_reply": "2023-09-05T17:49:05.307980Z",
     "shell.execute_reply.started": "2023-09-05T17:49:05.292027Z"
    },
    "trusted": true
   },
   "outputs": [
    {
     "name": "stdout",
     "output_type": "stream",
     "text": [
      "FraudIndicator                int64\n",
      "Category                     object\n",
      "TransactionAmount           float64\n",
      "AnomalyScore                float64\n",
      "Timestamp                    object\n",
      "Amount                      float64\n",
      "AccountBalance              float64\n",
      "LastLogin                    object\n",
      "SuspiciousFlag                int64\n",
      "Timestamp1           datetime64[ns]\n",
      "dtype: object\n"
     ]
    }
   ],
   "source": [
    "data1['Timestamp1'] = pd.to_datetime(data1['Timestamp'])\n",
    "\n",
    "print(data1.dtypes)"
   ]
  },
  {
   "cell_type": "code",
   "execution_count": null,
   "metadata": {
    "execution": {
     "iopub.execute_input": "2023-09-05T17:49:05.311510Z",
     "iopub.status.busy": "2023-09-05T17:49:05.310973Z",
     "iopub.status.idle": "2023-09-05T17:49:05.322454Z",
     "shell.execute_reply": "2023-09-05T17:49:05.321535Z",
     "shell.execute_reply.started": "2023-09-05T17:49:05.311468Z"
    },
    "trusted": true
   },
   "outputs": [],
   "source": [
    "data1['Hour'] = data1['Timestamp1'].dt.hour\n",
    "data1['LastLogin'] = pd.to_datetime(data1['LastLogin'])\n",
    "data1['gap'] = (data1['Timestamp1'] - data1['LastLogin']).dt.days.abs()"
   ]
  },
  {
   "cell_type": "code",
   "execution_count": 26,
   "metadata": {
    "execution": {
     "iopub.execute_input": "2023-09-05T17:49:05.358039Z",
     "iopub.status.busy": "2023-09-05T17:49:05.357352Z",
     "iopub.status.idle": "2023-09-05T17:49:05.379939Z",
     "shell.execute_reply": "2023-09-05T17:49:05.378746Z",
     "shell.execute_reply.started": "2023-09-05T17:49:05.357996Z"
    },
    "trusted": true
   },
   "outputs": [
    {
     "data": {
      "text/html": [
       "<div>\n",
       "<style scoped>\n",
       "    .dataframe tbody tr th:only-of-type {\n",
       "        vertical-align: middle;\n",
       "    }\n",
       "\n",
       "    .dataframe tbody tr th {\n",
       "        vertical-align: top;\n",
       "    }\n",
       "\n",
       "    .dataframe thead th {\n",
       "        text-align: right;\n",
       "    }\n",
       "</style>\n",
       "<table border=\"1\" class=\"dataframe\">\n",
       "  <thead>\n",
       "    <tr style=\"text-align: right;\">\n",
       "      <th></th>\n",
       "      <th>FraudIndicator</th>\n",
       "      <th>Category</th>\n",
       "      <th>TransactionAmount</th>\n",
       "      <th>AnomalyScore</th>\n",
       "      <th>Timestamp</th>\n",
       "      <th>Amount</th>\n",
       "      <th>AccountBalance</th>\n",
       "      <th>LastLogin</th>\n",
       "      <th>SuspiciousFlag</th>\n",
       "      <th>Timestamp1</th>\n",
       "      <th>Hour</th>\n",
       "      <th>gap</th>\n",
       "    </tr>\n",
       "  </thead>\n",
       "  <tbody>\n",
       "    <tr>\n",
       "      <th>0</th>\n",
       "      <td>0</td>\n",
       "      <td>Other</td>\n",
       "      <td>79.413607</td>\n",
       "      <td>0.686699</td>\n",
       "      <td>2022-01-01 00:00:00</td>\n",
       "      <td>55.530334</td>\n",
       "      <td>2869.689912</td>\n",
       "      <td>2024-08-09</td>\n",
       "      <td>0</td>\n",
       "      <td>2022-01-01 00:00:00</td>\n",
       "      <td>0</td>\n",
       "      <td>951</td>\n",
       "    </tr>\n",
       "    <tr>\n",
       "      <th>1</th>\n",
       "      <td>0</td>\n",
       "      <td>Online</td>\n",
       "      <td>12.053087</td>\n",
       "      <td>0.081749</td>\n",
       "      <td>2022-01-01 01:00:00</td>\n",
       "      <td>12.881180</td>\n",
       "      <td>9527.947107</td>\n",
       "      <td>2022-01-27</td>\n",
       "      <td>0</td>\n",
       "      <td>2022-01-01 01:00:00</td>\n",
       "      <td>1</td>\n",
       "      <td>26</td>\n",
       "    </tr>\n",
       "    <tr>\n",
       "      <th>2</th>\n",
       "      <td>0</td>\n",
       "      <td>Travel</td>\n",
       "      <td>33.310357</td>\n",
       "      <td>0.023857</td>\n",
       "      <td>2022-01-01 02:00:00</td>\n",
       "      <td>50.176322</td>\n",
       "      <td>9288.355525</td>\n",
       "      <td>2024-08-12</td>\n",
       "      <td>0</td>\n",
       "      <td>2022-01-01 02:00:00</td>\n",
       "      <td>2</td>\n",
       "      <td>954</td>\n",
       "    </tr>\n",
       "    <tr>\n",
       "      <th>3</th>\n",
       "      <td>0</td>\n",
       "      <td>Travel</td>\n",
       "      <td>46.121117</td>\n",
       "      <td>0.876994</td>\n",
       "      <td>2022-01-01 03:00:00</td>\n",
       "      <td>41.634001</td>\n",
       "      <td>5588.049942</td>\n",
       "      <td>2024-03-06</td>\n",
       "      <td>0</td>\n",
       "      <td>2022-01-01 03:00:00</td>\n",
       "      <td>3</td>\n",
       "      <td>795</td>\n",
       "    </tr>\n",
       "    <tr>\n",
       "      <th>4</th>\n",
       "      <td>0</td>\n",
       "      <td>Other</td>\n",
       "      <td>54.051618</td>\n",
       "      <td>0.034059</td>\n",
       "      <td>2022-01-01 04:00:00</td>\n",
       "      <td>78.122853</td>\n",
       "      <td>7324.785332</td>\n",
       "      <td>2024-08-03</td>\n",
       "      <td>0</td>\n",
       "      <td>2022-01-01 04:00:00</td>\n",
       "      <td>4</td>\n",
       "      <td>945</td>\n",
       "    </tr>\n",
       "  </tbody>\n",
       "</table>\n",
       "</div>"
      ],
      "text/plain": [
       "   FraudIndicator Category  TransactionAmount  AnomalyScore  \\\n",
       "0               0    Other          79.413607      0.686699   \n",
       "1               0   Online          12.053087      0.081749   \n",
       "2               0   Travel          33.310357      0.023857   \n",
       "3               0   Travel          46.121117      0.876994   \n",
       "4               0    Other          54.051618      0.034059   \n",
       "\n",
       "             Timestamp     Amount  AccountBalance  LastLogin  SuspiciousFlag  \\\n",
       "0  2022-01-01 00:00:00  55.530334     2869.689912 2024-08-09               0   \n",
       "1  2022-01-01 01:00:00  12.881180     9527.947107 2022-01-27               0   \n",
       "2  2022-01-01 02:00:00  50.176322     9288.355525 2024-08-12               0   \n",
       "3  2022-01-01 03:00:00  41.634001     5588.049942 2024-03-06               0   \n",
       "4  2022-01-01 04:00:00  78.122853     7324.785332 2024-08-03               0   \n",
       "\n",
       "           Timestamp1  Hour  gap  \n",
       "0 2022-01-01 00:00:00     0  951  \n",
       "1 2022-01-01 01:00:00     1   26  \n",
       "2 2022-01-01 02:00:00     2  954  \n",
       "3 2022-01-01 03:00:00     3  795  \n",
       "4 2022-01-01 04:00:00     4  945  "
      ]
     },
     "execution_count": 26,
     "metadata": {},
     "output_type": "execute_result"
    }
   ],
   "source": [
    "data1.head()"
   ]
  },
  {
   "cell_type": "markdown",
   "metadata": {},
   "source": [
    "<div style=\"background-color: #ccd5ae; border-radius: 10px; text-align: center; padding: 20px;\">\n",
    "    <h1 style=\"color: black;\">Data Modelling</h1>\n",
    "</div>\n"
   ]
  },
  {
   "cell_type": "code",
   "execution_count": 27,
   "metadata": {
    "execution": {
     "iopub.execute_input": "2023-09-05T17:49:05.381997Z",
     "iopub.status.busy": "2023-09-05T17:49:05.381476Z",
     "iopub.status.idle": "2023-09-05T17:49:05.389736Z",
     "shell.execute_reply": "2023-09-05T17:49:05.388363Z",
     "shell.execute_reply.started": "2023-09-05T17:49:05.381955Z"
    },
    "trusted": true
   },
   "outputs": [],
   "source": [
    "# Se eliminan las columnas que no son relevantes y se separa la variable objetivo en la variable Y\n",
    "X = data1.drop(['FraudIndicator','Timestamp','Timestamp1','LastLogin'],axis=1)\n",
    "Y = data1['FraudIndicator']"
   ]
  },
  {
   "cell_type": "code",
   "execution_count": 28,
   "metadata": {
    "execution": {
     "iopub.execute_input": "2023-09-05T17:49:05.397392Z",
     "iopub.status.busy": "2023-09-05T17:49:05.397011Z",
     "iopub.status.idle": "2023-09-05T17:49:05.605415Z",
     "shell.execute_reply": "2023-09-05T17:49:05.604414Z",
     "shell.execute_reply.started": "2023-09-05T17:49:05.397362Z"
    },
    "trusted": true
   },
   "outputs": [
    {
     "data": {
      "text/html": [
       "<div>\n",
       "<style scoped>\n",
       "    .dataframe tbody tr th:only-of-type {\n",
       "        vertical-align: middle;\n",
       "    }\n",
       "\n",
       "    .dataframe tbody tr th {\n",
       "        vertical-align: top;\n",
       "    }\n",
       "\n",
       "    .dataframe thead th {\n",
       "        text-align: right;\n",
       "    }\n",
       "</style>\n",
       "<table border=\"1\" class=\"dataframe\">\n",
       "  <thead>\n",
       "    <tr style=\"text-align: right;\">\n",
       "      <th></th>\n",
       "      <th>Category</th>\n",
       "      <th>TransactionAmount</th>\n",
       "      <th>AnomalyScore</th>\n",
       "      <th>Amount</th>\n",
       "      <th>AccountBalance</th>\n",
       "      <th>SuspiciousFlag</th>\n",
       "      <th>Hour</th>\n",
       "      <th>gap</th>\n",
       "    </tr>\n",
       "  </thead>\n",
       "  <tbody>\n",
       "    <tr>\n",
       "      <th>0</th>\n",
       "      <td>2</td>\n",
       "      <td>79.413607</td>\n",
       "      <td>0.686699</td>\n",
       "      <td>55.530334</td>\n",
       "      <td>2869.689912</td>\n",
       "      <td>0</td>\n",
       "      <td>0</td>\n",
       "      <td>951</td>\n",
       "    </tr>\n",
       "    <tr>\n",
       "      <th>1</th>\n",
       "      <td>1</td>\n",
       "      <td>12.053087</td>\n",
       "      <td>0.081749</td>\n",
       "      <td>12.881180</td>\n",
       "      <td>9527.947107</td>\n",
       "      <td>0</td>\n",
       "      <td>1</td>\n",
       "      <td>26</td>\n",
       "    </tr>\n",
       "    <tr>\n",
       "      <th>2</th>\n",
       "      <td>4</td>\n",
       "      <td>33.310357</td>\n",
       "      <td>0.023857</td>\n",
       "      <td>50.176322</td>\n",
       "      <td>9288.355525</td>\n",
       "      <td>0</td>\n",
       "      <td>2</td>\n",
       "      <td>954</td>\n",
       "    </tr>\n",
       "    <tr>\n",
       "      <th>3</th>\n",
       "      <td>4</td>\n",
       "      <td>46.121117</td>\n",
       "      <td>0.876994</td>\n",
       "      <td>41.634001</td>\n",
       "      <td>5588.049942</td>\n",
       "      <td>0</td>\n",
       "      <td>3</td>\n",
       "      <td>795</td>\n",
       "    </tr>\n",
       "    <tr>\n",
       "      <th>4</th>\n",
       "      <td>2</td>\n",
       "      <td>54.051618</td>\n",
       "      <td>0.034059</td>\n",
       "      <td>78.122853</td>\n",
       "      <td>7324.785332</td>\n",
       "      <td>0</td>\n",
       "      <td>4</td>\n",
       "      <td>945</td>\n",
       "    </tr>\n",
       "    <tr>\n",
       "      <th>...</th>\n",
       "      <td>...</td>\n",
       "      <td>...</td>\n",
       "      <td>...</td>\n",
       "      <td>...</td>\n",
       "      <td>...</td>\n",
       "      <td>...</td>\n",
       "      <td>...</td>\n",
       "      <td>...</td>\n",
       "    </tr>\n",
       "    <tr>\n",
       "      <th>995</th>\n",
       "      <td>0</td>\n",
       "      <td>89.457059</td>\n",
       "      <td>0.266778</td>\n",
       "      <td>19.876750</td>\n",
       "      <td>1290.323059</td>\n",
       "      <td>0</td>\n",
       "      <td>11</td>\n",
       "      <td>369</td>\n",
       "    </tr>\n",
       "    <tr>\n",
       "      <th>996</th>\n",
       "      <td>3</td>\n",
       "      <td>47.958030</td>\n",
       "      <td>0.512483</td>\n",
       "      <td>96.299792</td>\n",
       "      <td>7067.831609</td>\n",
       "      <td>0</td>\n",
       "      <td>12</td>\n",
       "      <td>524</td>\n",
       "    </tr>\n",
       "    <tr>\n",
       "      <th>997</th>\n",
       "      <td>0</td>\n",
       "      <td>64.210046</td>\n",
       "      <td>0.367740</td>\n",
       "      <td>75.164459</td>\n",
       "      <td>9088.738359</td>\n",
       "      <td>0</td>\n",
       "      <td>13</td>\n",
       "      <td>612</td>\n",
       "    </tr>\n",
       "    <tr>\n",
       "      <th>998</th>\n",
       "      <td>4</td>\n",
       "      <td>64.684167</td>\n",
       "      <td>0.960364</td>\n",
       "      <td>93.633040</td>\n",
       "      <td>9352.655675</td>\n",
       "      <td>0</td>\n",
       "      <td>14</td>\n",
       "      <td>886</td>\n",
       "    </tr>\n",
       "    <tr>\n",
       "      <th>999</th>\n",
       "      <td>2</td>\n",
       "      <td>97.440127</td>\n",
       "      <td>0.311224</td>\n",
       "      <td>89.915625</td>\n",
       "      <td>4370.431522</td>\n",
       "      <td>0</td>\n",
       "      <td>15</td>\n",
       "      <td>461</td>\n",
       "    </tr>\n",
       "  </tbody>\n",
       "</table>\n",
       "<p>1000 rows × 8 columns</p>\n",
       "</div>"
      ],
      "text/plain": [
       "     Category  TransactionAmount  AnomalyScore     Amount  AccountBalance  \\\n",
       "0           2          79.413607      0.686699  55.530334     2869.689912   \n",
       "1           1          12.053087      0.081749  12.881180     9527.947107   \n",
       "2           4          33.310357      0.023857  50.176322     9288.355525   \n",
       "3           4          46.121117      0.876994  41.634001     5588.049942   \n",
       "4           2          54.051618      0.034059  78.122853     7324.785332   \n",
       "..        ...                ...           ...        ...             ...   \n",
       "995         0          89.457059      0.266778  19.876750     1290.323059   \n",
       "996         3          47.958030      0.512483  96.299792     7067.831609   \n",
       "997         0          64.210046      0.367740  75.164459     9088.738359   \n",
       "998         4          64.684167      0.960364  93.633040     9352.655675   \n",
       "999         2          97.440127      0.311224  89.915625     4370.431522   \n",
       "\n",
       "     SuspiciousFlag  Hour  gap  \n",
       "0                 0     0  951  \n",
       "1                 0     1   26  \n",
       "2                 0     2  954  \n",
       "3                 0     3  795  \n",
       "4                 0     4  945  \n",
       "..              ...   ...  ...  \n",
       "995               0    11  369  \n",
       "996               0    12  524  \n",
       "997               0    13  612  \n",
       "998               0    14  886  \n",
       "999               0    15  461  \n",
       "\n",
       "[1000 rows x 8 columns]"
      ]
     },
     "execution_count": 28,
     "metadata": {},
     "output_type": "execute_result"
    }
   ],
   "source": [
    "# Utiliza LabelEncoder para transformar valores categóricos (como texto) en números\n",
    "from sklearn.preprocessing import LabelEncoder\n",
    "\n",
    "label_encoder = LabelEncoder()\n",
    "X['Category'] = label_encoder.fit_transform(X['Category'])\n",
    "X"
   ]
  },
  {
   "cell_type": "markdown",
   "metadata": {},
   "source": [
    "### Configuracion MLFLow"
   ]
  },
  {
   "cell_type": "code",
   "execution_count": 29,
   "metadata": {},
   "outputs": [
    {
     "name": "stdout",
     "output_type": "stream",
     "text": [
      "Servidor MLflow iniciado con PID 15608\n"
     ]
    }
   ],
   "source": [
    "import subprocess\n",
    "\n",
    "# Ejecutar MLFlow en segundo plano\n",
    "# Simula ejecutar el comando \"mlflow server --host 127.0.0.1 --port 8080\"\n",
    "process = subprocess.Popen(\n",
    "    [\"mlflow\", \"server\", \"--host\", \"127.0.0.1\", \"--port\", \"8080\", \"--backend-store-uri\", \"sqlite:///C:/Users/camil/OneDrive/Escritorio/Tesis/proyectos/main/mlflowfiles/mlflow.db\", \"--default-artifact-root\", \"file:///C:/Users/camil/OneDrive/Escritorio/Tesis/proyectos/main/mlflowfiles/artifacts\"], \n",
    "    stdout=subprocess.PIPE,  # Captura la salida estándar\n",
    "    stderr=subprocess.PIPE   # Captura errores\n",
    ")\n",
    "\n",
    "print(f\"Servidor MLflow iniciado con PID {process.pid}\")\n"
   ]
  },
  {
   "cell_type": "code",
   "execution_count": 30,
   "metadata": {},
   "outputs": [
    {
     "data": {
      "text/plain": [
       "<Experiment: artifact_location='file:///c:/Users/camil/OneDrive/Escritorio/Tesis/proyectos/main/mlruns/605399676308572304', creation_time=1740241735529, experiment_id='605399676308572304', last_update_time=1740241735529, lifecycle_stage='active', name='logistic-regression-experiment', tags={}>"
      ]
     },
     "execution_count": 30,
     "metadata": {},
     "output_type": "execute_result"
    }
   ],
   "source": [
    "import mlflow\n",
    "from mlflow.models import infer_signature\n",
    "\n",
    "# Configurar SQLite como backend store\n",
    "#mlflow.set_tracking_uri(\"sqlite:///C:/Users/camil/OneDrive/Escritorio/Tesis/proyectos/main/mlflowfiles/mlflow.db\")\n",
    "\n",
    "# Definir la ubicación de los artefactos\n",
    "#mlflow.set_registry_uri(\"file:///C:/Users/camil/OneDrive/Escritorio/Tesis/proyectos/main/mlflowfiles/artifacts\")\n",
    "\n",
    "experiment_name = \"logistic-regression-experiment\"\n",
    "#mlflow.create_experiment(experiment_name, artifact_location=\"file:///C:/Users/camil/OneDrive/Escritorio/Tesis/proyectos/main/mlflowfiles/artifacts\")\n",
    "mlflow.set_experiment(experiment_name)\n"
   ]
  },
  {
   "cell_type": "markdown",
   "metadata": {},
   "source": [
    "### Train, test and splitting the data"
   ]
  },
  {
   "cell_type": "code",
   "execution_count": 31,
   "metadata": {
    "execution": {
     "iopub.execute_input": "2023-09-05T17:49:05.607927Z",
     "iopub.status.busy": "2023-09-05T17:49:05.607476Z",
     "iopub.status.idle": "2023-09-05T17:49:05.645579Z",
     "shell.execute_reply": "2023-09-05T17:49:05.644141Z",
     "shell.execute_reply.started": "2023-09-05T17:49:05.607889Z"
    },
    "trusted": true
   },
   "outputs": [],
   "source": [
    "#: Divide el dataset en dos subconjuntos:\n",
    "# - 80% de los datos será para entrenar el modelo\n",
    "# - 20% de los datos será para evaluar el modelo\n",
    "from sklearn.model_selection import train_test_split\n",
    "\n",
    "X_train, X_test, Y_train, Y_test = train_test_split(X,Y,test_size=0.2)"
   ]
  },
  {
   "cell_type": "code",
   "execution_count": 32,
   "metadata": {
    "execution": {
     "iopub.execute_input": "2023-09-05T17:49:05.647510Z",
     "iopub.status.busy": "2023-09-05T17:49:05.647156Z",
     "iopub.status.idle": "2023-09-05T17:49:05.659426Z",
     "shell.execute_reply": "2023-09-05T17:49:05.657950Z",
     "shell.execute_reply.started": "2023-09-05T17:49:05.647480Z"
    },
    "trusted": true
   },
   "outputs": [
    {
     "data": {
      "text/plain": [
       "((800, 8), (200,))"
      ]
     },
     "execution_count": 32,
     "metadata": {},
     "output_type": "execute_result"
    }
   ],
   "source": [
    "# Muestra el tamaño de los conjuntos de entrenamiento y prueba.\n",
    "X_train.shape,Y_test.shape"
   ]
  },
  {
   "cell_type": "code",
   "execution_count": 33,
   "metadata": {},
   "outputs": [
    {
     "data": {
      "text/html": [
       "<div>\n",
       "<style scoped>\n",
       "    .dataframe tbody tr th:only-of-type {\n",
       "        vertical-align: middle;\n",
       "    }\n",
       "\n",
       "    .dataframe tbody tr th {\n",
       "        vertical-align: top;\n",
       "    }\n",
       "\n",
       "    .dataframe thead th {\n",
       "        text-align: right;\n",
       "    }\n",
       "</style>\n",
       "<table border=\"1\" class=\"dataframe\">\n",
       "  <thead>\n",
       "    <tr style=\"text-align: right;\">\n",
       "      <th></th>\n",
       "      <th>Category</th>\n",
       "      <th>TransactionAmount</th>\n",
       "      <th>AnomalyScore</th>\n",
       "      <th>Amount</th>\n",
       "      <th>AccountBalance</th>\n",
       "      <th>SuspiciousFlag</th>\n",
       "      <th>Hour</th>\n",
       "      <th>gap</th>\n",
       "    </tr>\n",
       "  </thead>\n",
       "  <tbody>\n",
       "    <tr>\n",
       "      <th>909</th>\n",
       "      <td>0</td>\n",
       "      <td>93.896547</td>\n",
       "      <td>0.661051</td>\n",
       "      <td>32.231877</td>\n",
       "      <td>9343.248065</td>\n",
       "      <td>1</td>\n",
       "      <td>21</td>\n",
       "      <td>190</td>\n",
       "    </tr>\n",
       "    <tr>\n",
       "      <th>11</th>\n",
       "      <td>0</td>\n",
       "      <td>17.797222</td>\n",
       "      <td>0.451735</td>\n",
       "      <td>95.554009</td>\n",
       "      <td>2670.113015</td>\n",
       "      <td>0</td>\n",
       "      <td>11</td>\n",
       "      <td>301</td>\n",
       "    </tr>\n",
       "    <tr>\n",
       "      <th>544</th>\n",
       "      <td>2</td>\n",
       "      <td>46.789519</td>\n",
       "      <td>0.810429</td>\n",
       "      <td>68.365715</td>\n",
       "      <td>8612.857297</td>\n",
       "      <td>0</td>\n",
       "      <td>16</td>\n",
       "      <td>7</td>\n",
       "    </tr>\n",
       "    <tr>\n",
       "      <th>591</th>\n",
       "      <td>3</td>\n",
       "      <td>73.969653</td>\n",
       "      <td>0.043565</td>\n",
       "      <td>57.878039</td>\n",
       "      <td>3432.046286</td>\n",
       "      <td>0</td>\n",
       "      <td>15</td>\n",
       "      <td>290</td>\n",
       "    </tr>\n",
       "    <tr>\n",
       "      <th>540</th>\n",
       "      <td>2</td>\n",
       "      <td>80.317811</td>\n",
       "      <td>0.480541</td>\n",
       "      <td>69.236695</td>\n",
       "      <td>7685.510723</td>\n",
       "      <td>0</td>\n",
       "      <td>12</td>\n",
       "      <td>487</td>\n",
       "    </tr>\n",
       "    <tr>\n",
       "      <th>...</th>\n",
       "      <td>...</td>\n",
       "      <td>...</td>\n",
       "      <td>...</td>\n",
       "      <td>...</td>\n",
       "      <td>...</td>\n",
       "      <td>...</td>\n",
       "      <td>...</td>\n",
       "      <td>...</td>\n",
       "    </tr>\n",
       "    <tr>\n",
       "      <th>834</th>\n",
       "      <td>2</td>\n",
       "      <td>42.201477</td>\n",
       "      <td>0.673439</td>\n",
       "      <td>43.956898</td>\n",
       "      <td>4370.431522</td>\n",
       "      <td>0</td>\n",
       "      <td>18</td>\n",
       "      <td>468</td>\n",
       "    </tr>\n",
       "    <tr>\n",
       "      <th>444</th>\n",
       "      <td>3</td>\n",
       "      <td>55.917424</td>\n",
       "      <td>0.233789</td>\n",
       "      <td>12.792319</td>\n",
       "      <td>1670.493090</td>\n",
       "      <td>0</td>\n",
       "      <td>12</td>\n",
       "      <td>685</td>\n",
       "    </tr>\n",
       "    <tr>\n",
       "      <th>793</th>\n",
       "      <td>2</td>\n",
       "      <td>11.829615</td>\n",
       "      <td>0.175378</td>\n",
       "      <td>50.235850</td>\n",
       "      <td>2394.859954</td>\n",
       "      <td>0</td>\n",
       "      <td>1</td>\n",
       "      <td>916</td>\n",
       "    </tr>\n",
       "    <tr>\n",
       "      <th>106</th>\n",
       "      <td>1</td>\n",
       "      <td>85.928348</td>\n",
       "      <td>0.366455</td>\n",
       "      <td>58.084975</td>\n",
       "      <td>8430.986519</td>\n",
       "      <td>0</td>\n",
       "      <td>10</td>\n",
       "      <td>354</td>\n",
       "    </tr>\n",
       "    <tr>\n",
       "      <th>104</th>\n",
       "      <td>2</td>\n",
       "      <td>39.707110</td>\n",
       "      <td>0.222304</td>\n",
       "      <td>64.179888</td>\n",
       "      <td>8722.686489</td>\n",
       "      <td>0</td>\n",
       "      <td>8</td>\n",
       "      <td>974</td>\n",
       "    </tr>\n",
       "  </tbody>\n",
       "</table>\n",
       "<p>800 rows × 8 columns</p>\n",
       "</div>"
      ],
      "text/plain": [
       "     Category  TransactionAmount  AnomalyScore     Amount  AccountBalance  \\\n",
       "909         0          93.896547      0.661051  32.231877     9343.248065   \n",
       "11          0          17.797222      0.451735  95.554009     2670.113015   \n",
       "544         2          46.789519      0.810429  68.365715     8612.857297   \n",
       "591         3          73.969653      0.043565  57.878039     3432.046286   \n",
       "540         2          80.317811      0.480541  69.236695     7685.510723   \n",
       "..        ...                ...           ...        ...             ...   \n",
       "834         2          42.201477      0.673439  43.956898     4370.431522   \n",
       "444         3          55.917424      0.233789  12.792319     1670.493090   \n",
       "793         2          11.829615      0.175378  50.235850     2394.859954   \n",
       "106         1          85.928348      0.366455  58.084975     8430.986519   \n",
       "104         2          39.707110      0.222304  64.179888     8722.686489   \n",
       "\n",
       "     SuspiciousFlag  Hour  gap  \n",
       "909               1    21  190  \n",
       "11                0    11  301  \n",
       "544               0    16    7  \n",
       "591               0    15  290  \n",
       "540               0    12  487  \n",
       "..              ...   ...  ...  \n",
       "834               0    18  468  \n",
       "444               0    12  685  \n",
       "793               0     1  916  \n",
       "106               0    10  354  \n",
       "104               0     8  974  \n",
       "\n",
       "[800 rows x 8 columns]"
      ]
     },
     "metadata": {},
     "output_type": "display_data"
    }
   ],
   "source": [
    "display(X_train)"
   ]
  },
  {
   "cell_type": "code",
   "execution_count": 34,
   "metadata": {},
   "outputs": [
    {
     "name": "stdout",
     "output_type": "stream",
     "text": [
      "<class 'pandas.core.frame.DataFrame'>\n",
      "Index: 800 entries, 909 to 104\n",
      "Data columns (total 8 columns):\n",
      " #   Column             Non-Null Count  Dtype  \n",
      "---  ------             --------------  -----  \n",
      " 0   Category           800 non-null    int64  \n",
      " 1   TransactionAmount  800 non-null    float64\n",
      " 2   AnomalyScore       800 non-null    float64\n",
      " 3   Amount             800 non-null    float64\n",
      " 4   AccountBalance     800 non-null    float64\n",
      " 5   SuspiciousFlag     800 non-null    int64  \n",
      " 6   Hour               800 non-null    int32  \n",
      " 7   gap                800 non-null    int64  \n",
      "dtypes: float64(4), int32(1), int64(3)\n",
      "memory usage: 53.1 KB\n"
     ]
    }
   ],
   "source": [
    "X_train.info()"
   ]
  },
  {
   "cell_type": "code",
   "execution_count": 35,
   "metadata": {},
   "outputs": [
    {
     "data": {
      "text/plain": [
       "909    0\n",
       "11     0\n",
       "544    0\n",
       "591    0\n",
       "540    0\n",
       "      ..\n",
       "834    0\n",
       "444    0\n",
       "793    1\n",
       "106    0\n",
       "104    0\n",
       "Name: FraudIndicator, Length: 800, dtype: int64"
      ]
     },
     "metadata": {},
     "output_type": "display_data"
    }
   ],
   "source": [
    "display(Y_train)"
   ]
  },
  {
   "cell_type": "markdown",
   "metadata": {},
   "source": [
    "### Modelo de regresión logística"
   ]
  },
  {
   "cell_type": "code",
   "execution_count": 36,
   "metadata": {
    "execution": {
     "iopub.execute_input": "2023-09-05T17:49:05.662011Z",
     "iopub.status.busy": "2023-09-05T17:49:05.661605Z",
     "iopub.status.idle": "2023-09-05T17:49:05.734522Z",
     "shell.execute_reply": "2023-09-05T17:49:05.732890Z",
     "shell.execute_reply.started": "2023-09-05T17:49:05.661980Z"
    },
    "trusted": true
   },
   "outputs": [
    {
     "name": "stdout",
     "output_type": "stream",
     "text": [
      "Accuracy: 0.945\n"
     ]
    }
   ],
   "source": [
    "from sklearn.linear_model import LogisticRegression\n",
    "from sklearn.metrics import accuracy_score, precision_score, recall_score, f1_score, confusion_matrix\n",
    "\n",
    "# Crear el modelo\n",
    "model = LogisticRegression()\n",
    "\n",
    "# Entrenar el modelo con los datos de entrenamiento\n",
    "model.fit(X_train, Y_train)\n",
    "\n",
    "# Realizar predicciones con los datos de prueba\n",
    "y_pred = model.predict(X_test)\n",
    "\n",
    "# Calcular precisión\n",
    "accuracy = accuracy_score(Y_test, y_pred)\n",
    "print(\"Accuracy:\", accuracy)"
   ]
  },
  {
   "cell_type": "markdown",
   "metadata": {},
   "source": [
    "#### Con MLFlow"
   ]
  },
  {
   "cell_type": "code",
   "execution_count": 37,
   "metadata": {},
   "outputs": [
    {
     "name": "stdout",
     "output_type": "stream",
     "text": [
      "registrado\n",
      "Run ID: b1c138b6465c469db578c12d643cb68a\n",
      "info: <RunInfo: artifact_uri='file:///c:/Users/camil/OneDrive/Escritorio/Tesis/proyectos/main/mlruns/461236235277901954/b1c138b6465c469db578c12d643cb68a/artifacts', end_time=None, experiment_id='461236235277901954', lifecycle_stage='active', run_id='b1c138b6465c469db578c12d643cb68a', run_name='rogue-perch-260', run_uuid='b1c138b6465c469db578c12d643cb68a', start_time=1740524596835, status='RUNNING', user_id='Cami'>\n"
     ]
    },
    {
     "name": "stderr",
     "output_type": "stream",
     "text": [
      "Registered model 'logistic-regression-experiment' already exists. Creating a new version of this model...\n",
      "Created version '3' of model 'logistic-regression-experiment'.\n"
     ]
    }
   ],
   "source": [
    "from sklearn.linear_model import LogisticRegression\n",
    "from sklearn.metrics import accuracy_score, precision_score, recall_score, f1_score\n",
    "import mlflow\n",
    "from mlflow.models import infer_signature\n",
    "experiment_name = \"logistic_regression_experiment\"\n",
    "mlflow.set_experiment(experiment_name)\n",
    "\n",
    "# Definir parámetros del modelo\n",
    "params = {\n",
    "    \"solver\": \"lbfgs\",\n",
    "    \"max_iter\": 100,\n",
    "    \"random_state\": 42\n",
    "}\n",
    "\n",
    "with mlflow.start_run():\n",
    "    # Registrar parámetros\n",
    "    mlflow.log_params(params)\n",
    "\n",
    "    # Crear y entrenar el modelo\n",
    "    model = LogisticRegression(**params)\n",
    "    model.fit(X_train, Y_train)\n",
    "\n",
    "    # Hacer predicciones\n",
    "    y_pred = model.predict(X_test)\n",
    "\n",
    "    # Calcular métricas\n",
    "    accuracy = accuracy_score(Y_test, y_pred)\n",
    "    precision = precision_score(Y_test, y_pred, average=\"weighted\")\n",
    "    recall = recall_score(Y_test, y_pred, average=\"weighted\")\n",
    "    f1 = f1_score(Y_test, y_pred, average=\"weighted\")\n",
    "\n",
    "    # Registrar métricas\n",
    "    mlflow.log_metric(\"accuracy\", accuracy)\n",
    "    mlflow.log_metric(\"precision\", precision)\n",
    "    mlflow.log_metric(\"recall\", recall)\n",
    "    mlflow.log_metric(\"f1_score\", f1)\n",
    "\n",
    "    # Capturar firma del modelo\n",
    "    signature = infer_signature(X_train, model.predict(X_train))\n",
    "\n",
    "    # Registrar el modelo\n",
    "    mlflow.sklearn.log_model(\n",
    "    sk_model=model,\n",
    "    artifact_path=\"logistic_regression_model\",\n",
    "    signature=signature)\n",
    "\n",
    "    # Registrar el modelo en MLflow Model Registry\n",
    "    mlflow.register_model(\n",
    "        f\"runs:/{mlflow.active_run().info.run_id}/logistic_regression_model\",\n",
    "        \"logistic-regression-experiment\"\n",
    "    )\n",
    "    \n",
    "    print(\"registrado\")\n",
    "\n",
    "\n",
    "    print(f\"Run ID: {mlflow.active_run().info.run_id}\")  # Identificador único de este experimento\n",
    "\n",
    "    print(f\"info: {mlflow.active_run().info}\")"
   ]
  },
  {
   "cell_type": "markdown",
   "metadata": {},
   "source": [
    "High accuracy is not often a good thing in a machine learning model as it states the problem of imbalanced dataset"
   ]
  },
  {
   "cell_type": "code",
   "execution_count": 38,
   "metadata": {
    "execution": {
     "iopub.execute_input": "2023-09-05T17:49:05.736359Z",
     "iopub.status.busy": "2023-09-05T17:49:05.735998Z",
     "iopub.status.idle": "2023-09-05T17:49:06.012087Z",
     "shell.execute_reply": "2023-09-05T17:49:06.010590Z",
     "shell.execute_reply.started": "2023-09-05T17:49:05.736330Z"
    },
    "trusted": true
   },
   "outputs": [
    {
     "data": {
      "image/png": "[encoded data removed]",
      "text/plain": [
       "<Figure size 800x600 with 1 Axes>"
      ]
     },
     "metadata": {},
     "output_type": "display_data"
    }
   ],
   "source": [
    "import seaborn as sns\n",
    "import matplotlib.pyplot as plt\n",
    "\n",
    "# Assuming you have a DataFrame 'df' with a 'FraudIndicator' column\n",
    "# Load your data into the DataFrame if not already done\n",
    "\n",
    "# Create a count plot for the 'FraudIndicator' column\n",
    "plt.figure(figsize=(8, 6))  # Optional: Adjust the figure size\n",
    "sns.countplot(data=data1, x='FraudIndicator', palette='viridis')\n",
    "plt.title('Count Plot of Fraud Indicator')\n",
    "plt.xlabel('Fraud Indicator')\n",
    "plt.ylabel('Count')\n",
    "plt.show()\n"
   ]
  },
  {
   "cell_type": "markdown",
   "metadata": {},
   "source": [
    "#### Logistic regression using sampled Data"
   ]
  },
  {
   "cell_type": "code",
   "execution_count": 39,
   "metadata": {
    "execution": {
     "iopub.execute_input": "2023-09-05T17:49:06.015143Z",
     "iopub.status.busy": "2023-09-05T17:49:06.014137Z",
     "iopub.status.idle": "2023-09-05T17:49:06.393580Z",
     "shell.execute_reply": "2023-09-05T17:49:06.391907Z",
     "shell.execute_reply.started": "2023-09-05T17:49:06.015098Z"
    },
    "trusted": true
   },
   "outputs": [
    {
     "name": "stdout",
     "output_type": "stream",
     "text": [
      "Class distribution after oversampling: Counter({0: 955, 1: 955})\n"
     ]
    },
    {
     "data": {
      "image/png": "[encoded data removed]",
      "text/plain": [
       "<Figure size 800x600 with 1 Axes>"
      ]
     },
     "metadata": {},
     "output_type": "display_data"
    }
   ],
   "source": [
    "import pandas as pd\n",
    "import seaborn as sns\n",
    "import matplotlib.pyplot as plt\n",
    "from imblearn.over_sampling import SMOTE\n",
    "from collections import Counter\n",
    "\n",
    "# Initialize SMOTE for oversampling\n",
    "smote = SMOTE(random_state=42)\n",
    "\n",
    "# Apply SMOTE to the data\n",
    "X_resampled, y_resampled = smote.fit_resample(X, Y)\n",
    "\n",
    "# Check the class distribution after oversampling\n",
    "print(\"Class distribution after oversampling:\", Counter(y_resampled))\n",
    "\n",
    "# Create a count plot for the 'FraudIndicator' column after oversampling\n",
    "plt.figure(figsize=(8, 6))\n",
    "sns.countplot(data=pd.DataFrame({'FraudIndicator': y_resampled}), x='FraudIndicator', palette='viridis')\n",
    "plt.title('Count Plot of Fraud Indicator (After Oversampling)')\n",
    "plt.xlabel('Fraud Indicator')\n",
    "plt.ylabel('Count')\n",
    "plt.show()\n"
   ]
  },
  {
   "cell_type": "code",
   "execution_count": 40,
   "metadata": {
    "execution": {
     "iopub.execute_input": "2023-09-05T17:49:06.395978Z",
     "iopub.status.busy": "2023-09-05T17:49:06.395274Z",
     "iopub.status.idle": "2023-09-05T17:49:06.503824Z",
     "shell.execute_reply": "2023-09-05T17:49:06.502005Z",
     "shell.execute_reply.started": "2023-09-05T17:49:06.395938Z"
    },
    "trusted": true
   },
   "outputs": [
    {
     "name": "stdout",
     "output_type": "stream",
     "text": [
      "Model Evaluation Metrics:\n",
      "Accuracy: 0.56\n",
      "Precision: 0.047058823529411764\n",
      "Recall: 0.36363636363636365\n",
      "F1 Score: 0.08333333333333333\n",
      "Confusion Matrix:\n",
      "[[108  81]\n",
      " [  7   4]]\n"
     ]
    }
   ],
   "source": [
    "# Retraining Logistic regression using SAMPLED Data\n",
    "model = LogisticRegression()\n",
    "\n",
    "# Train the model on the training data\n",
    "model.fit(X_resampled, y_resampled)\n",
    "\n",
    "# Make predictions on the testing data\n",
    "y_pred = model.predict(X_test)\n",
    "\n",
    "# Calculate and print various metrics to evaluate the model's performance\n",
    "accuracy = accuracy_score(Y_test, y_pred)\n",
    "precision = precision_score(Y_test, y_pred)\n",
    "recall = recall_score(Y_test, y_pred)\n",
    "f1 = f1_score(Y_test, y_pred)\n",
    "confusion = confusion_matrix(Y_test, y_pred)\n",
    "\n",
    "print(\"Model Evaluation Metrics:\")\n",
    "print(\"Accuracy:\", accuracy)\n",
    "print(\"Precision:\", precision)\n",
    "print(\"Recall:\", recall)\n",
    "print(\"F1 Score:\", f1)\n",
    "print(\"Confusion Matrix:\")\n",
    "print(confusion)"
   ]
  },
  {
   "cell_type": "code",
   "execution_count": 41,
   "metadata": {},
   "outputs": [
    {
     "name": "stdout",
     "output_type": "stream",
     "text": [
      "Run ID: d4f37a0a5cfd45a493c6a772420efb12\n"
     ]
    },
    {
     "name": "stderr",
     "output_type": "stream",
     "text": [
      "Registered model 'logistic-regression-withSampleData-experiment' already exists. Creating a new version of this model...\n",
      "Created version '3' of model 'logistic-regression-withSampleData-experiment'.\n"
     ]
    }
   ],
   "source": [
    "# Logistic Regression model with Sample Data with Mlflow\n",
    "\n",
    "from sklearn.linear_model import LogisticRegression\n",
    "from sklearn.metrics import accuracy_score, precision_score, recall_score, f1_score\n",
    "\n",
    "# Iniciar un nuevo run en MLflow\n",
    "with mlflow.start_run():\n",
    "    model = LogisticRegression()\n",
    "\n",
    "    # Train the model on the training data\n",
    "    model.fit(X_resampled, y_resampled)\n",
    "\n",
    "    # Make predictions on the testing data\n",
    "    y_pred = model.predict(X_test)\n",
    "\n",
    "    # Calculate and print various metrics to evaluate the model's performance\n",
    "    accuracy = accuracy_score(Y_test, y_pred)\n",
    "    precision = precision_score(Y_test, y_pred, average=\"weighted\")\n",
    "    recall = recall_score(Y_test, y_pred, average=\"weighted\")\n",
    "    f1 = f1_score(Y_test, y_pred, average=\"weighted\")\n",
    "    confusion = confusion_matrix(Y_test, y_pred)\n",
    "\n",
    "    # Registrar métricas\n",
    "    mlflow.log_metric(\"accuracy\", accuracy)\n",
    "    mlflow.log_metric(\"precision\", precision)\n",
    "    mlflow.log_metric(\"recall\", recall)\n",
    "    mlflow.log_metric(\"f1_score\", f1)\n",
    "\n",
    "    # Capturar firma del modelo\n",
    "    signature = infer_signature(X_train, model.predict(X_train))\n",
    "\n",
    "    # Registrar el modelo\n",
    "    mlflow.sklearn.log_model(\n",
    "        sk_model=model,\n",
    "        artifact_path=\"logistic_regression_model_withSampleData\",\n",
    "        signature=signature,\n",
    "        registered_model_name=\"logistic-regression-withSampleData-experiment\"\n",
    "    )\n",
    "\n",
    "    print(f\"Run ID: {mlflow.active_run().info.run_id}\")  # Identificador único de este experimento"
   ]
  },
  {
   "cell_type": "markdown",
   "metadata": {},
   "source": [
    "#### Logistic Regression Model with Hyperparameter Tuning"
   ]
  },
  {
   "cell_type": "markdown",
   "metadata": {},
   "source": [
    "Encontrar los valores óptimos de los hiperparámetros de un modelo de aprendizaje automático para mejorar su rendimiento."
   ]
  },
  {
   "cell_type": "code",
   "execution_count": 42,
   "metadata": {
    "execution": {
     "iopub.execute_input": "2023-09-05T17:49:06.508125Z",
     "iopub.status.busy": "2023-09-05T17:49:06.506727Z",
     "iopub.status.idle": "2023-09-05T17:49:09.332905Z",
     "shell.execute_reply": "2023-09-05T17:49:09.331081Z",
     "shell.execute_reply.started": "2023-09-05T17:49:06.508049Z"
    },
    "trusted": true
   },
   "outputs": [
    {
     "name": "stdout",
     "output_type": "stream",
     "text": [
      "Best Hyperparameters: {'C': np.float64(100.0), 'penalty': 'l1', 'solver': 'liblinear'}\n",
      "Model Evaluation Metrics on Resampled Data:\n",
      "Accuracy: 0.6162303664921466\n",
      "Precision: 0.611\n",
      "Recall: 0.6397905759162303\n",
      "F1 Score: 0.6250639386189258\n",
      "Confusion Matrix:\n",
      "[[566 389]\n",
      " [344 611]]\n"
     ]
    }
   ],
   "source": [
    "import numpy as np\n",
    "from sklearn.model_selection import GridSearchCV\n",
    "from sklearn.linear_model import LogisticRegression\n",
    "\n",
    "# Define the logistic regression model\n",
    "model = LogisticRegression()\n",
    "\n",
    "# Define a range of hyperparameters to search\n",
    "param_grid = {\n",
    "    'penalty': ['l1', 'l2'],  # Regularization type\n",
    "    'C': np.logspace(-3, 3, 7),  # Inverse of regularization strength (smaller values for stronger regularization)\n",
    "    'solver': ['liblinear'],  # Solver for l1 regularization\n",
    "}\n",
    "\n",
    "# Create a grid search with cross-validation\n",
    "grid_search = GridSearchCV(model, param_grid, cv=5, scoring='f1', n_jobs=-1)\n",
    "\n",
    "# Fit the grid search to the data\n",
    "grid_search.fit(X_resampled, y_resampled)\n",
    "\n",
    "# Get the best hyperparameters and corresponding model\n",
    "best_params = grid_search.best_params_\n",
    "best_model = grid_search.best_estimator_\n",
    "\n",
    "# Print the best hyperparameters\n",
    "print(\"Best Hyperparameters:\", best_params)\n",
    "\n",
    "# Evaluate the best model on the resampled data\n",
    "y_pred = best_model.predict(X_resampled)\n",
    "\n",
    "# Calculate and print various metrics to evaluate the model's performance on the resampled data\n",
    "accuracy = accuracy_score(y_resampled, y_pred)\n",
    "precision = precision_score(y_resampled, y_pred)\n",
    "recall = recall_score(y_resampled, y_pred)\n",
    "f1 = f1_score(y_resampled, y_pred)\n",
    "confusion = confusion_matrix(y_resampled, y_pred)\n",
    "\n",
    "print(\"Model Evaluation Metrics on Resampled Data:\")\n",
    "print(\"Accuracy:\", accuracy)\n",
    "print(\"Precision:\", precision)\n",
    "print(\"Recall:\", recall)\n",
    "print(\"F1 Score:\", f1)\n",
    "print(\"Confusion Matrix:\")\n",
    "print(confusion)\n"
   ]
  },
  {
   "cell_type": "code",
   "execution_count": 43,
   "metadata": {
    "execution": {
     "iopub.execute_input": "2023-09-05T17:49:09.337748Z",
     "iopub.status.busy": "2023-09-05T17:49:09.336515Z",
     "iopub.status.idle": "2023-09-05T17:49:10.578006Z",
     "shell.execute_reply": "2023-09-05T17:49:10.576834Z",
     "shell.execute_reply.started": "2023-09-05T17:49:09.337685Z"
    },
    "trusted": true
   },
   "outputs": [
    {
     "name": "stdout",
     "output_type": "stream",
     "text": [
      "Results for Decision Tree Classifier:\n",
      "Accuracy: 0.8272251308900523\n",
      "Precision: 0.8131313131313131\n",
      "Recall: 0.8473684210526315\n",
      "F1 Score: 0.8298969072164949\n",
      "Confusion Matrix: [[155  37]\n",
      " [ 29 161]]\n",
      "\n",
      "Results for Random Forest Classifier:\n",
      "Accuracy: 0.9345549738219895\n",
      "Precision: 0.9187817258883249\n",
      "Recall: 0.9526315789473684\n",
      "F1 Score: 0.9354005167958657\n",
      "Confusion Matrix: [[176  16]\n",
      " [  9 181]]\n",
      "\n",
      "Results for Support Vector Machine (SVM):\n",
      "Accuracy: 0.6073298429319371\n",
      "Precision: 0.6333333333333333\n",
      "Recall: 0.5\n",
      "F1 Score: 0.5588235294117647\n",
      "Confusion Matrix: [[137  55]\n",
      " [ 95  95]]\n",
      "\n",
      "Results for K-Nearest Neighbors (KNN):\n",
      "Accuracy: 0.819371727748691\n",
      "Precision: 0.759656652360515\n",
      "Recall: 0.9315789473684211\n",
      "F1 Score: 0.8368794326241135\n",
      "Confusion Matrix: [[136  56]\n",
      " [ 13 177]]\n",
      "\n",
      "Results for Gradient Boosting Classifier:\n",
      "Accuracy: 0.8403141361256544\n",
      "Precision: 0.7972350230414746\n",
      "Recall: 0.9105263157894737\n",
      "F1 Score: 0.8501228501228502\n",
      "Confusion Matrix: [[148  44]\n",
      " [ 17 173]]\n",
      "\n"
     ]
    }
   ],
   "source": [
    "from sklearn.metrics import accuracy_score, precision_score, recall_score, f1_score, confusion_matrix\n",
    "from sklearn.model_selection import train_test_split\n",
    "from sklearn.tree import DecisionTreeClassifier\n",
    "from sklearn.ensemble import RandomForestClassifier, GradientBoostingClassifier\n",
    "from sklearn.svm import SVC\n",
    "from sklearn.neighbors import KNeighborsClassifier\n",
    "\n",
    "def evaluate_classification_models(X_resampled, y_resampled):\n",
    "    # Split the resampled data into training and testing sets\n",
    "    X_train, X_test, y_train, y_test = train_test_split(X_resampled, y_resampled, test_size=0.2, random_state=42)\n",
    "    \n",
    "    # Define a dictionary of classification models\n",
    "    models = {\n",
    "        \"Decision Tree Classifier\": DecisionTreeClassifier(),\n",
    "        \"Random Forest Classifier\": RandomForestClassifier(),\n",
    "        \"Support Vector Machine (SVM)\": SVC(),\n",
    "        \"K-Nearest Neighbors (KNN)\": KNeighborsClassifier(),\n",
    "        \"Gradient Boosting Classifier\": GradientBoostingClassifier()\n",
    "    }\n",
    "    \n",
    "    results = {}\n",
    "    \n",
    "    for model_name, model in models.items():\n",
    "        # Train the model\n",
    "        model.fit(X_train, y_train)\n",
    "        \n",
    "        # Make predictions\n",
    "        y_pred = model.predict(X_test)\n",
    "        \n",
    "        # Calculate and store various metrics\n",
    "        accuracy = accuracy_score(y_test, y_pred)\n",
    "        precision = precision_score(y_test, y_pred)\n",
    "        recall = recall_score(y_test, y_pred)\n",
    "        f1 = f1_score(y_test, y_pred)\n",
    "        confusion = confusion_matrix(y_test, y_pred)\n",
    "        \n",
    "        results[model_name] = {\n",
    "            \"Accuracy\": accuracy,\n",
    "            \"Precision\": precision,\n",
    "            \"Recall\": recall,\n",
    "            \"F1 Score\": f1,\n",
    "            \"Confusion Matrix\": confusion\n",
    "        }\n",
    "    \n",
    "    return results\n",
    "\n",
    "results = evaluate_classification_models(X_resampled, y_resampled)\n",
    "for model_name, model_result in results.items():\n",
    "     print(f\"Results for {model_name}:\")\n",
    "     for metric, value in model_result.items():\n",
    "         print(f\"{metric}: {value}\")\n",
    "     print()\n"
   ]
  },
  {
   "cell_type": "markdown",
   "metadata": {},
   "source": [
    "### XGBoost"
   ]
  },
  {
   "cell_type": "code",
   "execution_count": null,
   "metadata": {},
   "outputs": [
    {
     "name": "stdout",
     "output_type": "stream",
     "text": [
      "Fitting 3 folds for each of 108 candidates, totalling 324 fits\n",
      "Mejores hiperparámetros: {'colsample_bytree': 0.8, 'learning_rate': 0.01, 'max_depth': 3, 'n_estimators': 100, 'subsample': 0.8}\n",
      "Accuracy con la mejor configuración: 0.945\n"
     ]
    }
   ],
   "source": [
    "import mlflow\n",
    "import mlflow.xgboost\n",
    "import xgboost as xgb\n",
    "from sklearn.model_selection import train_test_split, GridSearchCV\n",
    "from sklearn.metrics import accuracy_score, precision_score, recall_score, f1_score, confusion_matrix\n",
    "\n",
    "# Dividir los datos en entrenamiento y prueba (80%-20%)\n",
    "X_train, X_test, Y_train, Y_test = train_test_split(X, Y, test_size=0.2, random_state=42)\n",
    "\n",
    "# Definir los hiperparámetros a probar\n",
    "param_grid = {\n",
    "    'n_estimators': [100, 200, 300],  # Número de árboles\n",
    "    'learning_rate': [0.01, 0.1, 0.2],  # Tasa de aprendizaje\n",
    "    'max_depth': [3, 5, 7],  # Profundidad máxima de los árboles\n",
    "    'subsample': [0.8, 1],  # Fracción de datos usada en cada árbol\n",
    "    'colsample_bytree': [0.8, 1]  # Fracción de columnas usada en cada árbol\n",
    "}\n",
    "\n",
    "# Crear el modelo base\n",
    "xgb_model = xgb.XGBClassifier(use_label_encoder=False, eval_metric='logloss')\n",
    "\n",
    "# Iniciar un experimento en MLflow\n",
    "mlflow.set_experiment(\"XGBoost_GridSearch\")\n",
    "\n",
    "with mlflow.start_run():\n",
    "    # Grid Search con validación cruzada\n",
    "    grid_search = GridSearchCV(xgb_model, param_grid, scoring='accuracy', cv=3, verbose=1, n_jobs=-1)\n",
    "    \n",
    "    # Entrenar con distintas configuraciones\n",
    "    grid_search.fit(X_train, Y_train)\n",
    "    \n",
    "    # Obtener la mejor configuración\n",
    "    best_params = grid_search.best_params_\n",
    "    print(\"Mejores hiperparámetros:\", best_params)\n",
    "\n",
    "    # Evaluar el modelo con la mejor configuración\n",
    "    best_model = grid_search.best_estimator_\n",
    "    y_pred = best_model.predict(X_test)\n",
    "\n",
    "    # Calcular métricas\n",
    "    accuracy = accuracy_score(Y_test, y_pred)\n",
    "    precision = precision_score(Y_test, y_pred, average=\"weighted\")\n",
    "    recall = recall_score(Y_test, y_pred, average=\"weighted\")\n",
    "    f1 = f1_score(Y_test, y_pred, average=\"weighted\")\n",
    "\n",
    "    print(\"Accuracy:\", accuracy)\n",
    "\n",
    "    # Registrar parámetros y métricas en MLflow\n",
    "    mlflow.log_params(best_params)\n",
    "    mlflow.log_metric(\"accuracy\", accuracy)\n",
    "    mlflow.log_metric(\"precision\", precision)\n",
    "    mlflow.log_metric(\"recall\", recall)\n",
    "    mlflow.log_metric(\"f1_score\", f1)\n",
    "\n",
    "    # Guardar el modelo en MLflow\n",
    "    mlflow.xgboost.log_model(best_model, \"xgboost_model\")\n"
   ]
  },
  {
   "cell_type": "markdown",
   "metadata": {},
   "source": [
    "# Ranking Models perfromance\n",
    "1. Random Forest Classifier\n",
    "2. Gradient Boosting Algorithm\n",
    "3. Decision Tree Classifier\n",
    "4. K-Nearest Neighbours\n",
    "5. Support Vector Machine (SVC)\n",
    "6. Logistic Regression"
   ]
  },
  {
   "cell_type": "markdown",
   "metadata": {},
   "source": [
    "Now we can HyperParameterTune the"
   ]
  },
  {
   "cell_type": "markdown",
   "metadata": {},
   "source": [
    "## RandomForest CLassifier"
   ]
  },
  {
   "cell_type": "code",
   "execution_count": 45,
   "metadata": {
    "execution": {
     "iopub.execute_input": "2023-09-05T17:49:10.580165Z",
     "iopub.status.busy": "2023-09-05T17:49:10.579814Z",
     "iopub.status.idle": "2023-09-05T17:50:34.414384Z",
     "shell.execute_reply": "2023-09-05T17:50:34.412168Z",
     "shell.execute_reply.started": "2023-09-05T17:49:10.580135Z"
    },
    "trusted": true
   },
   "outputs": [
    {
     "name": "stdout",
     "output_type": "stream",
     "text": [
      "Best Hyperparameters: {'max_depth': 30, 'min_samples_leaf': 1, 'min_samples_split': 2, 'n_estimators': 150}\n",
      "Best Model Evaluation Metrics:\n",
      "Accuracy: 0.9293193717277487\n",
      "Precision: 0.9014778325123153\n",
      "Recall: 0.9631578947368421\n",
      "F1 Score: 0.9312977099236641\n",
      "Confusion Matrix:\n",
      "[[172  20]\n",
      " [  7 183]]\n"
     ]
    }
   ],
   "source": [
    "from sklearn.model_selection import train_test_split, GridSearchCV\n",
    "from sklearn.ensemble import RandomForestClassifier\n",
    "from sklearn.metrics import accuracy_score, precision_score, recall_score, f1_score, confusion_matrix\n",
    "\n",
    "# Split the data into training and testing sets\n",
    "X_train, X_test, y_train, y_test = train_test_split(X_resampled, y_resampled, test_size=0.2, random_state=42)\n",
    "\n",
    "# Define the Random Forest Classifier model\n",
    "rf_model = RandomForestClassifier(random_state=42)\n",
    "\n",
    "# Define a range of hyperparameters to search\n",
    "param_grid = {\n",
    "    'n_estimators': [50, 100, 150],  # Number of trees in the forest\n",
    "    'max_depth': [None, 10, 20, 30],  # Maximum depth of the trees\n",
    "    'min_samples_split': [2, 5, 10],  # Minimum number of samples required to split an internal node\n",
    "    'min_samples_leaf': [1, 2, 4],  # Minimum number of samples required to be at a leaf node\n",
    "}\n",
    "\n",
    "# Create a grid search with cross-validation\n",
    "grid_search = GridSearchCV(rf_model, param_grid, cv=5, scoring='f1', n_jobs=-1)\n",
    "\n",
    "# Fit the grid search to the resampled data\n",
    "grid_search.fit(X_train, y_train)\n",
    "\n",
    "# Get the best hyperparameters and corresponding model\n",
    "best_params = grid_search.best_params_\n",
    "best_rf_model = grid_search.best_estimator_\n",
    "\n",
    "# Print the best hyperparameters\n",
    "print(\"Best Hyperparameters:\", best_params)\n",
    "\n",
    "# Train the best model on the training data\n",
    "best_rf_model.fit(X_train, y_train)\n",
    "\n",
    "# Make predictions on the testing data\n",
    "y_pred = best_rf_model.predict(X_test)\n",
    "\n",
    "# Calculate and print various metrics to evaluate the best model's performance\n",
    "accuracy = accuracy_score(y_test, y_pred)\n",
    "precision = precision_score(y_test, y_pred)\n",
    "recall = recall_score(y_test, y_pred)\n",
    "f1 = f1_score(y_test, y_pred)\n",
    "confusion = confusion_matrix(y_test, y_pred)\n",
    "\n",
    "print(\"Best Model Evaluation Metrics:\")\n",
    "print(\"Accuracy:\", accuracy)\n",
    "print(\"Precision:\", precision)\n",
    "print(\"Recall:\", recall)\n",
    "print(\"F1 Score:\", f1)\n",
    "print(\"Confusion Matrix:\")\n",
    "print(confusion)\n"
   ]
  },
  {
   "cell_type": "markdown",
   "metadata": {},
   "source": []
  },
  {
   "cell_type": "code",
   "execution_count": 46,
   "metadata": {},
   "outputs": [
    {
     "name": "stdout",
     "output_type": "stream",
     "text": [
      "Epoch 1/20\n",
      "\u001b[1m39/39\u001b[0m \u001b[32m━━━━━━━━━━━━━━━━━━━━\u001b[0m\u001b[37m\u001b[0m \u001b[1m2s\u001b[0m 7ms/step - accuracy: 0.5900 - loss: 0.6655 - val_accuracy: 0.6601 - val_loss: 0.6148\n",
      "Epoch 2/20\n",
      "\u001b[1m39/39\u001b[0m \u001b[32m━━━━━━━━━━━━━━━━━━━━\u001b[0m\u001b[37m\u001b[0m \u001b[1m0s\u001b[0m 3ms/step - accuracy: 0.6226 - loss: 0.6161 - val_accuracy: 0.7124 - val_loss: 0.5842\n",
      "Epoch 3/20\n",
      "\u001b[1m39/39\u001b[0m \u001b[32m━━━━━━━━━━━━━━━━━━━━\u001b[0m\u001b[37m\u001b[0m \u001b[1m0s\u001b[0m 2ms/step - accuracy: 0.6863 - loss: 0.5781 - val_accuracy: 0.7386 - val_loss: 0.5666\n",
      "Epoch 4/20\n",
      "\u001b[1m39/39\u001b[0m \u001b[32m━━━━━━━━━━━━━━━━━━━━\u001b[0m\u001b[37m\u001b[0m \u001b[1m0s\u001b[0m 2ms/step - accuracy: 0.6886 - loss: 0.5628 - val_accuracy: 0.7614 - val_loss: 0.5467\n",
      "Epoch 5/20\n",
      "\u001b[1m39/39\u001b[0m \u001b[32m━━━━━━━━━━━━━━━━━━━━\u001b[0m\u001b[37m\u001b[0m \u001b[1m0s\u001b[0m 2ms/step - accuracy: 0.7159 - loss: 0.5298 - val_accuracy: 0.7712 - val_loss: 0.5322\n",
      "Epoch 6/20\n",
      "\u001b[1m39/39\u001b[0m \u001b[32m━━━━━━━━━━━━━━━━━━━━\u001b[0m\u001b[37m\u001b[0m \u001b[1m0s\u001b[0m 2ms/step - accuracy: 0.7557 - loss: 0.5065 - val_accuracy: 0.7908 - val_loss: 0.5131\n",
      "Epoch 7/20\n",
      "\u001b[1m39/39\u001b[0m \u001b[32m━━━━━━━━━━━━━━━━━━━━\u001b[0m\u001b[37m\u001b[0m \u001b[1m0s\u001b[0m 3ms/step - accuracy: 0.7650 - loss: 0.4871 - val_accuracy: 0.7974 - val_loss: 0.5090\n",
      "Epoch 8/20\n",
      "\u001b[1m39/39\u001b[0m \u001b[32m━━━━━━━━━━━━━━━━━━━━\u001b[0m\u001b[37m\u001b[0m \u001b[1m0s\u001b[0m 2ms/step - accuracy: 0.7704 - loss: 0.4782 - val_accuracy: 0.7908 - val_loss: 0.4991\n",
      "Epoch 9/20\n",
      "\u001b[1m39/39\u001b[0m \u001b[32m━━━━━━━━━━━━━━━━━━━━\u001b[0m\u001b[37m\u001b[0m \u001b[1m0s\u001b[0m 2ms/step - accuracy: 0.7958 - loss: 0.4586 - val_accuracy: 0.7745 - val_loss: 0.4983\n",
      "Epoch 10/20\n",
      "\u001b[1m39/39\u001b[0m \u001b[32m━━━━━━━━━━━━━━━━━━━━\u001b[0m\u001b[37m\u001b[0m \u001b[1m0s\u001b[0m 2ms/step - accuracy: 0.7912 - loss: 0.4547 - val_accuracy: 0.8039 - val_loss: 0.4933\n",
      "Epoch 11/20\n",
      "\u001b[1m39/39\u001b[0m \u001b[32m━━━━━━━━━━━━━━━━━━━━\u001b[0m\u001b[37m\u001b[0m \u001b[1m0s\u001b[0m 3ms/step - accuracy: 0.8298 - loss: 0.4137 - val_accuracy: 0.7941 - val_loss: 0.4924\n",
      "Epoch 12/20\n",
      "\u001b[1m39/39\u001b[0m \u001b[32m━━━━━━━━━━━━━━━━━━━━\u001b[0m\u001b[37m\u001b[0m \u001b[1m0s\u001b[0m 2ms/step - accuracy: 0.8168 - loss: 0.4084 - val_accuracy: 0.8007 - val_loss: 0.4838\n",
      "Epoch 13/20\n",
      "\u001b[1m39/39\u001b[0m \u001b[32m━━━━━━━━━━━━━━━━━━━━\u001b[0m\u001b[37m\u001b[0m \u001b[1m0s\u001b[0m 2ms/step - accuracy: 0.8291 - loss: 0.4152 - val_accuracy: 0.8137 - val_loss: 0.4854\n",
      "Epoch 14/20\n",
      "\u001b[1m39/39\u001b[0m \u001b[32m━━━━━━━━━━━━━━━━━━━━\u001b[0m\u001b[37m\u001b[0m \u001b[1m0s\u001b[0m 2ms/step - accuracy: 0.8320 - loss: 0.3818 - val_accuracy: 0.8333 - val_loss: 0.4824\n",
      "Epoch 15/20\n",
      "\u001b[1m39/39\u001b[0m \u001b[32m━━━━━━━━━━━━━━━━━━━━\u001b[0m\u001b[37m\u001b[0m \u001b[1m0s\u001b[0m 2ms/step - accuracy: 0.8499 - loss: 0.3630 - val_accuracy: 0.8431 - val_loss: 0.4752\n",
      "Epoch 16/20\n",
      "\u001b[1m39/39\u001b[0m \u001b[32m━━━━━━━━━━━━━━━━━━━━\u001b[0m\u001b[37m\u001b[0m \u001b[1m0s\u001b[0m 2ms/step - accuracy: 0.8521 - loss: 0.3751 - val_accuracy: 0.8497 - val_loss: 0.4770\n",
      "Epoch 17/20\n",
      "\u001b[1m39/39\u001b[0m \u001b[32m━━━━━━━━━━━━━━━━━━━━\u001b[0m\u001b[37m\u001b[0m \u001b[1m0s\u001b[0m 2ms/step - accuracy: 0.8344 - loss: 0.3716 - val_accuracy: 0.8431 - val_loss: 0.4878\n",
      "Epoch 18/20\n",
      "\u001b[1m39/39\u001b[0m \u001b[32m━━━━━━━━━━━━━━━━━━━━\u001b[0m\u001b[37m\u001b[0m \u001b[1m0s\u001b[0m 2ms/step - accuracy: 0.8428 - loss: 0.3730 - val_accuracy: 0.8562 - val_loss: 0.4830\n",
      "Epoch 19/20\n",
      "\u001b[1m39/39\u001b[0m \u001b[32m━━━━━━━━━━━━━━━━━━━━\u001b[0m\u001b[37m\u001b[0m \u001b[1m0s\u001b[0m 2ms/step - accuracy: 0.8588 - loss: 0.3549 - val_accuracy: 0.8529 - val_loss: 0.4820\n",
      "Epoch 20/20\n",
      "\u001b[1m39/39\u001b[0m \u001b[32m━━━━━━━━━━━━━━━━━━━━\u001b[0m\u001b[37m\u001b[0m \u001b[1m0s\u001b[0m 2ms/step - accuracy: 0.8419 - loss: 0.3709 - val_accuracy: 0.8497 - val_loss: 0.4746\n",
      "\u001b[1m12/12\u001b[0m \u001b[32m━━━━━━━━━━━━━━━━━━━━\u001b[0m\u001b[37m\u001b[0m \u001b[1m0s\u001b[0m 2ms/step - accuracy: 0.8540 - loss: 0.4752\n",
      "Accuracy (DNN): 0.8612565398216248\n"
     ]
    }
   ],
   "source": [
    "from tensorflow.keras.models import Sequential\n",
    "from tensorflow.keras.layers import Dense, Dropout\n",
    "from sklearn.preprocessing import StandardScaler\n",
    "\n",
    "# Split the data into training and testing sets\n",
    "X_train, X_test, y_train, y_test = train_test_split(X_resampled, y_resampled, test_size=0.2, random_state=42)\n",
    "\n",
    "# Escalar los datos (importante para redes neuronales)\n",
    "scaler = StandardScaler()\n",
    "X_train_scaled = scaler.fit_transform(X_train)\n",
    "X_test_scaled = scaler.transform(X_test)\n",
    "\n",
    "# Crear la red neuronal\n",
    "model = Sequential([\n",
    "    Dense(128, activation='relu', input_dim=X_train_scaled.shape[1]),\n",
    "    Dropout(0.3),\n",
    "    Dense(64, activation='relu'),\n",
    "    Dropout(0.3),\n",
    "    Dense(1, activation='sigmoid')  # Para clasificación binaria\n",
    "])\n",
    "\n",
    "# Compilar el modelo\n",
    "model.compile(optimizer='adam', loss='binary_crossentropy', metrics=['accuracy'])\n",
    "\n",
    "# Entrenar\n",
    "history = model.fit(X_train_scaled, y_train, validation_split=0.2, epochs=20, batch_size=32)\n",
    "\n",
    "# Evaluar\n",
    "accuracy = model.evaluate(X_test_scaled, y_test)\n",
    "print(\"Accuracy (DNN):\", accuracy[1])"
   ]
  },
  {
   "cell_type": "code",
   "execution_count": 47,
   "metadata": {},
   "outputs": [
    {
     "name": "stdout",
     "output_type": "stream",
     "text": [
      "Random Forest Metrics:\n",
      "              precision    recall  f1-score   support\n",
      "\n",
      "           0       0.96      0.90      0.93       192\n",
      "           1       0.90      0.96      0.93       190\n",
      "\n",
      "    accuracy                           0.93       382\n",
      "   macro avg       0.93      0.93      0.93       382\n",
      "weighted avg       0.93      0.93      0.93       382\n",
      "\n",
      "ROC-AUC: 0.9294956140350877\n",
      "\u001b[1m12/12\u001b[0m \u001b[32m━━━━━━━━━━━━━━━━━━━━\u001b[0m\u001b[37m\u001b[0m \u001b[1m0s\u001b[0m 4ms/step \n",
      "Neural Network Metrics:\n",
      "              precision    recall  f1-score   support\n",
      "\n",
      "           0       0.95      0.77      0.85       192\n",
      "           1       0.80      0.96      0.87       190\n",
      "\n",
      "    accuracy                           0.86       382\n",
      "   macro avg       0.88      0.86      0.86       382\n",
      "weighted avg       0.88      0.86      0.86       382\n",
      "\n",
      "ROC-AUC: 0.8617598684210526\n"
     ]
    }
   ],
   "source": [
    "from sklearn.metrics import classification_report, roc_auc_score\n",
    "\n",
    "# Random Forest\n",
    "y_pred_rf = best_rf_model.predict(X_test)\n",
    "print(\"Random Forest Metrics:\")\n",
    "print(classification_report(y_test, y_pred_rf))\n",
    "print(\"ROC-AUC:\", roc_auc_score(y_test, y_pred_rf))\n",
    "\n",
    "# Red Neuronal\n",
    "y_pred_nn = (model.predict(X_test_scaled) > 0.5).astype(int)\n",
    "print(\"Neural Network Metrics:\")\n",
    "print(classification_report(y_test, y_pred_nn))\n",
    "print(\"ROC-AUC:\", roc_auc_score(y_test, y_pred_nn))\n"
   ]
  }
 ],
 "metadata": {
  "kernelspec": {
   "display_name": "Python 3",
   "language": "python",
   "name": "python3"
  },
  "language_info": {
   "codemirror_mode": {
    "name": "ipython",
    "version": 3
   },
   "file_extension": ".py",
   "mimetype": "text/x-python",
   "name": "python",
   "nbconvert_exporter": "python",
   "pygments_lexer": "ipython3",
   "version": "3.12.1"
  }
 },
 "nbformat": 4,
 "nbformat_minor": 4
}
